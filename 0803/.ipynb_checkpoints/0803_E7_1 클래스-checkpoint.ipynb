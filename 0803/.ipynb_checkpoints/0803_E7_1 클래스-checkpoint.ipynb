{
 "cells": [
  {
   "cell_type": "markdown",
   "metadata": {},
   "source": [
    "파이썬에서 개발자가 객체를 직접 설계하기 위해서는 class 키워드를 이용합니다. 기본 클래스 문법을 익혀 보겠습니다."
   ]
  },
  {
   "cell_type": "code",
   "execution_count": 1,
   "metadata": {},
   "outputs": [
    {
     "name": "stdout",
     "output_type": "stream",
     "text": [
      "94144450744480\n",
      "94144450744480\n",
      "140062053343184\n",
      "140062053359952\n",
      "<class 'type'>\n",
      "<class '__main__.Car'>\n"
     ]
    }
   ],
   "source": [
    "#클래스 선언\n",
    "\n",
    "class Car:\n",
    "    pass\n",
    "\n",
    "class Car():\n",
    "    pass\n",
    "\n",
    "#id(Car)는 여러번 호출해도 같은 값이 얻어집니다. \n",
    "print(id(Car))\n",
    "print(id(Car))\n",
    "\n",
    "#id(Car())는 Car()가 호출될 때마다 다른 값이 얻어집니다. \n",
    "print(id(Car()))\n",
    "print(id(Car()))\n",
    "\n",
    "# 두 객체의 type을 살펴봅니다. \n",
    "print(type(Car))\n",
    "print(type(Car()))"
   ]
  },
  {
   "cell_type": "markdown",
   "metadata": {},
   "source": [
    "이처럼 클래스 선언은 class 키워드를 이용합니다.  \n",
    "class 키워드를 쓰고 클래스 이름을 쓴 다음 :(콜론)을 씁니다. 클래스 이름 다음에 소괄호를 적어 주어도 되지만 보통은 생략합니다.\n",
    "\n",
    "위 코드에서 보면, Car라는 클래스에도 자체도 객체이고, Car()를 호출할 때마다 새로운 Car 타입의 객체가 생성됩니다.  \n",
    "둘다 id가 존재하기 때문입니다.  \n",
    "그러나, id(Car)의 값은 몇번 호출되더라도 동일하지만 id(Car())는 호출될 때마다 다른 id값을 가진다는 것도 알 수 있습니다.\n",
    "\n",
    "Car라는 클래스는 type 유형의 객체입니다. Car()가 호출될 때 Car 타입의 객체가 생성됩니다."
   ]
  },
  {
   "cell_type": "code",
   "execution_count": 2,
   "metadata": {},
   "outputs": [],
   "source": [
    "# 클래스 사용 - 객체 인스턴스화"
   ]
  },
  {
   "cell_type": "markdown",
   "metadata": {},
   "source": [
    "클래스를 이용하려면 클래스로 객체를 만들어 주어야 하는데요. 이를 \"인스턴스화\"라고 합니다.\n",
    "\n",
    "인스턴스화는 어떻게 할까요? 선언한 클래스 이름에 괄호를 적어 줍니다. 그리고 생성된 인스턴스를 적당한 변수에 할당해서 사용합니다."
   ]
  },
  {
   "cell_type": "code",
   "execution_count": 3,
   "metadata": {},
   "outputs": [
    {
     "name": "stdout",
     "output_type": "stream",
     "text": [
      "140062053361168\n",
      "140062053360400\n"
     ]
    }
   ],
   "source": [
    "mycar = Car()\n",
    "mycar2 = Car()\n",
    "print(id(mycar))\n",
    "print(id(mycar2))"
   ]
  },
  {
   "cell_type": "markdown",
   "metadata": {},
   "source": [
    "클래스명에 괄호를 추가해 객체를 만든 후, mycar와 mycar2란 변수에 이 객체를 할당했습니다.  \n",
    "mycar 변수에 Car 클래스의 인스턴스를 할당한 것입니다. 종종 \"클래스를 호출(call)했다\"라는 표현을 쓰기도 합니다.  \n",
    "위 코드에서는 인스턴스가 생성될 때마다 객체를 할당받은 변수들에게 다른 id가 부여되는 것을 알 수 있습니다."
   ]
  },
  {
   "cell_type": "markdown",
   "metadata": {},
   "source": [
    "## 클래스의 속성과 메소드\n",
    "\n",
    "앞서 클래스는 개발자가 객체를 설계하기 위한 것이라고 했습니다. 그리고 맨 처음에 객체에는 속성과 메소드가 있다고 배웠습니다.  \n",
    "그럼 클래스에서 속성과 메소드를 구현할 수 있어야겠죠?  \n",
    "\n",
    "클래스의 속성은 상태(state)를 표현합니다. 속성은 변수로 나타냅니다.  \n",
    "클래스의 메소드는 동작(behavior)을 표현합니다. 메소드는 def 키워드로 나타냅니다.  \n",
    "그럼 이어서 Car 클래스를 계속 코딩하도록 하겠습니다.  \n",
    "색상은 \"red\", 종류는 \"sports car\"라는 속성을 갖고 주행과 가속이라는 동작을 갖는 클래스를 정의해 보겠습니다.  \n",
    "\n",
    "먼저 간단하게 손코딩으로 해볼게요.  \n",
    "\n",
    "속성 은 변수로 선언한다고 했으니 아래와 같이 선언하겠습니다.  \n",
    "\n",
    "color = 'red'  \n",
    "category = 'sports car'  \n",
    "동작 은 다른 말로 메소드이고 메소드는 def 키워드를 사용한다고 했습니다. 다음과 같이 선언해 봅시다.  \n",
    "def driving():  \n",
    "    pass\n",
    "\n",
    "def accel():  \n",
    "    pass"
   ]
  },
  {
   "cell_type": "markdown",
   "metadata": {},
   "source": [
    "Car 클래스에 우리가 원하는 속성과 동작을 담아보겠습니다."
   ]
  },
  {
   "cell_type": "code",
   "execution_count": 4,
   "metadata": {},
   "outputs": [],
   "source": [
    "class Car:\n",
    "    color = 'red'\n",
    "    category = 'sports car'\n",
    "\n",
    "    def drive(self):\n",
    "        print(\"I'm driving\")\n",
    "\n",
    "    def accel(self, speed_up, current_speed=10):\n",
    "        self.speed_up = speed_up\n",
    "        self.current_speed = current_speed + speed_up\n",
    "        print(\"speed up\", self.speed_up, \"driving at\", self.current_speed)"
   ]
  },
  {
   "cell_type": "markdown",
   "metadata": {},
   "source": [
    "코드 설명\n",
    "\n",
    "코드를 다시 보면서 주석과 아래의 설명을 비교해보세요."
   ]
  },
  {
   "cell_type": "code",
   "execution_count": null,
   "metadata": {},
   "outputs": [],
   "source": [
    "# Car 클래스입니다.\n",
    "class Car:\n",
    "'''\n",
    "속성은 클래스의 상태를 나타냅니다.\n",
    "색상: 빨강\n",
    "종류: 스포츠 카\n",
    "'''\n",
    "    color = 'red'\n",
    "    category = 'sports car'\n",
    "'''\n",
    "동작은 메서드로 나타냅니다.\n",
    "'''\n",
    "    def drive(self):\n",
    "        '''\n",
    "        주행 메서드\n",
    "        '''\n",
    "        print(\"I'm driving\")\n",
    "\n",
    "    def accel(self, speed_up, current_speed=10):\n",
    "        '''\n",
    "        가속 메서드\n",
    "        :param speed_up: 현재속도\n",
    "        :param current_speed: 가속\n",
    "        :type speed_up: string\n",
    "        :type current_speed: string\n",
    "        '''\n",
    "        self.speed_up = speed_up\n",
    "        self.current_speed = current_speed + speed_up\n",
    "        print(\"speed up\", self.speed_up, \"driving at\", self.current_speed)"
   ]
  },
  {
   "cell_type": "markdown",
   "metadata": {},
   "source": [
    "- 속성  \n",
    "클래스의 상태는 속성이라고 부르며, 변수로 선언합니다.  \n",
    "color에는 'red'를 category에는 'sports car'를 할당합니다.  \n",
    "- 메서드  \n",
    "동작은 메서드로 나타내고 메서드 선언은 함수와 똑같이 def 키워드를 이용합니다.  \n",
    "클래스의 메서드는 첫번째 인자는 self 값을 적어 주어야 합니다. (self 에 대한 설명은 나중에 하겠습니다)  \n",
    "주행은 drive() 라는 메서드명으로 정의하고 self외에 인자는 없습니다.  \n",
    "가속은 accel() 라는 메서드명으로 정의하고 현재 속도와 가속할 값을 인자로 받습니다.  \n",
    "현재속도 인자명 = current_speed, 가속 인자명 = speed_up  \n",
    "accel 메소드에 self.speed_up, self.current_speed 를 인자로 줍니다.  \n",
    "코드 설명 부분중에 익숙지 않은 내용도 있을 겁니다. 일단 속성과 메소드 사용법부터 설명하고 나머지 부분을 추가로 설명하겠습니다.  "
   ]
  },
  {
   "cell_type": "markdown",
   "metadata": {},
   "source": [
    "## 클래스의 속성과 메소드 사용"
   ]
  },
  {
   "cell_type": "markdown",
   "metadata": {},
   "source": [
    "속성  \n",
    "\n",
    "클래스의 속성과 메소드를 사용해 봅시다. 클래스의 속성에 접근하기 위해서는 인스턴스 객체에 .을 쓰고 그 뒤에 속성명을 적습니다."
   ]
  },
  {
   "cell_type": "code",
   "execution_count": 6,
   "metadata": {},
   "outputs": [
    {
     "name": "stdout",
     "output_type": "stream",
     "text": [
      "red\n"
     ]
    }
   ],
   "source": [
    "mycar = Car()\n",
    "print(mycar.color)"
   ]
  },
  {
   "cell_type": "code",
   "execution_count": 7,
   "metadata": {},
   "outputs": [
    {
     "ename": "AttributeError",
     "evalue": "'Car' object has no attribute 'price'",
     "output_type": "error",
     "traceback": [
      "\u001b[0;31m---------------------------------------------------------------------------\u001b[0m",
      "\u001b[0;31mAttributeError\u001b[0m                            Traceback (most recent call last)",
      "\u001b[0;32m<ipython-input-7-914baee49c57>\u001b[0m in \u001b[0;36m<module>\u001b[0;34m\u001b[0m\n\u001b[1;32m      1\u001b[0m \u001b[0;31m#아래 코드처럼 없는 속성값에 접근하면 에러가 발생합니다.\u001b[0m\u001b[0;34m\u001b[0m\u001b[0;34m\u001b[0m\u001b[0;34m\u001b[0m\u001b[0m\n\u001b[0;32m----> 2\u001b[0;31m \u001b[0mmycar\u001b[0m\u001b[0;34m.\u001b[0m\u001b[0mprice\u001b[0m\u001b[0;34m\u001b[0m\u001b[0;34m\u001b[0m\u001b[0m\n\u001b[0m",
      "\u001b[0;31mAttributeError\u001b[0m: 'Car' object has no attribute 'price'"
     ]
    }
   ],
   "source": [
    "#아래 코드처럼 없는 속성값에 접근하면 에러가 발생합니다.\n",
    "mycar.price"
   ]
  },
  {
   "cell_type": "markdown",
   "metadata": {},
   "source": [
    "메소드  \n",
    "\n",
    "메소드를 호출하는 방법은 속성 접근과 유사합니다. 인스턴스 객체에 \".\"을 쓰고 그 뒤에 메소드 명을 적어줍니다.  \n",
    "메소드는 def 키워드로 구현한다고 했습니다. 다시 말하면 클래스의 메소드는 클래스 내에 정의된 함수라고 말할 수 있습니다.  \n",
    "따라서, 함수를 호출하는 것과 동일하게 함수 이름을 쓰고 소괄호 \"()\"를 적어 줍니다.  \n",
    "\n",
    "메소드 호출 (feat. 인터프리터에서 벌어지는 일)  \n",
    "\n",
    "눈썰미가 좋은 분들은 메소드를 정의할 때 self 라는 인자를 전달해 준 것을 발견하셨을 것입니다.  \n",
    "그런데 메소드를 호출할 때는 self 인자를 명시적으로 전달해주지 않아도 됩니다.  "
   ]
  },
  {
   "cell_type": "code",
   "execution_count": 8,
   "metadata": {},
   "outputs": [
    {
     "name": "stdout",
     "output_type": "stream",
     "text": [
      "I'm driving\n"
     ]
    }
   ],
   "source": [
    "mycar.drive()"
   ]
  },
  {
   "cell_type": "code",
   "execution_count": 9,
   "metadata": {},
   "outputs": [
    {
     "name": "stdout",
     "output_type": "stream",
     "text": [
      "speed up 5 driving at 15\n"
     ]
    }
   ],
   "source": [
    "mycar.accel(5)"
   ]
  },
  {
   "cell_type": "markdown",
   "metadata": {},
   "source": [
    "이건 무슨 일일까요? 우리가 작성한 mycar.dirve() 코드는 인터프리터 내부에서는 Car.drive(mycar)로 동작합니다.  \n",
    "self라는 단어는 클래스를 인스턴스화 한 인스턴스 객체를 가리킵니다.  \n",
    "메소드를 호출할 때, 우리가 명시적으로 인자를 넣지는 않지만 파이썬 내부적으로는 (=파이썬 인터프리터에서는) 인자 한 개를 사용하고 있고,  \n",
    "그 인자는 파이썬 클래스에 의해 선언된 객체 자신(self)입니다.  \n",
    "\n",
    "즉, 아래 두 코드는 똑같이 동작합니다."
   ]
  },
  {
   "cell_type": "code",
   "execution_count": 10,
   "metadata": {},
   "outputs": [
    {
     "name": "stdout",
     "output_type": "stream",
     "text": [
      "I'm driving\n"
     ]
    }
   ],
   "source": [
    "mycar.drive()"
   ]
  },
  {
   "cell_type": "code",
   "execution_count": 11,
   "metadata": {},
   "outputs": [
    {
     "name": "stdout",
     "output_type": "stream",
     "text": [
      "I'm driving\n"
     ]
    }
   ],
   "source": [
    "Car.drive(mycar)"
   ]
  },
  {
   "cell_type": "markdown",
   "metadata": {},
   "source": [
    "그러나 그 누구도 Car.drive(mycar)라고 사용하지 않습니다. 여러분 절대 이렇게 구현하지 마세요!  \n",
    "다른 사람들이 알아보기 힘들고 코드야 어떻게든 동작하겠지만 파이썬 인터프리터가 처리해 주는 일을 너무 어렵게 구현하는 것입니다.  \n",
    "\n",
    "참고로, 클래스 메소드를 정의할 때 self 인자를 사용하지 않으면 에러가 발생합니다.  \n",
    "아래의 run2()메소드 처럼요.  "
   ]
  },
  {
   "cell_type": "code",
   "execution_count": 12,
   "metadata": {},
   "outputs": [],
   "source": [
    "class Test:\n",
    "    def run1(self):\n",
    "        print(\"run1\")\n",
    "\n",
    "    def run2():\n",
    "        print(\"run2\")\n",
    "\n",
    "t = Test()"
   ]
  },
  {
   "cell_type": "code",
   "execution_count": 13,
   "metadata": {},
   "outputs": [
    {
     "name": "stdout",
     "output_type": "stream",
     "text": [
      "run1\n"
     ]
    }
   ],
   "source": [
    "t.run1()"
   ]
  },
  {
   "cell_type": "code",
   "execution_count": 14,
   "metadata": {},
   "outputs": [
    {
     "ename": "TypeError",
     "evalue": "run2() takes 0 positional arguments but 1 was given",
     "output_type": "error",
     "traceback": [
      "\u001b[0;31m---------------------------------------------------------------------------\u001b[0m",
      "\u001b[0;31mTypeError\u001b[0m                                 Traceback (most recent call last)",
      "\u001b[0;32m<ipython-input-14-3299b0fcd368>\u001b[0m in \u001b[0;36m<module>\u001b[0;34m\u001b[0m\n\u001b[0;32m----> 1\u001b[0;31m \u001b[0mt\u001b[0m\u001b[0;34m.\u001b[0m\u001b[0mrun2\u001b[0m\u001b[0;34m(\u001b[0m\u001b[0;34m)\u001b[0m\u001b[0;34m\u001b[0m\u001b[0;34m\u001b[0m\u001b[0m\n\u001b[0m",
      "\u001b[0;31mTypeError\u001b[0m: run2() takes 0 positional arguments but 1 was given"
     ]
    }
   ],
   "source": [
    "t.run2()"
   ]
  },
  {
   "cell_type": "markdown",
   "metadata": {},
   "source": [
    "접두사 self.\n",
    "\n",
    "같은 이유로 인스턴스의 속성으로 사용하고 싶은 변수는 self.을 써줍니다. self 인자를 통해 선언된 객체의 값이란 의미입니다.\n",
    "\n",
    "객체 안에서 self를 사용하면 인스턴스 객체의 고유한 속성을 나타낼 수 있습니다.  \n",
    "클래스가 아닌 self, 즉 인스턴스화 된 객체 자신의 속성이라는 뜻입니다.  \n",
    "참고로 클래스의 메소드 내부에서 self. 접두사가 없이 일반 변수와 같게 선언된 변수는 메소드 내부에서만 사용되므로, self.를 사용해 참조할 수 없습니다.  \n",
    "\n",
    "아래의 두 메소드를 비교해 보세요."
   ]
  },
  {
   "cell_type": "code",
   "execution_count": 16,
   "metadata": {},
   "outputs": [],
   "source": [
    "class Test2:\n",
    "    def run1(self, a):\n",
    "        self.a = float(a) * 10\n",
    "        print(self.a)\n",
    "\n",
    "    def run2(self, b):\n",
    "        b = float(b) + 10\n",
    "        print(self.b)\n",
    "        \n",
    "t = Test2()"
   ]
  },
  {
   "cell_type": "code",
   "execution_count": 17,
   "metadata": {},
   "outputs": [
    {
     "name": "stdout",
     "output_type": "stream",
     "text": [
      "10.0\n"
     ]
    }
   ],
   "source": [
    "t.run1(1)"
   ]
  },
  {
   "cell_type": "code",
   "execution_count": 18,
   "metadata": {},
   "outputs": [
    {
     "ename": "AttributeError",
     "evalue": "'Test2' object has no attribute 'b'",
     "output_type": "error",
     "traceback": [
      "\u001b[0;31m---------------------------------------------------------------------------\u001b[0m",
      "\u001b[0;31mAttributeError\u001b[0m                            Traceback (most recent call last)",
      "\u001b[0;32m<ipython-input-18-c09fe4c96ef9>\u001b[0m in \u001b[0;36m<module>\u001b[0;34m\u001b[0m\n\u001b[0;32m----> 1\u001b[0;31m \u001b[0mt\u001b[0m\u001b[0;34m.\u001b[0m\u001b[0mrun2\u001b[0m\u001b[0;34m(\u001b[0m\u001b[0;36m1\u001b[0m\u001b[0;34m)\u001b[0m\u001b[0;34m\u001b[0m\u001b[0;34m\u001b[0m\u001b[0m\n\u001b[0m",
      "\u001b[0;32m<ipython-input-16-00e4f65e6067>\u001b[0m in \u001b[0;36mrun2\u001b[0;34m(self, b)\u001b[0m\n\u001b[1;32m      6\u001b[0m     \u001b[0;32mdef\u001b[0m \u001b[0mrun2\u001b[0m\u001b[0;34m(\u001b[0m\u001b[0mself\u001b[0m\u001b[0;34m,\u001b[0m \u001b[0mb\u001b[0m\u001b[0;34m)\u001b[0m\u001b[0;34m:\u001b[0m\u001b[0;34m\u001b[0m\u001b[0;34m\u001b[0m\u001b[0m\n\u001b[1;32m      7\u001b[0m         \u001b[0mb\u001b[0m \u001b[0;34m=\u001b[0m \u001b[0mfloat\u001b[0m\u001b[0;34m(\u001b[0m\u001b[0mb\u001b[0m\u001b[0;34m)\u001b[0m \u001b[0;34m+\u001b[0m \u001b[0;36m10\u001b[0m\u001b[0;34m\u001b[0m\u001b[0;34m\u001b[0m\u001b[0m\n\u001b[0;32m----> 8\u001b[0;31m         \u001b[0mprint\u001b[0m\u001b[0;34m(\u001b[0m\u001b[0mself\u001b[0m\u001b[0;34m.\u001b[0m\u001b[0mb\u001b[0m\u001b[0;34m)\u001b[0m\u001b[0;34m\u001b[0m\u001b[0;34m\u001b[0m\u001b[0m\n\u001b[0m\u001b[1;32m      9\u001b[0m \u001b[0;34m\u001b[0m\u001b[0m\n\u001b[1;32m     10\u001b[0m \u001b[0mt\u001b[0m \u001b[0;34m=\u001b[0m \u001b[0mTest2\u001b[0m\u001b[0;34m(\u001b[0m\u001b[0;34m)\u001b[0m\u001b[0;34m\u001b[0m\u001b[0;34m\u001b[0m\u001b[0m\n",
      "\u001b[0;31mAttributeError\u001b[0m: 'Test2' object has no attribute 'b'"
     ]
    }
   ],
   "source": [
    "t.run2(1)"
   ]
  },
  {
   "cell_type": "markdown",
   "metadata": {},
   "source": [
    "self 요약  \n",
    "\n",
    "self는 초보자에게는 조금 어려운 개념입니다.  \n",
    "\n",
    "self는 자기 자신입니다.  \n",
    "클래스에 의해 생성된 객체(인스턴스)를 가리킵니다.  \n",
    "클래스의 메서드는 인자로 해당 인스턴스(self)를 받아야 합니다.  \n",
    "메소드를 호출할 때는 self 인자를 전달하지 않습니다. self의 값은 인터프리터가 제공합니다.  \n",
    "인스턴스 변수를 정의할 때에는 접두사 self.을 붙여줍니다.  "
   ]
  },
  {
   "cell_type": "markdown",
   "metadata": {},
   "source": [
    "## 클래스 기본 문법 (3) 생성자"
   ]
  },
  {
   "cell_type": "markdown",
   "metadata": {},
   "source": [
    "생성자 __init__  \n",
    "클래스에 의해 만든 인스턴스 객체의 속성값을 사용자는 어떻게 초기화할 수 있을까요?  \n",
    "Car 클래스를 만들 때부터 색깔과 카테고리를 지정해 주고 싶다면 어떻게 그 값을 전달해 줄 수 있을까요?  \n",
    "__init__ 을 사용해서 만들 수 있습니다. \n"
   ]
  },
  {
   "cell_type": "code",
   "execution_count": 5,
   "metadata": {},
   "outputs": [],
   "source": [
    "class Car:\n",
    "    color = 'red'\n",
    "    category = 'sports car'\n",
    "\n",
    "    def drive(self):\n",
    "        print(\"I'm driving\")\n",
    "\n",
    "    def accel(self, speed_up, current_speed=10):\n",
    "        self.speed_up = speed_up\n",
    "        self.current_speed = current_speed + self.speed_up\n",
    "        print(\"speed up\", self.speed_up, \"driving at\", self.current_speed)"
   ]
  },
  {
   "cell_type": "code",
   "execution_count": 6,
   "metadata": {},
   "outputs": [],
   "source": [
    "#아래는 Car 클래스 인스턴스의 color와 category를 초기화하도록 변경한 코드입니다.\n",
    "\n",
    "class Car2:\n",
    "    def __init__(self, color, category):\n",
    "        self.color = color\n",
    "        self.category = category\n",
    "\n",
    "    def drive(self):\n",
    "        print(\"I'm driving\")\n",
    "\n",
    "    def accel(self, speed_up, current_speed=10):\n",
    "        self.speed_up = speed_up\n",
    "        self.current_speed = current_speed + self.speed_up\n",
    "        print(\"speed up\", self.speed_up, \"driving at\", self.current_speed)"
   ]
  },
  {
   "cell_type": "markdown",
   "metadata": {},
   "source": [
    "__init__ 메소드안에 인자를 전달함로써 인스턴스 객체의 속성을 초기화할 수 있습니다 .  \n",
    "즉, __init__ 메소드안에 정의된 속성(변수) color와 category는 클래스를 인스턴스화 할 때 값을 설정할 수 있습니다.  \n",
    "이를 인스턴스 객체의 초기화(initializing instance) 라고 히고, __init__함수는 생성자(constructor)라고 합니다.  \n",
    "__init__ 역시 def 키워드로 정의합니다. 즉, 클래스안의 메소드이므로 self 문법 잊지 마세요!  "
   ]
  },
  {
   "cell_type": "code",
   "execution_count": 7,
   "metadata": {},
   "outputs": [],
   "source": [
    "#인스턴스 객체 선언\n",
    "car1 = Car()\n",
    "car2 = Car2('yellow', 'sedan')"
   ]
  },
  {
   "cell_type": "markdown",
   "metadata": {},
   "source": [
    "Car2 클래스를 인스턴스 객체로 만든 car2 와 같이 인스턴스 객체를 선언할 때 인자를 전달해 주는 형식으로 객체를 초기화 시킬 수 있습니다."
   ]
  },
  {
   "cell_type": "code",
   "execution_count": 8,
   "metadata": {},
   "outputs": [
    {
     "data": {
      "text/plain": [
       "'red'"
      ]
     },
     "execution_count": 8,
     "metadata": {},
     "output_type": "execute_result"
    }
   ],
   "source": [
    "car1.color"
   ]
  },
  {
   "cell_type": "code",
   "execution_count": 9,
   "metadata": {},
   "outputs": [
    {
     "data": {
      "text/plain": [
       "'yellow'"
      ]
     },
     "execution_count": 9,
     "metadata": {},
     "output_type": "execute_result"
    }
   ],
   "source": [
    "car2.color"
   ]
  },
  {
   "cell_type": "code",
   "execution_count": 10,
   "metadata": {},
   "outputs": [
    {
     "data": {
      "text/plain": [
       "'sports car'"
      ]
     },
     "execution_count": 10,
     "metadata": {},
     "output_type": "execute_result"
    }
   ],
   "source": [
    "car1.category"
   ]
  },
  {
   "cell_type": "code",
   "execution_count": 11,
   "metadata": {},
   "outputs": [
    {
     "data": {
      "text/plain": [
       "'sedan'"
      ]
     },
     "execution_count": 11,
     "metadata": {},
     "output_type": "execute_result"
    }
   ],
   "source": [
    "car2.category"
   ]
  },
  {
   "cell_type": "markdown",
   "metadata": {},
   "source": [
    "일반 함수와 문법은 비슷합니다. 아래처럼 키워드 인자를 지정할 수도 있습니다."
   ]
  },
  {
   "cell_type": "code",
   "execution_count": 12,
   "metadata": {},
   "outputs": [],
   "source": [
    "class Car2:\n",
    "    def __init__(self, color='red', category='sprots car'):\n",
    "        self.color = color\n",
    "        self.category = category"
   ]
  },
  {
   "cell_type": "markdown",
   "metadata": {},
   "source": [
    "생성자 요약\n",
    "\n",
    "__init__이라고 쓰고, \"던더(Double Under) 이닛\"이라고 발음합니다.  \n",
    "다른 객체 지향 언어를 알고있는 독자라면 생성자라는 말을 들으면 객체 인스턴스화와 초기화 2가지 작업을 생각할 수 있습니다.  \n",
    "그러나 파이썬의 생성자는 초기화만 수행 합니다.  \n",
    "그럼 객체 인스턴스화는 누가 할까요? 기억 나시나요? 네, 바로 클래스 사용시 변수 할당을 통해 이루어집니다.  \n",
    "그리고 이 __init__처럼 앞뒤에 언더바(_)가 두개씩 있는 메소드를 매직 메소드 라고 합니다.  \n",
    "매직 메서드에 대해 더 알아보고 싶은 분은 여기 링크를 참고해 보세요. https://rszalski.github.io/magicmethods/  "
   ]
  },
  {
   "cell_type": "markdown",
   "metadata": {},
   "source": [
    "## 클래스 기본 문법 (4) 클래스 변수와 인스턴스 변수\n",
    "이번에는 클래스 내 변수를 선언하는 방법을 설명하도록 하겠습니다.  \n",
    "클래스에서 변수를 선언하는 방법은 2가지가 있었습니다.   \n",
    "하나는 보통 변수와 동일하게 변수명을 쓰고 값을 할당하는 방법,  \n",
    "두 번째는 __init__ 메소드 안에 self.와 함께 설정하는 방법입니다.  \n",
    "\n",
    "\n",
    "아래 코드를 예로 들면 Manufacture 같은 변수가 있을 수 있고, color 와 같은 변수가 있을 수 있습니다."
   ]
  },
  {
   "cell_type": "code",
   "execution_count": 13,
   "metadata": {},
   "outputs": [],
   "source": [
    "class Car:\n",
    "    Manufacture = \"India\"\n",
    "\n",
    "    def __init__(self, color, category='sedan'):\n",
    "        self.color = color\n",
    "        self.category = category"
   ]
  },
  {
   "cell_type": "markdown",
   "metadata": {},
   "source": [
    "Manufacture 같은 변수를 클래스 변수라고 합니다. color와 같은 변수를 인스턴스 변수라고 합니다.\n",
    "\n",
    "2개의 변수는 무엇이 다를까요?"
   ]
  },
  {
   "cell_type": "code",
   "execution_count": 14,
   "metadata": {
    "scrolled": true
   },
   "outputs": [
    {
     "name": "stdout",
     "output_type": "stream",
     "text": [
      "India red sports car\n",
      "India white sedan\n"
     ]
    }
   ],
   "source": [
    "car1 = Car('red','sports car')\n",
    "car2 = Car('white')\n",
    "print(car1.Manufacture, car1.color, car1.category)\n",
    "print(car2.Manufacture, car2.color, car2.category)"
   ]
  },
  {
   "cell_type": "markdown",
   "metadata": {},
   "source": [
    "클래스 변수  \n",
    "\n",
    "클래스에 바로 선언된 속성을 클래스 변수라고 하며 클래스에 의해 생성된 모든 객체에서 같은 값을 조회할 때 가능합니다.  \n",
    "Manufacture는 클래스 변수에요.  \n",
    "Manufacture 속성은 car1과 car2가 공유합니다.  \n",
    "\n",
    "\n",
    "인스턴스 변수  \n",
    "\n",
    "__init__() 안에서 self를 사용해 선언된 변수를 인스턴스 변수라고 합니다.  \n",
    "객체가 인스턴스화 될 때마다 새로운 값이 할당되며 서로 다른 객체 간에는 값을 공유할 수 없습니다.  \n",
    "color와 category는 인스턴스 변수에요.  \n",
    "color와 category 속성은 car1과 car2가 공유하지 않습니다.  \n",
    "Car 클래스에 만들어진 car 객체의 제조사는 항상 같은 곳인데 색상과 종류가 각각 다를 수 있다면,  \n",
    "제조사는 클래스 변수로 선언하고 색상과 종류 속성은 인스턴스 변수로 선언하여 초기화가 가능하게 구현합니다.  \n",
    "\n",
    "즉! 객체 단위로 변경되는 변수는 인스턴스 변수로 선언하세욧!!!  "
   ]
  },
  {
   "cell_type": "markdown",
   "metadata": {},
   "source": [
    "## 클래스, 조금 더 알아보기 - 상속\n",
    "클래스가 왜 강력한지 클래스만의 독특한 기능을 하나만 더 알아보겠습니다.\n",
    "\n",
    "상속  \n",
    "기존의 클래스와 거의 같은 클래스인데, 메소드 기능 몇 개만 추가하고 싶으면 어떻게 하면 될까요?  \n",
    "예를 들어 우리는 앞서 Car 라는 클래스를 선언했습니다."
   ]
  },
  {
   "cell_type": "code",
   "execution_count": 15,
   "metadata": {},
   "outputs": [],
   "source": [
    "class Car:\n",
    "    Manufacture = \"India\"\n",
    "\n",
    "    def __init__(self, color='red', category='sedan'):\n",
    "        self.color = color\n",
    "        self.category = category\n",
    "\n",
    "    def drive(self):\n",
    "        print(\"I'm driving\")\n",
    "\n",
    "    def accel(self, speed_up, current_speed=10):\n",
    "        self.speed_up = speed_up\n",
    "        self.current_speed = current_speed + self.speed_up\n",
    "        print(\"speed up\", self.speed_up, \"driving at\", self.current_speed)"
   ]
  },
  {
   "cell_type": "markdown",
   "metadata": {},
   "source": [
    "여기에 Car 클래스의 기능은 유지한 채 maker 속성만 추가된 새로운 클래스 NewCar를 선언하고 싶다면, 클래스의 상속 기능을 이용하면 됩니다.\n",
    "\n",
    "상속은 소괄호 안에 상속받을 클래스 이름을 적어주면 돼요."
   ]
  },
  {
   "cell_type": "code",
   "execution_count": 16,
   "metadata": {},
   "outputs": [
    {
     "name": "stdout",
     "output_type": "stream",
     "text": [
      "I'm driving\n",
      "speed up 10 driving at 20\n"
     ]
    }
   ],
   "source": [
    "class NewCar(Car):\n",
    "    pass\n",
    "\n",
    "car = NewCar()\n",
    "car.drive()\n",
    "car.accel(10)"
   ]
  },
  {
   "cell_type": "markdown",
   "metadata": {},
   "source": [
    "NewCar에는 아무런 기능도 코딩하지 않았는데 Car의 기능을 그대로 사용할 수 있네요.  \n",
    "\n",
    "현실세계와 동일한 개념입니다. 이런 걸 상속이라고 합니다.  \n",
    "\n",
    "\n",
    "Car 클래스와 비슷한 기능과 속성을 유지한 채 maker 속성만 추가해 조금 다른 클래스를 만들고 싶다면, Car 클래스를 상속받은 뒤 maker 속성만 추가해주면 됩니다.  "
   ]
  },
  {
   "cell_type": "code",
   "execution_count": 18,
   "metadata": {},
   "outputs": [
    {
     "data": {
      "text/plain": [
       "'Porsche'"
      ]
     },
     "execution_count": 18,
     "metadata": {},
     "output_type": "execute_result"
    }
   ],
   "source": [
    "class NewCar(Car):\n",
    "    maker = 'Porsche'\n",
    "\n",
    "car = NewCar()\n",
    "car.maker"
   ]
  },
  {
   "cell_type": "markdown",
   "metadata": {},
   "source": [
    "자식 클래스, 부모 클래스\n",
    "\n",
    "상속 받은 클래스를 \"자식 클래스\", \"서브 클래스(sub class)\", \"파생된 클래스(derived class)\"라고 합니다.  \n",
    "기존 클래스를 \"부모 클래스\", \"슈퍼 클래스(super class)\", \"베이스 클래스(base class)\" 라고 합니다.  "
   ]
  },
  {
   "cell_type": "markdown",
   "metadata": {},
   "source": [
    "## 상속 사용하기\n",
    "클래스를 잘 상속하기 위해 필요한 3가지 사용법을 살펴 보겠습니다.\n",
    "\n",
    "메소드 추가하기(add)  \n",
    "메소드 재정의하기(override)  \n",
    "부모 메소드 호출하기(super())  \n",
    "\n",
    "\n",
    "\n",
    "메소드 추가하기  \n",
    "  \n",
    "자식 클래스에 새로운 메소드를 추가 할 수 있습니다.  \n",
    "아래와 같이 정의하면 기존 Car 클래스의 메소드들과 함께 새로운 메소드 fly() 도 사용할 수 있습니다."
   ]
  },
  {
   "cell_type": "code",
   "execution_count": 19,
   "metadata": {},
   "outputs": [],
   "source": [
    "class NewCar(Car):\n",
    "    def fly(self):\n",
    "        print(\"I'm flying!! This is the new car!!\")"
   ]
  },
  {
   "cell_type": "markdown",
   "metadata": {},
   "source": [
    "메소드 오버라이드\n",
    "\n",
    "자식 클래스의 drive() 메소드에 \"I'm driving and can fly\"라는 문구가 출력되는 메소드를 정의한다고 해 볼게요.  \n",
    "이렇게 기존에 있는 메소드를 변경하는 것을 메소드 오버라이드(재정의, override) 라고 합니다."
   ]
  },
  {
   "cell_type": "code",
   "execution_count": 20,
   "metadata": {},
   "outputs": [],
   "source": [
    "class NewCar(Car):\n",
    "    def fly(self):\n",
    "        print(\"I'm flying!! This is the new car!!\")\n",
    "\n",
    "    def drive(self):\n",
    "        print(\"I'm driving and can fly\")"
   ]
  },
  {
   "cell_type": "markdown",
   "metadata": {},
   "source": [
    "fly() : 메소드 추가  \n",
    "drive() : 메소드 재정의"
   ]
  },
  {
   "cell_type": "markdown",
   "metadata": {},
   "source": [
    "- 메소드 추가와 메소드 오버라이드의 차이  \n",
    "\n",
    "상속받은 클래스에서 없는 메소드를 정의 하는 것을 메소드 추가라고 하고 상속받은 클래스에서 있는 메소드를 다시 정의하는 것을 메소드 오버라이드라고 한다."
   ]
  },
  {
   "cell_type": "markdown",
   "metadata": {},
   "source": [
    "부모 메소드 호출하기 super()  \n",
    "\n",
    "부모 메소드 호출은 super() 라는 함수를 이용합니다.  \n",
    "super()는 파이썬 내장함수입니다. 자식 클래스에서 부모 클래스의 메소드를 호출하고 싶을 때 사용합니다."
   ]
  },
  {
   "cell_type": "markdown",
   "metadata": {},
   "source": [
    "super() 함수 문법\n",
    "\n",
    "아래 코드는 공식문서에서 발췌한 예제 코드입니다. 클래스 C는 클래스 B를 상속 받았고, method()를 다시 재정의하고 super() 함수를 사용합니다."
   ]
  },
  {
   "cell_type": "code",
   "execution_count": null,
   "metadata": {},
   "outputs": [],
   "source": [
    "class C(B):\n",
    "    def method(self, arg):\n",
    "        super().method(arg)        # This dose the same thing as:\n",
    "                                   # super(C, self).method(arg)"
   ]
  },
  {
   "cell_type": "markdown",
   "metadata": {},
   "source": [
    "즉, super() 함수는 다음과 같이 사용합니다.  \n",
    "\n",
    "def (부모클래스의)메소드이름():  \n",
    "            super().메소드이름()"
   ]
  },
  {
   "cell_type": "markdown",
   "metadata": {},
   "source": [
    "근데 조금 이상하네요. 자식 클래스는 부모 클래스의 메소드를 그대로 이어 받을 수 있었습니다.   \n",
    "그리고 기능을 추가하고 싶다면 메소드 오버라이드라는 기능을 사용하면 되는데요.  \n",
    "왜 굳이 또 메소드를 호출해야 할까요? super()는 어떤 경우에 필요할까요?  \n",
    "예제를 통해 super()를 어떻게 사용하면 좋을지 알아보겠습니다.\n",
    "\n",
    "위에서 말한 것처럼, Car 클래스를 상속받은 NewCar 클래스의 초기화 함수(생성자) __init__() 메소드에 color, category 속성은 동일하게 유지한 채 maker 속성을 추가한 NewCar 클래스를 만들어 봅시다.  \n",
    "\n",
    "\n",
    "그럴 때, super() 를 사용합니다. 아래 코드를 보시죠."
   ]
  },
  {
   "cell_type": "code",
   "execution_count": 22,
   "metadata": {},
   "outputs": [],
   "source": [
    "class NewCar(Car):\n",
    "    def __init__(self, color, category, maker):\n",
    "        super().__init__(color, category)\n",
    "        self.maker = maker\n",
    "\n",
    "    def fly(self):\n",
    "        print(\"I'm flying!! This is the new car!!\")\n",
    "\n",
    "    def accel(self, speed_up, level=1, current_speed=10):\n",
    "        self.boost[level] = {1 : 0, 2 : 30, 3 : 50}\n",
    "        self.speed_up = speed_up + self.boost[level]\n",
    "        self.current_speed = current_speed + self.speed_up\n",
    "        print(\"speed up\", self.speed_up, \"driving at\", self.current_speed)"
   ]
  },
  {
   "cell_type": "markdown",
   "metadata": {},
   "source": [
    "\n",
    "음.. 그런데 왜 이렇게 정의하지 않았을까요?"
   ]
  },
  {
   "cell_type": "markdown",
   "metadata": {},
   "source": [
    "class NewCar(Car):  \n",
    "    def __init__(self, color, category, maker):  \n",
    "        self.color = color  \n",
    "        self.category = category  \n",
    "        self.maker = maker  "
   ]
  },
  {
   "cell_type": "markdown",
   "metadata": {},
   "source": [
    "지금은 부모 클래스에서 color를 이름으로 받지만 color를 RGB 값으로 받도록 바꾸고 싶다고 합시다.   \n",
    "자동차 클래스를 상속받은 모든 클래스에서 color는 RGB 값으로 받게 하고 싶습니다.   \n",
    "만약 메소드를 오버라이드 했다면 상속받은 클래스 하나하나의 초기화 코드를 변경해 주어야 할 겁니다.  \n",
    "이렇게 super() 를 사용해 변수를 초기화하면 부모 클래스만 변경하면 되겠죠?\n",
    "\n",
    "즉, 부모 클래스의 변경사항이 그대로 자식 클래스에 반영됩니다."
   ]
  },
  {
   "cell_type": "code",
   "execution_count": 23,
   "metadata": {},
   "outputs": [
    {
     "name": "stdout",
     "output_type": "stream",
     "text": [
      "2020Y sports car\n"
     ]
    }
   ],
   "source": [
    "class Car:\n",
    "    Manufacture = \"India\"\n",
    "\n",
    "    def __init__(self, color='red', category='sedan'):\n",
    "        self.color = color \n",
    "        self.category = '2020Y '+ category\n",
    "\n",
    "\n",
    "class NewCar(Car):\n",
    "    def __init__(self, color, category, maker):\n",
    "        super().__init__(color, category)\n",
    "        self.maker = maker\n",
    "\n",
    "newcar = NewCar('red','sports car', 'Kia')\n",
    "print(newcar.category)"
   ]
  },
  {
   "cell_type": "markdown",
   "metadata": {},
   "source": [
    "현실에서 상속을 받으면 재산세도 내야하고 형제가 있으면 유산을 나눠 가지기도 하고 그렇죠? 클래스의 세계에선 어떤가요?   \n",
    "부모가 재산을 물려주기 보다는 자식이 부모 재산을 가져다 쓰는 느낌이죠? 맞아요. 상속은 기존에 있는 코드를 재사용(상속)하기 위한 기능입니다."
   ]
  },
  {
   "cell_type": "markdown",
   "metadata": {},
   "source": [
    "## 전체 요약  \n",
    "내용이 조금 많을 수 있습니다. 지금까지 배운 클래스 문법을 정리해 보겠습니다.  \n",
    "\n",
    "1. 클래스 선언  \n",
    "\n",
    "2. 클래스 사용  \n",
    "\n",
    "\"객체의 인스턴스\"  \n",
    "3. 클래스는 동작과 상태를 갖는다.  \n",
    "\n",
    "상태(State): 속성(Attribute)로 표현, 일명 변수  \n",
    "\n",
    "동작(Behavior): Methode로 표현, 일명 함수  \n",
    "\n",
    "객체는 동작은 공유하지만 상태는 공유하지 않는다.  \n",
    "\n",
    "4. 생성자 __init__  \n",
    "\n",
    "5. 클래스 변수와 인스턴스 변수  \n",
    "\n",
    "클래스에 선언된 속성은 클래스 변수라고 하며 이 클래스에 의해 생성된 모든 객체에 대해 같은 속성(값)을 갖는다.  \n",
    "객체가 인스턴스화 될 때마다 새로운 값이 할당되며 서로 다른 객체 간에는 속성(값)을 공유할 수 없다.  \n",
    "6. 상속  \n",
    "\n",
    "메소드 추가, 메소드 오버라이드, 부모메소드 호출하기  "
   ]
  },
  {
   "cell_type": "code",
   "execution_count": null,
   "metadata": {},
   "outputs": [],
   "source": []
  }
 ],
 "metadata": {
  "kernelspec": {
   "display_name": "Python 3",
   "language": "python",
   "name": "python3"
  },
  "language_info": {
   "codemirror_mode": {
    "name": "ipython",
    "version": 3
   },
   "file_extension": ".py",
   "mimetype": "text/x-python",
   "name": "python",
   "nbconvert_exporter": "python",
   "pygments_lexer": "ipython3",
   "version": "3.7.6"
  }
 },
 "nbformat": 4,
 "nbformat_minor": 4
}

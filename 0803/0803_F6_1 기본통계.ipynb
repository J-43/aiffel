{
 "cells": [
  {
   "cell_type": "markdown",
   "metadata": {},
   "source": [
    "평균을 계산하기 위해 사용자 숫자들을 입력받아보겠습니다. 아래는 상세 알고리즘입니다.\n",
    "\n",
    "1. 평균은 숫자들의 합을 총 숫자의 개수로 나눈 값이죠. 일단 숫자들의 합을 total, 숫자의 개수는 count로 변수명을 정하고 0으로 초깃값을 할당합니다.  \n",
    "\n",
    "2. 사용자가 입력하는 숫자는 input 함수를 사용해 받습니다. 숫자를 입력하지 않으면 종료합니다.  \n",
    "\n",
    "3. while문으로 조건 지정 반복문을 설정합니다. 숫자를 입력하지 않으면 종료한다고 했으니, 조건은 input 함수에서 받은 값이 \"\"이 되면 False가 되어서 while문을 빠져나오게 코딩하면 되겠네요.  \n",
    "\n",
    "4. while문의 조건이 True면 count와 total이 갱신됩니다. 반복문이 실행될 때마다 count를 1씩 증가시키기 위해 증감연산자를 사용하고, total에는 input으로 받은 숫자를 더해 줍니다. input함수가 return하는 값의 자료형은 str이니 float으로 형을 변환해 주는 것 잊지 마세요!  \n",
    "\n",
    "5. 혹시라도 사용자가 숫자가 아닌 엉뚱한 문자열을 입력하면 어떻게 할까요? 사용자로부터 무엇인가를 입력받을 때는 예외처리를 해줍시다.  \n",
    "\n",
    "완성 코드입니다."
   ]
  },
  {
   "cell_type": "code",
   "execution_count": 1,
   "metadata": {},
   "outputs": [
    {
     "name": "stdout",
     "output_type": "stream",
     "text": [
      "Enter a number :  (<Enter Key> to quit)1\n",
      "Enter a number :  (<Enter Key> to quit)2\n",
      "Enter a number :  (<Enter Key> to quit)3\n",
      "Enter a number :  (<Enter Key> to quit)\n",
      "\n",
      " average is 2.0\n"
     ]
    }
   ],
   "source": [
    "total = 0\n",
    "count = 0\n",
    "numbers = input(\"Enter a number :  (<Enter Key> to quit)\")\n",
    "while numbers != \"\":\n",
    "    try:\n",
    "        x = float(numbers)\n",
    "        count += 1\n",
    "        total = total + x\n",
    "    except ValueError:\n",
    "        print('NOT a number! Ignored..')\n",
    "    numbers = input(\"Enter a number :  (<Enter Key> to quit)\")\n",
    "avg = total / count\n",
    "print(\"\\n average is\", avg)"
   ]
  },
  {
   "cell_type": "markdown",
   "metadata": {},
   "source": [
    "평균을 나타내는 수식에서 볼 수 있듯, 평균을 구하기 위해서는 숫자들의 총합이 필요할 뿐, 이 숫자들을 굳이 배열 등의 변수로 저장하지 않아도 됩니다. 그래서 코드에서 우리는 숫자들의 총합을 total이라는 변수에 계속 할당하고 그 시점까지의 총합만을 기억해 두었어요.\n",
    "어때요. 반복문에 의해서 아래 처럼 숫자 입력, 합산이 반복 시행되는 것을 알 수 있겠죠?"
   ]
  },
  {
   "cell_type": "code",
   "execution_count": null,
   "metadata": {},
   "outputs": [],
   "source": [
    "total = 0.0\n",
    "number = float(input(\"enter the number: \"))\n",
    "total = total + number\n",
    "number = float(input(\"enter the number: \"))\n",
    "total = total + number"
   ]
  },
  {
   "cell_type": "markdown",
   "metadata": {},
   "source": [
    "표준편차 수식을 보니 입력된 샘플에서 평균을 뺀 값이 필요합니다. 이제는 입력받은 모든 숫자들을 저장해둘 필요가 생겼습니다.\n",
    "\n",
    "각각의 숫자에 해당하는 변수를 생성해서 저장할 수도 있지만, 지금은 입력받은 숫자가 몇 개인지 모르는 상황이므로 변수를 미리 생성하는 것은 불가능합니다. 변수를 몇개 생성해야 하는지도 모르니까요. 이럴 때는 데이터 값 전체를 하나의 객체에 순서대로 모아 놓을 수 있어야 사용하기 편리할 거에요. \n",
    "파이썬은 이런 기능을 가진 리스트(list)라는 자료구조를 기본적으로 제공합니다. 우리는 리스트가 순서를 가진 요소(element)의 배열이란 것을 알고 있습니다. "
   ]
  },
  {
   "cell_type": "markdown",
   "metadata": {},
   "source": [
    "이번에는 사용자의 입력으로 받은 숫자를 배열로 표현해 보겠습니다. 배열을 표현하기 위해서 파이썬의 기본 컨테이너 자료형인 리스트(list)를 사용하겠습니다."
   ]
  },
  {
   "cell_type": "code",
   "execution_count": 3,
   "metadata": {},
   "outputs": [
    {
     "name": "stdout",
     "output_type": "stream",
     "text": [
      "Enter a number (<Enter key> to quit)1\n",
      "Enter a number (<Enter key> to quit)2\n",
      "Enter a number (<Enter key> to quit)3\n",
      "Enter a number (<Enter key> to quit)4\n",
      "Enter a number (<Enter key> to quit)5\n",
      "Enter a number (<Enter key> to quit)\n",
      "X : [1.0, 2.0, 3.0, 4.0, 5.0]\n"
     ]
    }
   ],
   "source": [
    "# 2개 이상의 숫자를 입력받아 리스트에 저장하는 함수\n",
    "def numbers():\n",
    "    X=[]    # X에 빈 리스트를 할당합니다.\n",
    "    while True:\n",
    "        number = input(\"Enter a number (<Enter key> to quit)\") \n",
    "        while number !=\"\":\n",
    "            try:\n",
    "                x = float(number)\n",
    "                X.append(x)    # float형으로 변환한 숫자 입력을 리스트에 추가합니다.\n",
    "            except ValueError:\n",
    "                print('>>> NOT a number! Ignored..')\n",
    "            number = input(\"Enter a number (<Enter key> to quit)\")\n",
    "        if len(X) > 1:  # 저장된 숫자가 2개 이상일 때만 리턴합니다.\n",
    "            return X\n",
    "\n",
    "X=numbers()\n",
    "\n",
    "print('X :', X)"
   ]
  },
  {
   "cell_type": "markdown",
   "metadata": {},
   "source": [
    "변수 X에 빈 리스트([])를 할당하여 초기화한 후 리스트의 append 메소드를 이용해 계속 원소를 추가하며 구현했네요.\n",
    "\n",
    "다른 언어에서는 배열은 크기를 정해 놓아야 하는 경우가 많습니다. 대표적으로 C언어가 그러하지요. 그러니깐, 배열 변수를 만들 때 처음에 원소가 몇 개 들어갈 수 있다고 정해놓아야 합니다. 그러나 파이썬의 리스트는 그렇지 않습니다. 파이썬의 리스트는 임의의 데이터 타입을 담을 수 있는 가변적 연속열(Sequence)형입니다. 즉, 파이썬 리스트는 동적 배열(Dynamic Array)입니다."
   ]
  },
  {
   "cell_type": "code",
   "execution_count": 2,
   "metadata": {},
   "outputs": [
    {
     "name": "stdout",
     "output_type": "stream",
     "text": [
      "<class 'list'>\n",
      "[1, 2, 3, '4']\n",
      "[1, 5, 2, 3, '4']\n",
      "<class 'array.array'>\n",
      "array('i', [1, 2, 3])\n",
      "array('i', [1, 5, 2, 3])\n"
     ]
    }
   ],
   "source": [
    "import array as arr\n",
    "\n",
    "mylist = [1, 2, 3]   # 이것은 파이썬 built-in list입니다. \n",
    "print(type(mylist))\n",
    "\n",
    "mylist.append('4')  # mylist의 끝에 character '4'를 추가합니다. \n",
    "print(mylist)\n",
    "\n",
    "mylist.insert(1, 5)  # mylist의 두번째 자리에 5를 끼워넣습니다.\n",
    "print(mylist)\n",
    "\n",
    "myarray = arr.array('i', [1, 2, 3])   # 이것은 array입니다. import array를 해야 쓸 수 있습니다.\n",
    "print(type(myarray))\n",
    "\n",
    "# 아래 라인의 주석을 풀고 실행하면 에러가 납니다.\n",
    "#myarray.append('4')    # myarray의 끝에 character '4'를 추가합니다. \n",
    "print(myarray)\n",
    "\n",
    "myarray.insert(1, 5)    # myarray의 두번째 자리에 5를 끼워넣습니다.\n",
    "print(myarray)"
   ]
  },
  {
   "cell_type": "markdown",
   "metadata": {},
   "source": [
    "위 코드는 파이썬에서 built-in 으로 제공하는 list가 array와 다른 점을 몇가지 보여 줍니다.\n",
    "\n",
    "list는 별도의 import가 필요없지만 array를 사용하기 위해서는 import를 해주어야 합니다. \n",
    "파이썬에서 array는 built-in이 아닙니다.\n",
    "list 안의 element 사이에 다른 타입의 자료형이 허용됩니다.  \n",
    "숫자로만 이루어진 list에 문자열 element를 추가할 수 있습니다.  \n",
    "그러나 array는 처음부터 element의 유형을 지정해서 생성하며, 지정되지 않은 다른 타입의 element 추가가 허용되지 않습니다.  \n",
    "이러한 array의 특성은 다음에 나오는 NumPy에도 동일하게 적용됩니다.  \n",
    "\n",
    "array는 element들이 연속된 메모리 공간에 배치되며, 모든 element들의 동일한 크기와 타입을 가져야 합니다. \n",
    "그러므로 위에서 myarray.append('4')는 허용되지 않습니다. 그렇다면 파이썬 built-in 리스트는 array가 아닌 것 같습니다.  \n",
    "중간에 element를 insert할 수 있는 것도 array보다는 list 자료구조의 특성입니다. 그래서 파이썬의 리스트는 좀 묘합니다. \n",
    "자료구조상 linked list의 기능을 모두 가지고 있지만 실제로는 array로 구현되어 있다고 합니다. \n",
    "linked list와 다르게 파이썬 리스트는 element들이 연속된 메모리 공간에 배치되도록 구현되어 있기 때문입니다.  \n",
    "그렇게 보면 파이썬의 리스트는 list와 array의 장점을 모두 취한 형태라고 볼 수 있겠습니다."
   ]
  },
  {
   "cell_type": "markdown",
   "metadata": {},
   "source": [
    "다시 아까 입력받은 숫자 배열로 돌아가 봅시다. 지난 스텝에서 다룬 시그마는 입력으로 받은 숫자의 합을 계속 total이라는 변수에 할당하였죠?  \n",
    "이제 배열이 있으니, 배열을 이용해서 시그마를 표현해 보고자 합니다. 시그마를 배열을 통해 계산하려면 for문을 사용해야 합니다.  \n",
    "리스트는 원소의 값과 순서를 알고 있으니까요."
   ]
  },
  {
   "cell_type": "code",
   "execution_count": 4,
   "metadata": {},
   "outputs": [
    {
     "name": "stdout",
     "output_type": "stream",
     "text": [
      "sum of X:  15.0\n"
     ]
    }
   ],
   "source": [
    "total = 0.0\n",
    "for i in range(len(X)):\n",
    "    total = total + X[i]\n",
    "mean = total / len(X)\n",
    "\n",
    "print('sum of X: ', total)"
   ]
  },
  {
   "cell_type": "markdown",
   "metadata": {},
   "source": [
    "위에서는 파이썬에서 연속된 수를 리스트로 만들어주는 range()와 리스트의 길이, 즉 리스트에 포함된 원소의 개수를 구할 수 있는 len() 함수를 사용했습니다."
   ]
  },
  {
   "cell_type": "markdown",
   "metadata": {},
   "source": [
    "중앙값(median)은 주어진 숫자를 크기 순서대로 배치할 때 가장 중앙에 위치하는 숫자입니다.   \n",
    "중앙이라는 위치는 그 숫자의 총합이 홀수이냐 짝수이냐에 따라 달라집니다. 예를 들어,\n",
    "\n",
    "만약 숫자가 1, 3, 3, 6, 7, 8, 9 라면, 중앙값은 6입니다.  \n",
    "만약 숫자가 1, 3, 3, 7, 8, 9 라면, 중앙값은 (3 + 7) / 2 = 5입니다.   \n",
    "즉, 위의 예시를 일반화 해보면 다음과 같습니다. 총 개수 n인 숫자를 순서대로 배열했을 때,\n",
    "\n",
    "n이 홀수이면 n/2을 반올림한 순서의 값이 중앙값입니다.     \n",
    "위에서는 7/2 = 3.5 의 반올림이니까 4번째 숫자의 값입니다.   \n",
    "n이 짝수라면 n/2번째 값과 ((n/2) + 1) 번째 값의 평균이 됩니다.   \n",
    "위에서는 6/2 = 3, ((6/2) + 1) = 4 이므로 3번째 값과 4번째 값의 평균이 중앙값입니다.   \n",
    "중앙값을 코드로 구현해 볼게요."
   ]
  },
  {
   "cell_type": "code",
   "execution_count": 5,
   "metadata": {},
   "outputs": [
    {
     "name": "stdout",
     "output_type": "stream",
     "text": [
      "X : [1.0, 2.0, 3.0, 4.0, 5.0]\n"
     ]
    },
    {
     "data": {
      "text/plain": [
       "3.0"
      ]
     },
     "execution_count": 5,
     "metadata": {},
     "output_type": "execute_result"
    }
   ],
   "source": [
    "def median(nums):  \t\t# nums : 리스트를 지정하는 매개변수\n",
    "    nums.sort()\t\t\t\t\t# sort()로 리스트를 순서대로 정렬\n",
    "    size = len(nums)\n",
    "    p = size // 2\n",
    "    if size % 2 == 0:\t\t   # 리스트의 개수가 홀수일때 \n",
    "        pr = p   \n",
    "        pl = p-1\n",
    "        mid= float((nums[pl]+nums[pr])/2)    \n",
    "    else:\t\t\t\t\t\t\t\t# 리스트의 개수가 짝수일때\n",
    "        mid = nums[p]\n",
    "    return mid\n",
    "\n",
    "print('X :', X)\n",
    "median(X)\t\t\t\t\t\t# 매개변수의 값으로 X를 사용함"
   ]
  },
  {
   "cell_type": "markdown",
   "metadata": {},
   "source": [
    "nums는 중앙값을 구할 리스트를 지정하는 매개변수입니다.   \n",
    "리스트를 오름차순으로 정렬하기 위해 sort()를 사용하였고,   \n",
    "리스트의 개수가 홀수일 때와 짝수일 때의 경우를 if와 else구문을 이용해 구현합니다.   \n",
    "홀짝 판별은 나머지 연산자인 % 로 2로 나눌 때의 값이 0이면 짝수, 0이 아니라면 홀수로 나누는 방식으로 구현할 수 있습니다.   \n",
    "만약 짝수 개의 리스트라면, 리스트 길이의 절반을 기준으로 나뉘는 pr과 pl을 기준 인덱스로하여 해당하는 두 값을 구합니다.   \n",
    "이 때 두 값의 평균이 중앙값이 됩니다.\n",
    "만약 홀수 개의 리스트라면, 인덱스로 //(몫 연산자)를 사용해서 길이를 2로 나누어 사용합니다. 이때, 인덱스의 위치에 저장된 값이 중앙값이 됩니다."
   ]
  },
  {
   "cell_type": "markdown",
   "metadata": {},
   "source": [
    "자 이제 표준편차와 평균도 구해 보겠습니다. 먼저 평균을 계산해 봅시다."
   ]
  },
  {
   "cell_type": "code",
   "execution_count": 6,
   "metadata": {},
   "outputs": [
    {
     "data": {
      "text/plain": [
       "3.0"
      ]
     },
     "execution_count": 6,
     "metadata": {},
     "output_type": "execute_result"
    }
   ],
   "source": [
    "def means(nums):\n",
    "    total = 0.0\n",
    "    for i in range(len(nums)):\n",
    "        total = total + nums[i]\n",
    "    return total / len(nums)\n",
    "\n",
    "means(X)"
   ]
  },
  {
   "cell_type": "markdown",
   "metadata": {},
   "source": [
    "중앙값과 동일하게 nums 인자는 리스트를 받고. 평균은 리스트의 합을 배열의 총 길이로 나눠주면 됩니다.\n",
    "\n",
    "다음은 표준편차를 구하는 코드입니다."
   ]
  },
  {
   "cell_type": "code",
   "execution_count": 7,
   "metadata": {},
   "outputs": [
    {
     "data": {
      "text/plain": [
       "1.5811388300841898"
      ]
     },
     "execution_count": 7,
     "metadata": {},
     "output_type": "execute_result"
    }
   ],
   "source": [
    "avg = means(X)\n",
    "\n",
    "def std_dev(nums, avg):\n",
    "   texp = 0.0\n",
    "   for i in range(len(nums)):\n",
    "       texp = texp + (nums[i] - avg)**2    # 각 숫자와 평균값의 차이의 제곱을 계속 더한 후\n",
    "   return (texp/(len(nums)-1)) ** 0.5    # 그 총합을 숫자개수-1로 나눈 값의 제곱근을 리턴합니다.\n",
    "\n",
    "std_dev(X,avg)"
   ]
  },
  {
   "cell_type": "markdown",
   "metadata": {},
   "source": [
    "우선 매개변수로 숫자의 배열과 평균값을 받습니다.\n",
    "\n",
    "각 숫자와 평균값의 차이를 구한 뒤 제곱하고, for문을 이용해 그 총합을 더합니다.\n",
    "\n",
    "그리고 구한 총합을 (숫자의 개수-1)로 나누고, 그 제곱근을 계산해 표준편차를 구합니다."
   ]
  },
  {
   "cell_type": "markdown",
   "metadata": {},
   "source": [
    "전체 코드 : main()함수"
   ]
  },
  {
   "cell_type": "markdown",
   "metadata": {},
   "source": [
    "위에 구현한 코드를 순서대로 사용해 보겠습니다.\n",
    "\n",
    "우리가 구현하고자 하는 값은 사용자가 입력한 숫자들에 대한 평균값, 중앙값, 표준편차입니다.   \n",
    "우선 사용자가 입력한 숫자를 배열(리스트)로 만듭니다.   \n",
    "각 숫자의 평균값과 중앙값을 구합니다.   \n",
    "각 숫자의 표준편차를 구합니다.   \n",
    "각 함수들은 다 구현했죠? main함수로 구현해 보면 다음과 같습니다."
   ]
  },
  {
   "cell_type": "code",
   "execution_count": 8,
   "metadata": {},
   "outputs": [
    {
     "name": "stdout",
     "output_type": "stream",
     "text": [
      "당신이 입력한 숫자[1.0, 2.0, 3.0, 4.0, 5.0]의 \n",
      "중앙값은3.0, 평균은3.0, 표준편차는1.5811388300841898입니다.\n"
     ]
    }
   ],
   "source": [
    "med = median(X)\n",
    "avg = means(X)\n",
    "std = std_dev(X, avg)\n",
    "print(\"당신이 입력한 숫자{}의 \".format(X))\n",
    "print(\"중앙값은{}, 평균은{}, 표준편차는{}입니다.\".format(med, avg, std))"
   ]
  },
  {
   "cell_type": "code",
   "execution_count": null,
   "metadata": {},
   "outputs": [],
   "source": [
    "def numbers():\n",
    "    X=[]\n",
    "    while True:\n",
    "        number = input(\"Enter a number (<Enter key> to quit)\") \n",
    "        while number !=\"\":\n",
    "            try:\n",
    "                x = float(number)\n",
    "                X.append(x)\n",
    "            except ValueError:\n",
    "                print('>>> NOT a number! Ignored..')\n",
    "            number = input(\"Enter a number (<Enter key> to quit)\")\n",
    "        if len(X) > 1:\n",
    "            return X\n",
    "\n",
    "def median(nums): \n",
    "    nums.sort()\n",
    "    size = len(nums)\n",
    "    p = size // 2\n",
    "    if size % 2 == 0:\n",
    "        pr = p\n",
    "        pl = p-1\n",
    "        mid = float((nums[pl]+nums[pr])/2)\n",
    "    else:\n",
    "        mid = nums[p]\n",
    "    return mid\n",
    "\n",
    "def means(nums):\n",
    "    total = 0.0\n",
    "    for i in range(len(nums)):\n",
    "        total = total + nums[i]\n",
    "    return total / len(nums)\n",
    "\n",
    "def std_dev(nums, avg):\n",
    "   texp = 0.0\n",
    "   for i in range(len(nums)):\n",
    "       texp = texp + (nums[i] - avg) ** 2\n",
    "   return (texp/(len(nums)-1)) ** 0.5\n",
    "\n",
    "def main():\n",
    "    X = numbers()\n",
    "    med = median(X)\n",
    "    avg = means(X)\n",
    "    std = std_dev(X, avg)\n",
    "    print(\"당신이 입력한 숫자{}의 \".format(X))\n",
    "    print(\"중앙값은{}, 평균은{}, 표준편차는{}입니다.\".format(med, avg, std))\n",
    "\n",
    "if __name__ == '__main__':\n",
    "    main()"
   ]
  },
  {
   "cell_type": "code",
   "execution_count": null,
   "metadata": {},
   "outputs": [],
   "source": []
  },
  {
   "cell_type": "code",
   "execution_count": null,
   "metadata": {},
   "outputs": [],
   "source": []
  }
 ],
 "metadata": {
  "kernelspec": {
   "display_name": "Python 3",
   "language": "python",
   "name": "python3"
  },
  "language_info": {
   "codemirror_mode": {
    "name": "ipython",
    "version": 3
   },
   "file_extension": ".py",
   "mimetype": "text/x-python",
   "name": "python",
   "nbconvert_exporter": "python",
   "pygments_lexer": "ipython3",
   "version": "3.7.6"
  }
 },
 "nbformat": 4,
 "nbformat_minor": 4
}

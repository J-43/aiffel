{
 "cells": [
  {
   "cell_type": "markdown",
   "metadata": {},
   "source": [
    "### Step 2. 데이터 읽어오기"
   ]
  },
  {
   "cell_type": "code",
   "execution_count": 1,
   "metadata": {},
   "outputs": [],
   "source": [
    "import re               \n",
    "import numpy as np         \n",
    "import tensorflow as tf "
   ]
  },
  {
   "cell_type": "code",
   "execution_count": 2,
   "metadata": {},
   "outputs": [
    {
     "name": "stdout",
     "output_type": "stream",
     "text": [
      "데이터 크기: 187088\n",
      "Examples:\n",
      " ['The Cat in the Hat', 'By Dr. Seuss', 'The sun did not shine.', 'It was too wet to play.', 'So we sat in the house', 'All that cold cold wet day.', 'I sat there with Sally.', 'We sat there we two.', 'And I said How I wish', 'We had something to do!']\n"
     ]
    }
   ],
   "source": [
    "import glob\n",
    "import os\n",
    "\n",
    "txt_file_path = os.getenv('HOME')+'/aiffel//lyricist/data/lyrics/*'\n",
    "\n",
    "txt_list = glob.glob(txt_file_path)\n",
    "\n",
    "raw_corpus = []\n",
    "\n",
    "# 여러개의 txt 파일을 모두 읽어서 raw_corpus 에 담습니다.\n",
    "for txt_file in txt_list:\n",
    "    with open(txt_file, \"r\") as f:\n",
    "        raw = f.read().splitlines()\n",
    "        raw_corpus.extend(raw)\n",
    "\n",
    "print(\"데이터 크기:\", len(raw_corpus))\n",
    "print(\"Examples:\\n\", raw_corpus[:10])"
   ]
  },
  {
   "cell_type": "markdown",
   "metadata": {},
   "source": [
    "### Step 3. 데이터 정제"
   ]
  },
  {
   "cell_type": "code",
   "execution_count": 3,
   "metadata": {},
   "outputs": [
    {
     "name": "stdout",
     "output_type": "stream",
     "text": [
      "<start> this is sample sentence . <end>\n"
     ]
    }
   ],
   "source": [
    "def preprocess_sentence(sentence):\n",
    "    sentence = sentence.lower().strip()       # 소문자로 바꾸고 양쪽 공백을 삭제\n",
    "  \n",
    "    # 아래 3단계를 거쳐 sentence는 스페이스 1개를 delimeter로 하는 소문자 단어 시퀀스로 바뀝니다.\n",
    "    sentence = re.sub(r\"([?.!,¿])\", r\" \\1 \", sentence)        # 패턴의 특수문자를 만나면 특수문자 양쪽에 공백을 추가\n",
    "    sentence = re.sub(r'[\" \"]+', \" \", sentence)                  # 공백 패턴을 만나면 스페이스 1개로 치환\n",
    "    sentence = re.sub(r\"[^a-zA-Z?.!,¿]+\", \" \", sentence)  # a-zA-Z?.!,¿ 패턴을 제외한 모든 문자(공백문자까지도)를 스페이스 1개로 치환\n",
    "\n",
    "    sentence = sentence.strip()\n",
    "\n",
    "    sentence = '<start> ' + sentence + ' <end>'      # 이전 스텝에서 본 것처럼 문장 앞뒤로 <start>와 <end>를 단어처럼 붙여 줍니다\n",
    "    \n",
    "    return sentence\n",
    "\n",
    "print(preprocess_sentence(\"This @_is ;;;sample        sentence.\"))   # 이 문장이 어떻게 필터링되는지 확인해 보세요."
   ]
  },
  {
   "cell_type": "code",
   "execution_count": 4,
   "metadata": {},
   "outputs": [
    {
     "data": {
      "text/plain": [
       "['<start> the cat in the hat <end>',\n",
       " '<start> by dr . seuss <end>',\n",
       " '<start> the sun did not shine . <end>',\n",
       " '<start> it was too wet to play . <end>',\n",
       " '<start> so we sat in the house <end>',\n",
       " '<start> all that cold cold wet day . <end>',\n",
       " '<start> i sat there with sally . <end>',\n",
       " '<start> we sat there we two . <end>',\n",
       " '<start> and i said how i wish <end>',\n",
       " '<start> we had something to do ! <end>']"
      ]
     },
     "execution_count": 4,
     "metadata": {},
     "output_type": "execute_result"
    }
   ],
   "source": [
    "corpus = []\n",
    "\n",
    "for sentence in raw_corpus:\n",
    "    if len(sentence) == 0: continue\n",
    "    if len(sentence.split()) >=13 : continue\n",
    "        \n",
    "    corpus.append(preprocess_sentence(sentence))\n",
    "        \n",
    "corpus[:10]"
   ]
  },
  {
   "cell_type": "code",
   "execution_count": 5,
   "metadata": {},
   "outputs": [
    {
     "name": "stdout",
     "output_type": "stream",
     "text": [
      "[[   2    6  833 ...    0    0    0]\n",
      " [   2  118 2605 ...    0    0    0]\n",
      " [   2    6  297 ...    0    0    0]\n",
      " ...\n",
      " [   2 2513   13 ...    0    0    0]\n",
      " [   2  692   27 ...    0    0    0]\n",
      " [   2  692   27 ...    0    0    0]] <keras_preprocessing.text.Tokenizer object at 0x7f7093b91d50>\n"
     ]
    }
   ],
   "source": [
    "def tokenize(corpus):\n",
    "    # 텐서플로우에서 제공하는 Tokenizer 패키지를 생성\n",
    "    tokenizer = tf.keras.preprocessing.text.Tokenizer(\n",
    "        num_words=12000,  # 전체 단어의 개수 \n",
    "        filters=' ',    # 별도로 전처리 로직을 추가할 수 있습니다. 이번에는 사용하지 않겠습니다.\n",
    "        oov_token=\"<unk>\"  # out-of-vocabulary, 사전에 없었던 단어는 어떤 토큰으로 대체할지\n",
    "    )\n",
    "    tokenizer.fit_on_texts(corpus)   # 우리가 구축한 corpus로부터 Tokenizer가 사전을 자동구축하게 됩니다.\n",
    "\n",
    "    # 이후 tokenizer를 활용하여 모델에 입력할 데이터셋을 구축하게 됩니다.\n",
    "    tensor = tokenizer.texts_to_sequences(corpus)   # tokenizer는 구축한 사전으로부터 corpus를 해석해 Tensor로 변환합니다.\n",
    "\n",
    "    # 입력 데이터의 시퀀스 길이를 일정하게 맞추기 위한 padding  메소드를 제공합니다.\n",
    "    # maxlen의 디폴트값은 None입니다. 이 경우 corpus의 가장 긴 문장을 기준으로 시퀀스 길이가 맞춰집니다.\n",
    "    tensor = tf.keras.preprocessing.sequence.pad_sequences(tensor, padding='post')  \n",
    "\n",
    "    print(tensor,tokenizer)\n",
    "    return tensor, tokenizer\n",
    "\n",
    "tensor, tokenizer = tokenize(corpus)"
   ]
  },
  {
   "cell_type": "markdown",
   "metadata": {},
   "source": [
    "### Step 4. 평가 데이터셋 분리"
   ]
  },
  {
   "cell_type": "code",
   "execution_count": 6,
   "metadata": {},
   "outputs": [
    {
     "name": "stdout",
     "output_type": "stream",
     "text": [
      "[   2    6  833   14    6 1213    3    0    0    0    0    0    0    0\n",
      "    0    0    0    0    0    0    0    0    0    0    0    0    0    0\n",
      "    0    0    0    0]\n",
      "[   6  833   14    6 1213    3    0    0    0    0    0    0    0    0\n",
      "    0    0    0    0    0    0    0    0    0    0    0    0    0    0\n",
      "    0    0    0    0]\n"
     ]
    }
   ],
   "source": [
    "src_input = tensor[:, :-1]  # tensor에서 마지막 토큰을 잘라내서 소스 문장을 생성합니다. 마지막 토큰은 <END>가 아니라 <pad>일 가능성이 높습니다.\n",
    "tgt_input = tensor[:, 1:]    # tensor에서 <START>를 잘라내서 타겟 문장을 생성합니다.\n",
    "\n",
    "print(src_input[0])\n",
    "print(tgt_input[0])"
   ]
  },
  {
   "cell_type": "code",
   "execution_count": 7,
   "metadata": {
    "scrolled": true
   },
   "outputs": [
    {
     "name": "stdout",
     "output_type": "stream",
     "text": [
      "(158876, 32)\n",
      "(158876, 32)\n"
     ]
    }
   ],
   "source": [
    "print(src_input.shape)\n",
    "print(tgt_input.shape)"
   ]
  },
  {
   "cell_type": "code",
   "execution_count": 8,
   "metadata": {},
   "outputs": [
    {
     "name": "stdout",
     "output_type": "stream",
     "text": [
      "Source Train: (127100, 32)\n",
      "Target Train: (127100, 32)\n"
     ]
    }
   ],
   "source": [
    "from sklearn.model_selection import train_test_split\n",
    "enc_train, enc_val, dec_train, dec_val = train_test_split(src_input, tgt_input, \n",
    "                                                          random_state=2020, test_size=0.2)\n",
    "\n",
    "print(\"Source Train:\", enc_train.shape)\n",
    "print(\"Target Train:\", dec_train.shape)"
   ]
  },
  {
   "cell_type": "code",
   "execution_count": 9,
   "metadata": {},
   "outputs": [],
   "source": [
    "BUFFER_SIZE = len(src_input)\n",
    "BATCH_SIZE = 256\n",
    "steps_per_epoch = len(src_input) // BATCH_SIZE\n",
    "\n",
    "VOCAB_SIZE = tokenizer.num_words + 1   "
   ]
  },
  {
   "cell_type": "code",
   "execution_count": 10,
   "metadata": {},
   "outputs": [
    {
     "data": {
      "text/plain": [
       "<BatchDataset shapes: ((256, 32), (256, 32)), types: (tf.int32, tf.int32)>"
      ]
     },
     "execution_count": 10,
     "metadata": {},
     "output_type": "execute_result"
    }
   ],
   "source": [
    "dataset = tf.data.Dataset.from_tensor_slices((enc_train, dec_train)).shuffle(BUFFER_SIZE)\n",
    "dataset = dataset.batch(BATCH_SIZE, drop_remainder=True)\n",
    "dataset"
   ]
  },
  {
   "cell_type": "code",
   "execution_count": 11,
   "metadata": {},
   "outputs": [
    {
     "data": {
      "text/plain": [
       "<BatchDataset shapes: ((256, 32), (256, 32)), types: (tf.int32, tf.int32)>"
      ]
     },
     "execution_count": 11,
     "metadata": {},
     "output_type": "execute_result"
    }
   ],
   "source": [
    "val_dataset = tf.data.Dataset.from_tensor_slices((enc_val, dec_val)).shuffle(BUFFER_SIZE)\n",
    "val_dataset = val_dataset.batch(BATCH_SIZE, drop_remainder=True)\n",
    "val_dataset"
   ]
  },
  {
   "cell_type": "markdown",
   "metadata": {},
   "source": [
    "### Step 5. 인공지능 만들기\n",
    "모델의 Embedding Size와 Hidden Size를 조절하며 10 Epoch 안에 val_loss 값을 2.2 수준으로 줄일 수 있는 모델을 설계하세요!     \n",
    "(Loss는 아래 제시된 Loss 함수를 그대로 사용!)\n",
    "\n",
    "그리고 멋진 모델이 생성한 가사 한 줄을 제출하시길 바랍니다!"
   ]
  },
  {
   "cell_type": "code",
   "execution_count": 12,
   "metadata": {},
   "outputs": [],
   "source": [
    "class TextGenerator(tf.keras.Model):\n",
    "    def __init__(self, vocab_size, embedding_size, hidden_size):\n",
    "        super(TextGenerator, self).__init__()\n",
    "        \n",
    "        self.embedding = tf.keras.layers.Embedding(vocab_size, embedding_size)\n",
    "        self.rnn_1 = tf.keras.layers.LSTM(hidden_size, return_sequences=True)\n",
    "        self.rnn_2 = tf.keras.layers.LSTM(hidden_size, return_sequences=True)\n",
    "        self.linear = tf.keras.layers.Dense(vocab_size)\n",
    "        \n",
    "    def call(self, x):\n",
    "        out = self.embedding(x)\n",
    "        out = self.rnn_1(out)\n",
    "        out = self.rnn_2(out)\n",
    "        out = self.linear(out)\n",
    "        \n",
    "        return out\n",
    "    \n",
    "embedding_size = 256\n",
    "hidden_size = 1024\n",
    "model = TextGenerator(tokenizer.num_words + 1, embedding_size , hidden_size)"
   ]
  },
  {
   "cell_type": "code",
   "execution_count": 13,
   "metadata": {},
   "outputs": [
    {
     "data": {
      "text/plain": [
       "<tf.Tensor: shape=(256, 32, 12001), dtype=float32, numpy=\n",
       "array([[[-7.45320285e-05, -1.30433727e-05, -2.65727635e-04, ...,\n",
       "         -1.99578226e-05, -9.88663305e-05,  3.91473441e-06],\n",
       "        [-3.86386200e-05,  1.71864784e-04, -4.90912294e-04, ...,\n",
       "         -1.56890033e-04,  1.45705882e-04,  1.35427937e-04],\n",
       "        [ 2.15654407e-04,  3.73609917e-04, -6.43857929e-04, ...,\n",
       "         -3.18878039e-04,  3.79037840e-04,  2.95564532e-04],\n",
       "        ...,\n",
       "        [-1.12380926e-03,  3.05116735e-03,  4.11078567e-03, ...,\n",
       "         -1.24586129e-03,  3.66896647e-03,  3.59315658e-03],\n",
       "        [-1.13702659e-03,  3.09197581e-03,  4.12643002e-03, ...,\n",
       "         -1.28007005e-03,  3.68653447e-03,  3.62535543e-03],\n",
       "        [-1.14945823e-03,  3.12704593e-03,  4.13766829e-03, ...,\n",
       "         -1.30813406e-03,  3.69971246e-03,  3.65092745e-03]],\n",
       "\n",
       "       [[-7.45320285e-05, -1.30433727e-05, -2.65727635e-04, ...,\n",
       "         -1.99578226e-05, -9.88663305e-05,  3.91473441e-06],\n",
       "        [-3.51632363e-04,  1.13287839e-04, -3.72804323e-04, ...,\n",
       "         -1.45883154e-04,  9.97856187e-05, -8.95311605e-05],\n",
       "        [-4.59879579e-04,  1.81232317e-04, -1.68791637e-04, ...,\n",
       "         -3.61966755e-04,  5.98736806e-05,  2.04820812e-04],\n",
       "        ...,\n",
       "        [-1.18729006e-03,  3.24342027e-03,  4.19479189e-03, ...,\n",
       "         -1.29677122e-03,  3.72119853e-03,  3.67763848e-03],\n",
       "        [-1.18996657e-03,  3.26161436e-03,  4.19025961e-03, ...,\n",
       "         -1.31984870e-03,  3.72394803e-03,  3.68914334e-03],\n",
       "        [-1.19311642e-03,  3.27588688e-03,  4.18558996e-03, ...,\n",
       "         -1.33808341e-03,  3.72545864e-03,  3.69819906e-03]],\n",
       "\n",
       "       [[-7.45320285e-05, -1.30433727e-05, -2.65727635e-04, ...,\n",
       "         -1.99578226e-05, -9.88663305e-05,  3.91473441e-06],\n",
       "        [ 8.97117425e-05,  5.40271612e-05, -6.14711142e-04, ...,\n",
       "         -9.81252160e-05, -3.92258691e-04, -3.16305639e-04],\n",
       "        [ 1.82894495e-04,  3.10066243e-04, -6.98534655e-04, ...,\n",
       "          6.89954904e-05, -4.23485762e-04, -4.87926533e-04],\n",
       "        ...,\n",
       "        [-1.15090085e-03,  3.10997642e-03,  4.10489878e-03, ...,\n",
       "         -1.04511913e-03,  3.62009997e-03,  3.48395971e-03],\n",
       "        [-1.15390017e-03,  3.14746285e-03,  4.12522582e-03, ...,\n",
       "         -1.11664017e-03,  3.64578632e-03,  3.53533495e-03],\n",
       "        [-1.15792733e-03,  3.17900791e-03,  4.13925201e-03, ...,\n",
       "         -1.17617927e-03,  3.66516854e-03,  3.57674016e-03]],\n",
       "\n",
       "       ...,\n",
       "\n",
       "       [[-7.45320285e-05, -1.30433727e-05, -2.65727635e-04, ...,\n",
       "         -1.99578226e-05, -9.88663305e-05,  3.91473441e-06],\n",
       "        [-1.01375845e-04,  1.41691053e-04, -3.14371486e-04, ...,\n",
       "          9.65673389e-05, -9.46526870e-06,  1.22444180e-04],\n",
       "        [-1.03509461e-04,  1.06117746e-04, -3.22926353e-04, ...,\n",
       "          1.48994732e-04,  2.97145947e-04,  2.61885376e-04],\n",
       "        ...,\n",
       "        [-1.14013662e-03,  3.19899712e-03,  4.27746633e-03, ...,\n",
       "         -1.20853190e-03,  3.78797483e-03,  3.61955655e-03],\n",
       "        [-1.14985218e-03,  3.22337355e-03,  4.26642597e-03, ...,\n",
       "         -1.24383974e-03,  3.78236454e-03,  3.64183867e-03],\n",
       "        [-1.15905155e-03,  3.24320560e-03,  4.25501261e-03, ...,\n",
       "         -1.27316907e-03,  3.77640524e-03,  3.65978153e-03]],\n",
       "\n",
       "       [[-7.45320285e-05, -1.30433727e-05, -2.65727635e-04, ...,\n",
       "         -1.99578226e-05, -9.88663305e-05,  3.91473441e-06],\n",
       "        [-6.31103758e-04,  1.31538458e-04, -2.62460817e-04, ...,\n",
       "          3.53643809e-05, -1.54285386e-04,  1.14323193e-04],\n",
       "        [-8.85467802e-04,  4.14178066e-04, -2.90407916e-04, ...,\n",
       "         -3.96101714e-05, -1.84263845e-04,  2.08242680e-04],\n",
       "        ...,\n",
       "        [-1.15773850e-03,  3.24186403e-03,  4.13729390e-03, ...,\n",
       "         -1.32510567e-03,  3.71358311e-03,  3.67414462e-03],\n",
       "        [-1.16747082e-03,  3.25446250e-03,  4.14015027e-03, ...,\n",
       "         -1.34232559e-03,  3.71804740e-03,  3.68438964e-03],\n",
       "        [-1.17619440e-03,  3.26478644e-03,  4.14210372e-03, ...,\n",
       "         -1.35587202e-03,  3.72092542e-03,  3.69255245e-03]],\n",
       "\n",
       "       [[-7.45320285e-05, -1.30433727e-05, -2.65727635e-04, ...,\n",
       "         -1.99578226e-05, -9.88663305e-05,  3.91473441e-06],\n",
       "        [-1.47031926e-04, -2.72162462e-04, -5.41288638e-04, ...,\n",
       "          1.87972226e-04,  4.41227303e-06, -1.33882349e-04],\n",
       "        [-6.71632006e-05, -8.07034492e-04, -5.37853222e-04, ...,\n",
       "          4.72701591e-04, -4.84239135e-05, -2.67245719e-04],\n",
       "        ...,\n",
       "        [-1.14265527e-03,  3.11302487e-03,  4.22169594e-03, ...,\n",
       "         -1.20012264e-03,  3.74010066e-03,  3.60522349e-03],\n",
       "        [-1.15532451e-03,  3.15519748e-03,  4.21808707e-03, ...,\n",
       "         -1.23999070e-03,  3.74050252e-03,  3.62647837e-03],\n",
       "        [-1.16662891e-03,  3.18980962e-03,  4.21304954e-03, ...,\n",
       "         -1.27265893e-03,  3.74005525e-03,  3.64389131e-03]]],\n",
       "      dtype=float32)>"
      ]
     },
     "execution_count": 13,
     "metadata": {},
     "output_type": "execute_result"
    }
   ],
   "source": [
    "for src_sample, tgt_sample in dataset.take(1): break\n",
    "model(src_sample)"
   ]
  },
  {
   "cell_type": "code",
   "execution_count": 14,
   "metadata": {},
   "outputs": [
    {
     "name": "stdout",
     "output_type": "stream",
     "text": [
      "Model: \"text_generator\"\n",
      "_________________________________________________________________\n",
      "Layer (type)                 Output Shape              Param #   \n",
      "=================================================================\n",
      "embedding (Embedding)        multiple                  3072256   \n",
      "_________________________________________________________________\n",
      "lstm (LSTM)                  multiple                  5246976   \n",
      "_________________________________________________________________\n",
      "lstm_1 (LSTM)                multiple                  8392704   \n",
      "_________________________________________________________________\n",
      "dense (Dense)                multiple                  12301025  \n",
      "=================================================================\n",
      "Total params: 29,012,961\n",
      "Trainable params: 29,012,961\n",
      "Non-trainable params: 0\n",
      "_________________________________________________________________\n"
     ]
    }
   ],
   "source": [
    "model.summary()"
   ]
  },
  {
   "cell_type": "code",
   "execution_count": 15,
   "metadata": {},
   "outputs": [
    {
     "name": "stdout",
     "output_type": "stream",
     "text": [
      "Epoch 1/10\n",
      "496/496 [==============================] - 144s 290ms/step - loss: 1.6379 - accuracy: 0.7676 - val_loss: 1.4050 - val_accuracy: 0.7817\n",
      "Epoch 2/10\n",
      "496/496 [==============================] - 146s 294ms/step - loss: 1.3512 - accuracy: 0.7859 - val_loss: 1.3199 - val_accuracy: 0.7882\n",
      "Epoch 3/10\n",
      "496/496 [==============================] - 159s 320ms/step - loss: 1.2771 - accuracy: 0.7909 - val_loss: 1.2700 - val_accuracy: 0.7914\n",
      "Epoch 4/10\n",
      "496/496 [==============================] - 169s 340ms/step - loss: 1.2212 - accuracy: 0.7945 - val_loss: 1.2344 - val_accuracy: 0.7945\n",
      "Epoch 5/10\n",
      "496/496 [==============================] - 161s 324ms/step - loss: 1.1728 - accuracy: 0.7979 - val_loss: 1.2049 - val_accuracy: 0.7975\n",
      "Epoch 6/10\n",
      "496/496 [==============================] - 177s 357ms/step - loss: 1.1278 - accuracy: 0.8015 - val_loss: 1.1805 - val_accuracy: 0.8001\n",
      "Epoch 7/10\n",
      "496/496 [==============================] - 160s 323ms/step - loss: 1.0859 - accuracy: 0.8051 - val_loss: 1.1584 - val_accuracy: 0.8029\n",
      "Epoch 8/10\n",
      "496/496 [==============================] - 149s 300ms/step - loss: 1.0471 - accuracy: 0.8089 - val_loss: 1.1420 - val_accuracy: 0.8052\n",
      "Epoch 9/10\n",
      "496/496 [==============================] - 145s 292ms/step - loss: 1.0110 - accuracy: 0.8129 - val_loss: 1.1270 - val_accuracy: 0.8078\n",
      "Epoch 10/10\n",
      "496/496 [==============================] - 145s 293ms/step - loss: 0.9770 - accuracy: 0.8169 - val_loss: 1.1153 - val_accuracy: 0.8100\n"
     ]
    }
   ],
   "source": [
    "optimizer = tf.keras.optimizers.Adam()\n",
    "\n",
    "loss = tf.keras.losses.SparseCategoricalCrossentropy(\n",
    "    from_logits=True, reduction='none')\n",
    "\n",
    "model.compile(loss=loss, optimizer=optimizer, metrics=['accuracy'])\n",
    "\n",
    "model.fit(dataset, validation_data=val_dataset, epochs=10)\n"
   ]
  },
  {
   "cell_type": "code",
   "execution_count": 16,
   "metadata": {},
   "outputs": [],
   "source": [
    "def generate_text(model, tokenizer, init_sentence=\"<start>\", max_len=20):\n",
    "    # 테스트를 위해서 입력받은 init_sentence도 일단 텐서로 변환합니다.\n",
    "    test_input = tokenizer.texts_to_sequences([init_sentence])\n",
    "    test_tensor = tf.convert_to_tensor(test_input, dtype=tf.int64)\n",
    "    end_token = tokenizer.word_index[\"<end>\"]\n",
    "\n",
    "    # 텍스트를 실제로 생성할때는 루프를 돌면서 단어 하나씩 생성해야 합니다. \n",
    "    while True:\n",
    "        predict = model(test_tensor)  # 입력받은 문장의 텐서를 입력합니다. \n",
    "        predict_word = tf.argmax(tf.nn.softmax(predict, axis=-1), axis=-1)[:, -1]   # 우리 모델이 예측한 마지막 단어가 바로 새롭게 생성한 단어가 됩니다. \n",
    "\n",
    "        # 우리 모델이 새롭게 예측한 단어를 입력 문장의 뒤에 붙여 줍니다. \n",
    "        test_tensor = tf.concat([test_tensor, tf.expand_dims(predict_word, axis=0)], axis=-1)\n",
    "\n",
    "        # 우리 모델이 <END>를 예측했거나, max_len에 도달하지 않았다면  while 루프를 또 돌면서 다음 단어를 예측해야 합니다.\n",
    "        if predict_word.numpy()[0] == end_token: break\n",
    "        if test_tensor.shape[1] >= max_len: break\n",
    "\n",
    "    generated = \"\"\n",
    "    # 생성된 tensor 안에 있는 word index를 tokenizer.index_word 사전을 통해 실제 단어로 하나씩 변환합니다. \n",
    "    for word_index in test_tensor[0].numpy():\n",
    "        generated += tokenizer.index_word[word_index] + \" \"\n",
    "\n",
    "    return generated   # 이것이 최종적으로 모델이 생성한 자연어 문장입니다."
   ]
  },
  {
   "cell_type": "code",
   "execution_count": 17,
   "metadata": {},
   "outputs": [
    {
     "data": {
      "text/plain": [
       "'<start> i love you , i love you <end> '"
      ]
     },
     "execution_count": 17,
     "metadata": {},
     "output_type": "execute_result"
    }
   ],
   "source": [
    "generate_text(model, tokenizer, init_sentence=\"<start> i love\", max_len=20)"
   ]
  },
  {
   "cell_type": "code",
   "execution_count": 18,
   "metadata": {},
   "outputs": [
    {
     "data": {
      "text/plain": [
       "'<start> i will be your satellite <end> '"
      ]
     },
     "execution_count": 18,
     "metadata": {},
     "output_type": "execute_result"
    }
   ],
   "source": [
    "generate_text(model, tokenizer, init_sentence=\"<start> i will\", max_len=20)"
   ]
  },
  {
   "cell_type": "code",
   "execution_count": 20,
   "metadata": {},
   "outputs": [
    {
     "data": {
      "text/plain": [
       "'<start> hi ! my name is huh <end> '"
      ]
     },
     "execution_count": 20,
     "metadata": {},
     "output_type": "execute_result"
    }
   ],
   "source": [
    "generate_text(model, tokenizer, init_sentence=\"<start> hi\", max_len=20)"
   ]
  },
  {
   "cell_type": "code",
   "execution_count": 21,
   "metadata": {},
   "outputs": [
    {
     "data": {
      "text/plain": [
       "'<start> goodbye to the moon <end> '"
      ]
     },
     "execution_count": 21,
     "metadata": {},
     "output_type": "execute_result"
    }
   ],
   "source": [
    "generate_text(model, tokenizer, init_sentence=\"<start> goodbye\", max_len=20)"
   ]
  },
  {
   "cell_type": "code",
   "execution_count": 22,
   "metadata": {},
   "outputs": [
    {
     "data": {
      "text/plain": [
       "'<start> i have a little bit of my heart <end> '"
      ]
     },
     "execution_count": 22,
     "metadata": {},
     "output_type": "execute_result"
    }
   ],
   "source": [
    "generate_text(model, tokenizer, init_sentence=\"<start> i have\", max_len=20)"
   ]
  },
  {
   "cell_type": "markdown",
   "metadata": {},
   "source": [
    "- 최종 val_loss: 1.1153 - val_accuracy: 0.8100    \n",
    "\n",
    "tokenize함수를 만들때    \n",
    "tensor = tf.keras.preprocessing.sequence.pad_sequences(tensor, padding='post') 부분에 maxlen = 15로 설정하였다가,    \n",
    "loss값이 잘 떨어지지않고, accuracy 도 0.5로 높지 않아서, maxlen 에 공부하게 되었다.     \n",
    "manlen은 정해준 부분 이상이 되면 그 뒷 정보를 아예 삭제한다고 하여, 온전한 문장이 아닌, 설정한 '15'이후 단어를 자른 문장을 만든다고 한다.   \n",
    "그래서 온전하지 않은 문장을 학습시켜서 정확도를 높이고, 로스를 낮추려고 하니 힘들었던것...    \n",
    "그래서 corpus에 넣을때 아예 긴문장을 넣지않은 방법으로 하니, 노드에서 준 모델을 파라미터 변경없이 그대로 써도,     \n",
    "accuracy가 0.81로 높게 나오고, loss도 평가기준인 2.2보다 낮은 1.1153이 나왔다.    "
   ]
  },
  {
   "cell_type": "code",
   "execution_count": null,
   "metadata": {},
   "outputs": [],
   "source": []
  }
 ],
 "metadata": {
  "kernelspec": {
   "display_name": "aiffel",
   "language": "python",
   "name": "aiffel"
  },
  "language_info": {
   "codemirror_mode": {
    "name": "ipython",
    "version": 3
   },
   "file_extension": ".py",
   "mimetype": "text/x-python",
   "name": "python",
   "nbconvert_exporter": "python",
   "pygments_lexer": "ipython3",
   "version": "3.7.6"
  }
 },
 "nbformat": 4,
 "nbformat_minor": 4
}

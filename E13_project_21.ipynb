{
 "cells": [
  {
   "cell_type": "code",
   "execution_count": 2,
   "metadata": {},
   "outputs": [
    {
     "name": "stderr",
     "output_type": "stream",
     "text": [
      "100%|██████████| 35887/35887 [00:23<00:00, 1535.65it/s]"
     ]
    },
    {
     "name": "stdout",
     "output_type": "stream",
     "text": [
      "train : 32298, eval :3589\n"
     ]
    },
    {
     "name": "stderr",
     "output_type": "stream",
     "text": [
      "\n"
     ]
    }
   ],
   "source": [
    "import numpy as np\n",
    "import tqdm\n",
    "import os\n",
    "\n",
    "\n",
    "train_x = []\n",
    "train_y = []\n",
    "eval_x = []\n",
    "eval_y = []\n",
    "\n",
    "csv_path = os.getenv('HOME')+'/aiffel/Face2Emoji/data/fer2013.csv'\n",
    "\n",
    "with open(csv_path) as f:\n",
    "    for line in tqdm.tqdm(f.read().splitlines()[1:]):\n",
    "        emotion, pixels, usage = line.split(',')\n",
    "        x = np.array(pixels.split(' ')).astype(float).reshape(48, 48, 1) / 255\n",
    "        y = int(emotion)\n",
    "\n",
    "        if usage == 'PrivateTest':\n",
    "            eval_x.append(x)\n",
    "            eval_y.append(y)\n",
    "        else:\n",
    "            train_x.append(x)\n",
    "            train_y.append(y)\n",
    "\n",
    "print('train : {}, eval :{}'.format(len(train_x), len(eval_x)))"
   ]
  },
  {
   "cell_type": "code",
   "execution_count": 3,
   "metadata": {
    "scrolled": true
   },
   "outputs": [
    {
     "name": "stderr",
     "output_type": "stream",
     "text": [
      "Illegal line #217\n",
      "\t\"       - 'Nanum'\n",
      "\"\n",
      "\tin file \"/home/aiffel0042/anaconda3/envs/aiffel/lib/python3.7/site-packages/matplotlib/mpl-data/matplotlibrc\"\n"
     ]
    },
    {
     "name": "stdout",
     "output_type": "stream",
     "text": [
      "Angry\n"
     ]
    },
    {
     "data": {
      "text/plain": [
       "<matplotlib.image.AxesImage at 0x7f4f0bf4a650>"
      ]
     },
     "execution_count": 3,
     "metadata": {},
     "output_type": "execute_result"
    },
    {
     "data": {
      "image/png": "[encoded data removed]",
      "text/plain": [
       "<Figure size 432x288 with 1 Axes>"
      ]
     },
     "metadata": {
      "needs_background": "light"
     },
     "output_type": "display_data"
    }
   ],
   "source": [
    "from matplotlib import pyplot as plt\n",
    "\n",
    "LABELS = ['Angry', 'Disgust', 'Fear', 'Happy', 'Sad', 'Surprise', 'Neutral']\n",
    "\n",
    "print(LABELS[train_y[0]])\n",
    "plt.imshow(train_x[0].reshape([48, 48]), cmap='gray')"
   ]
  },
  {
   "cell_type": "code",
   "execution_count": 5,
   "metadata": {},
   "outputs": [
    {
     "name": "stdout",
     "output_type": "stream",
     "text": [
      "Epoch 1/100\n",
      "253/253 [==============================] - 53s 209ms/step - loss: 1.7913 - categorical_accuracy: 0.2691 - val_loss: 1.9168 - val_categorical_accuracy: 0.2449\n",
      "Epoch 2/100\n",
      "253/253 [==============================] - 7s 27ms/step - loss: 1.6065 - categorical_accuracy: 0.3716 - val_loss: 1.9133 - val_categorical_accuracy: 0.1655\n",
      "Epoch 3/100\n",
      "253/253 [==============================] - 7s 27ms/step - loss: 1.4868 - categorical_accuracy: 0.4274 - val_loss: 1.9273 - val_categorical_accuracy: 0.1655\n",
      "Epoch 4/100\n",
      "253/253 [==============================] - 7s 27ms/step - loss: 1.3971 - categorical_accuracy: 0.4667 - val_loss: 1.9284 - val_categorical_accuracy: 0.1655\n",
      "Epoch 5/100\n",
      "253/253 [==============================] - 7s 28ms/step - loss: 1.3214 - categorical_accuracy: 0.4950 - val_loss: 1.9091 - val_categorical_accuracy: 0.1655\n",
      "Epoch 6/100\n",
      "253/253 [==============================] - 7s 27ms/step - loss: 1.2541 - categorical_accuracy: 0.5238 - val_loss: 1.8960 - val_categorical_accuracy: 0.1655\n",
      "Epoch 7/100\n",
      "253/253 [==============================] - 7s 28ms/step - loss: 1.1989 - categorical_accuracy: 0.5487 - val_loss: 1.8903 - val_categorical_accuracy: 0.1655\n",
      "Epoch 8/100\n",
      "253/253 [==============================] - 7s 27ms/step - loss: 1.1436 - categorical_accuracy: 0.5685 - val_loss: 1.9061 - val_categorical_accuracy: 0.1655\n",
      "Epoch 9/100\n",
      "253/253 [==============================] - 7s 28ms/step - loss: 1.0859 - categorical_accuracy: 0.5925 - val_loss: 1.8887 - val_categorical_accuracy: 0.1655\n",
      "Epoch 10/100\n",
      "253/253 [==============================] - 7s 28ms/step - loss: 1.0367 - categorical_accuracy: 0.6137 - val_loss: 1.9109 - val_categorical_accuracy: 0.1655\n",
      "Epoch 11/100\n",
      "253/253 [==============================] - 7s 28ms/step - loss: 0.9855 - categorical_accuracy: 0.6396 - val_loss: 1.8988 - val_categorical_accuracy: 0.1655\n",
      "Epoch 12/100\n",
      "253/253 [==============================] - 7s 28ms/step - loss: 0.9274 - categorical_accuracy: 0.6586 - val_loss: 1.9398 - val_categorical_accuracy: 0.1655\n",
      "Epoch 13/100\n",
      "253/253 [==============================] - 7s 28ms/step - loss: 0.8749 - categorical_accuracy: 0.6800 - val_loss: 1.9425 - val_categorical_accuracy: 0.1655\n",
      "Epoch 14/100\n",
      "253/253 [==============================] - 7s 28ms/step - loss: 0.8257 - categorical_accuracy: 0.6986 - val_loss: 1.9755 - val_categorical_accuracy: 0.1655\n",
      "Epoch 15/100\n",
      "253/253 [==============================] - 7s 28ms/step - loss: 0.7751 - categorical_accuracy: 0.7208 - val_loss: 1.9826 - val_categorical_accuracy: 0.1655\n",
      "Epoch 16/100\n",
      "253/253 [==============================] - 7s 28ms/step - loss: 0.7218 - categorical_accuracy: 0.7378 - val_loss: 1.9914 - val_categorical_accuracy: 0.1663\n",
      "Epoch 17/100\n",
      "253/253 [==============================] - 7s 28ms/step - loss: 0.6857 - categorical_accuracy: 0.7560 - val_loss: 1.8915 - val_categorical_accuracy: 0.2577\n",
      "Epoch 18/100\n",
      "253/253 [==============================] - 7s 28ms/step - loss: 0.6248 - categorical_accuracy: 0.7737 - val_loss: 1.9532 - val_categorical_accuracy: 0.2914\n",
      "Epoch 19/100\n",
      "253/253 [==============================] - 7s 28ms/step - loss: 0.5749 - categorical_accuracy: 0.7920 - val_loss: 1.7658 - val_categorical_accuracy: 0.3628\n",
      "Epoch 20/100\n",
      "253/253 [==============================] - 7s 28ms/step - loss: 0.5350 - categorical_accuracy: 0.8083 - val_loss: 1.8183 - val_categorical_accuracy: 0.4302\n",
      "Epoch 21/100\n",
      "253/253 [==============================] - 7s 28ms/step - loss: 0.5009 - categorical_accuracy: 0.8204 - val_loss: 2.0635 - val_categorical_accuracy: 0.4561\n",
      "Epoch 22/100\n",
      "253/253 [==============================] - 7s 28ms/step - loss: 0.4525 - categorical_accuracy: 0.8391 - val_loss: 2.8546 - val_categorical_accuracy: 0.4575\n",
      "Epoch 23/100\n",
      "253/253 [==============================] - 7s 28ms/step - loss: 0.4177 - categorical_accuracy: 0.8498 - val_loss: 3.1399 - val_categorical_accuracy: 0.4483\n",
      "Epoch 24/100\n",
      "253/253 [==============================] - 7s 28ms/step - loss: 0.3893 - categorical_accuracy: 0.8614 - val_loss: 4.7010 - val_categorical_accuracy: 0.4288\n",
      "Epoch 25/100\n",
      "253/253 [==============================] - 7s 28ms/step - loss: 0.3721 - categorical_accuracy: 0.8651 - val_loss: 4.0565 - val_categorical_accuracy: 0.4157\n",
      "Epoch 26/100\n",
      "253/253 [==============================] - 7s 28ms/step - loss: 0.3436 - categorical_accuracy: 0.8795 - val_loss: 4.4826 - val_categorical_accuracy: 0.4174\n",
      "Epoch 27/100\n",
      "253/253 [==============================] - 7s 28ms/step - loss: 0.3184 - categorical_accuracy: 0.8864 - val_loss: 4.1518 - val_categorical_accuracy: 0.4386\n",
      "Epoch 28/100\n",
      "253/253 [==============================] - 7s 28ms/step - loss: 0.3020 - categorical_accuracy: 0.8935 - val_loss: 5.2614 - val_categorical_accuracy: 0.3990\n",
      "Epoch 29/100\n",
      "253/253 [==============================] - 7s 28ms/step - loss: 0.2869 - categorical_accuracy: 0.8979 - val_loss: 4.2047 - val_categorical_accuracy: 0.4327\n",
      "Epoch 30/100\n",
      "253/253 [==============================] - 7s 28ms/step - loss: 0.2746 - categorical_accuracy: 0.9042 - val_loss: 4.5538 - val_categorical_accuracy: 0.4316\n",
      "Epoch 31/100\n",
      "253/253 [==============================] - 7s 28ms/step - loss: 0.2563 - categorical_accuracy: 0.9105 - val_loss: 4.5271 - val_categorical_accuracy: 0.4380\n",
      "Epoch 32/100\n",
      "253/253 [==============================] - 7s 28ms/step - loss: 0.2445 - categorical_accuracy: 0.9126 - val_loss: 4.1525 - val_categorical_accuracy: 0.4374\n",
      "Epoch 33/100\n",
      "253/253 [==============================] - 7s 28ms/step - loss: 0.2291 - categorical_accuracy: 0.9203 - val_loss: 4.0916 - val_categorical_accuracy: 0.4519\n",
      "Epoch 34/100\n",
      "253/253 [==============================] - 7s 28ms/step - loss: 0.2281 - categorical_accuracy: 0.9209 - val_loss: 4.2484 - val_categorical_accuracy: 0.4625\n",
      "Epoch 35/100\n",
      "253/253 [==============================] - 7s 28ms/step - loss: 0.2264 - categorical_accuracy: 0.9222 - val_loss: 4.3274 - val_categorical_accuracy: 0.4650\n",
      "Epoch 36/100\n",
      "253/253 [==============================] - 7s 28ms/step - loss: 0.2042 - categorical_accuracy: 0.9280 - val_loss: 4.9710 - val_categorical_accuracy: 0.4374\n",
      "Epoch 37/100\n",
      "253/253 [==============================] - 7s 28ms/step - loss: 0.2142 - categorical_accuracy: 0.9242 - val_loss: 4.4555 - val_categorical_accuracy: 0.4622\n",
      "Epoch 38/100\n",
      "253/253 [==============================] - 7s 28ms/step - loss: 0.1978 - categorical_accuracy: 0.9313 - val_loss: 4.5682 - val_categorical_accuracy: 0.4784\n",
      "Epoch 39/100\n",
      "253/253 [==============================] - 7s 28ms/step - loss: 0.1914 - categorical_accuracy: 0.9324 - val_loss: 4.2348 - val_categorical_accuracy: 0.4583\n",
      "Epoch 40/100\n",
      "253/253 [==============================] - 7s 28ms/step - loss: 0.1899 - categorical_accuracy: 0.9341 - val_loss: 4.2698 - val_categorical_accuracy: 0.4586\n",
      "Epoch 41/100\n",
      "253/253 [==============================] - 7s 28ms/step - loss: 0.1835 - categorical_accuracy: 0.9354 - val_loss: 4.0318 - val_categorical_accuracy: 0.4712\n",
      "Epoch 42/100\n",
      "253/253 [==============================] - 7s 28ms/step - loss: 0.1778 - categorical_accuracy: 0.9388 - val_loss: 4.0171 - val_categorical_accuracy: 0.4695\n",
      "Epoch 43/100\n",
      "253/253 [==============================] - 7s 28ms/step - loss: 0.1791 - categorical_accuracy: 0.9376 - val_loss: 4.0266 - val_categorical_accuracy: 0.4787\n",
      "Epoch 44/100\n",
      "253/253 [==============================] - 7s 28ms/step - loss: 0.1743 - categorical_accuracy: 0.9396 - val_loss: 4.1195 - val_categorical_accuracy: 0.4812\n",
      "Epoch 45/100\n",
      "253/253 [==============================] - 7s 28ms/step - loss: 0.1667 - categorical_accuracy: 0.9417 - val_loss: 4.3608 - val_categorical_accuracy: 0.4901\n",
      "Epoch 46/100\n",
      "253/253 [==============================] - 7s 28ms/step - loss: 0.1663 - categorical_accuracy: 0.9409 - val_loss: 4.1666 - val_categorical_accuracy: 0.4497\n",
      "Epoch 47/100\n",
      "253/253 [==============================] - 7s 28ms/step - loss: 0.1608 - categorical_accuracy: 0.9444 - val_loss: 4.4723 - val_categorical_accuracy: 0.4784\n",
      "Epoch 48/100\n",
      "253/253 [==============================] - 7s 28ms/step - loss: 0.1546 - categorical_accuracy: 0.9471 - val_loss: 3.8017 - val_categorical_accuracy: 0.4918\n",
      "Epoch 49/100\n",
      "253/253 [==============================] - 7s 28ms/step - loss: 0.1596 - categorical_accuracy: 0.9442 - val_loss: 4.8712 - val_categorical_accuracy: 0.4689\n",
      "Epoch 50/100\n",
      "253/253 [==============================] - 7s 28ms/step - loss: 0.1719 - categorical_accuracy: 0.9402 - val_loss: 3.9297 - val_categorical_accuracy: 0.4957\n",
      "Epoch 51/100\n",
      "253/253 [==============================] - 7s 28ms/step - loss: 0.1500 - categorical_accuracy: 0.9474 - val_loss: 3.8174 - val_categorical_accuracy: 0.5001\n",
      "Epoch 52/100\n",
      "253/253 [==============================] - 7s 28ms/step - loss: 0.1432 - categorical_accuracy: 0.9497 - val_loss: 3.8501 - val_categorical_accuracy: 0.4907\n",
      "Epoch 53/100\n",
      "253/253 [==============================] - 7s 28ms/step - loss: 0.1358 - categorical_accuracy: 0.9526 - val_loss: 3.6260 - val_categorical_accuracy: 0.4840\n",
      "Epoch 54/100\n",
      "253/253 [==============================] - 7s 28ms/step - loss: 0.1387 - categorical_accuracy: 0.9521 - val_loss: 3.9566 - val_categorical_accuracy: 0.4795\n",
      "Epoch 55/100\n",
      "253/253 [==============================] - 7s 28ms/step - loss: 0.1361 - categorical_accuracy: 0.9519 - val_loss: 4.2084 - val_categorical_accuracy: 0.5035\n",
      "Epoch 56/100\n",
      "253/253 [==============================] - 7s 28ms/step - loss: 0.1372 - categorical_accuracy: 0.9512 - val_loss: 4.1273 - val_categorical_accuracy: 0.4656\n",
      "Epoch 57/100\n",
      "253/253 [==============================] - 7s 28ms/step - loss: 0.1371 - categorical_accuracy: 0.9526 - val_loss: 3.8735 - val_categorical_accuracy: 0.4664\n",
      "Epoch 58/100\n",
      "253/253 [==============================] - 7s 28ms/step - loss: 0.1316 - categorical_accuracy: 0.9541 - val_loss: 3.9887 - val_categorical_accuracy: 0.4870\n",
      "Epoch 59/100\n",
      "253/253 [==============================] - 7s 28ms/step - loss: 0.1555 - categorical_accuracy: 0.9454 - val_loss: 4.6565 - val_categorical_accuracy: 0.4795\n",
      "Epoch 60/100\n",
      "253/253 [==============================] - 7s 28ms/step - loss: 0.1200 - categorical_accuracy: 0.9575 - val_loss: 3.7511 - val_categorical_accuracy: 0.4976\n",
      "Epoch 61/100\n",
      "253/253 [==============================] - 7s 27ms/step - loss: 0.1206 - categorical_accuracy: 0.9578 - val_loss: 4.2199 - val_categorical_accuracy: 0.4923\n",
      "Epoch 62/100\n",
      "253/253 [==============================] - 7s 27ms/step - loss: 0.1201 - categorical_accuracy: 0.9574 - val_loss: 4.9502 - val_categorical_accuracy: 0.4907\n",
      "Epoch 63/100\n",
      "253/253 [==============================] - 7s 28ms/step - loss: 0.1209 - categorical_accuracy: 0.9583 - val_loss: 3.9805 - val_categorical_accuracy: 0.4976\n",
      "Epoch 64/100\n",
      "253/253 [==============================] - 7s 28ms/step - loss: 0.1273 - categorical_accuracy: 0.9552 - val_loss: 3.9996 - val_categorical_accuracy: 0.4659\n",
      "Epoch 65/100\n",
      "253/253 [==============================] - 7s 28ms/step - loss: 0.1167 - categorical_accuracy: 0.9584 - val_loss: 3.8616 - val_categorical_accuracy: 0.4756\n",
      "Epoch 66/100\n",
      "253/253 [==============================] - 7s 28ms/step - loss: 0.1223 - categorical_accuracy: 0.9567 - val_loss: 3.3362 - val_categorical_accuracy: 0.4843\n",
      "Epoch 67/100\n",
      "253/253 [==============================] - 7s 28ms/step - loss: 0.1101 - categorical_accuracy: 0.9617 - val_loss: 3.6312 - val_categorical_accuracy: 0.5010\n",
      "Epoch 68/100\n",
      "253/253 [==============================] - 7s 28ms/step - loss: 0.1078 - categorical_accuracy: 0.9622 - val_loss: 3.7365 - val_categorical_accuracy: 0.4940\n",
      "Epoch 69/100\n",
      "253/253 [==============================] - 7s 28ms/step - loss: 0.1083 - categorical_accuracy: 0.9628 - val_loss: 3.8736 - val_categorical_accuracy: 0.4815\n",
      "Epoch 70/100\n",
      "253/253 [==============================] - 7s 28ms/step - loss: 0.1175 - categorical_accuracy: 0.9583 - val_loss: 3.5323 - val_categorical_accuracy: 0.4720\n",
      "Epoch 71/100\n",
      "253/253 [==============================] - 7s 28ms/step - loss: 0.1063 - categorical_accuracy: 0.9643 - val_loss: 4.1751 - val_categorical_accuracy: 0.4976\n",
      "Epoch 72/100\n",
      "253/253 [==============================] - 7s 28ms/step - loss: 0.1136 - categorical_accuracy: 0.9604 - val_loss: 3.7347 - val_categorical_accuracy: 0.5032\n",
      "Epoch 73/100\n",
      "253/253 [==============================] - 7s 28ms/step - loss: 0.1095 - categorical_accuracy: 0.9619 - val_loss: 3.6144 - val_categorical_accuracy: 0.5060\n",
      "Epoch 74/100\n",
      "253/253 [==============================] - 7s 28ms/step - loss: 0.1005 - categorical_accuracy: 0.9647 - val_loss: 3.6280 - val_categorical_accuracy: 0.4720\n",
      "Epoch 75/100\n",
      "253/253 [==============================] - 7s 28ms/step - loss: 0.1106 - categorical_accuracy: 0.9601 - val_loss: 3.6399 - val_categorical_accuracy: 0.5096\n",
      "Epoch 76/100\n",
      "253/253 [==============================] - 7s 28ms/step - loss: 0.1019 - categorical_accuracy: 0.9637 - val_loss: 3.7435 - val_categorical_accuracy: 0.4999\n",
      "Epoch 77/100\n",
      "253/253 [==============================] - 7s 28ms/step - loss: 0.0992 - categorical_accuracy: 0.9650 - val_loss: 3.5327 - val_categorical_accuracy: 0.4976\n",
      "Epoch 78/100\n",
      "253/253 [==============================] - 7s 28ms/step - loss: 0.0989 - categorical_accuracy: 0.9649 - val_loss: 3.6113 - val_categorical_accuracy: 0.5026\n",
      "Epoch 79/100\n",
      "253/253 [==============================] - 7s 28ms/step - loss: 0.0998 - categorical_accuracy: 0.9648 - val_loss: 3.5993 - val_categorical_accuracy: 0.4926\n",
      "Epoch 80/100\n",
      "253/253 [==============================] - 7s 28ms/step - loss: 0.0944 - categorical_accuracy: 0.9676 - val_loss: 3.5360 - val_categorical_accuracy: 0.4993\n",
      "Epoch 81/100\n",
      "253/253 [==============================] - 7s 28ms/step - loss: 0.0943 - categorical_accuracy: 0.9654 - val_loss: 4.0244 - val_categorical_accuracy: 0.5040\n",
      "Epoch 82/100\n",
      "253/253 [==============================] - 7s 28ms/step - loss: 0.1032 - categorical_accuracy: 0.9647 - val_loss: 3.5513 - val_categorical_accuracy: 0.4868\n",
      "Epoch 83/100\n",
      "253/253 [==============================] - 7s 28ms/step - loss: 0.0910 - categorical_accuracy: 0.9680 - val_loss: 3.7158 - val_categorical_accuracy: 0.5180\n",
      "Epoch 84/100\n",
      "253/253 [==============================] - 7s 28ms/step - loss: 0.0971 - categorical_accuracy: 0.9656 - val_loss: 3.6333 - val_categorical_accuracy: 0.5157\n",
      "Epoch 85/100\n",
      "253/253 [==============================] - 7s 28ms/step - loss: 0.0907 - categorical_accuracy: 0.9692 - val_loss: 3.7381 - val_categorical_accuracy: 0.5054\n",
      "Epoch 86/100\n",
      "253/253 [==============================] - 7s 28ms/step - loss: 0.0965 - categorical_accuracy: 0.9662 - val_loss: 3.5111 - val_categorical_accuracy: 0.5007\n",
      "Epoch 87/100\n",
      "253/253 [==============================] - 7s 28ms/step - loss: 0.0909 - categorical_accuracy: 0.9675 - val_loss: 3.7755 - val_categorical_accuracy: 0.4976\n",
      "Epoch 88/100\n",
      "253/253 [==============================] - 7s 28ms/step - loss: 0.0927 - categorical_accuracy: 0.9683 - val_loss: 3.5824 - val_categorical_accuracy: 0.5263\n",
      "Epoch 89/100\n",
      "253/253 [==============================] - 7s 28ms/step - loss: 0.0972 - categorical_accuracy: 0.9657 - val_loss: 3.6549 - val_categorical_accuracy: 0.5068\n",
      "Epoch 90/100\n",
      "253/253 [==============================] - 7s 28ms/step - loss: 0.0919 - categorical_accuracy: 0.9681 - val_loss: 3.6214 - val_categorical_accuracy: 0.5049\n",
      "Epoch 91/100\n",
      "253/253 [==============================] - 7s 29ms/step - loss: 0.0844 - categorical_accuracy: 0.9686 - val_loss: 3.4310 - val_categorical_accuracy: 0.5152\n",
      "Epoch 92/100\n",
      "253/253 [==============================] - 7s 29ms/step - loss: 0.0844 - categorical_accuracy: 0.9709 - val_loss: 3.8345 - val_categorical_accuracy: 0.5099\n",
      "Epoch 93/100\n",
      "253/253 [==============================] - 7s 28ms/step - loss: 0.0791 - categorical_accuracy: 0.9728 - val_loss: 3.4228 - val_categorical_accuracy: 0.5235\n",
      "Epoch 94/100\n",
      "253/253 [==============================] - 7s 28ms/step - loss: 0.0830 - categorical_accuracy: 0.9704 - val_loss: 3.7637 - val_categorical_accuracy: 0.5163\n",
      "Epoch 95/100\n",
      "253/253 [==============================] - 7s 28ms/step - loss: 0.0867 - categorical_accuracy: 0.9702 - val_loss: 3.2034 - val_categorical_accuracy: 0.4948\n",
      "Epoch 96/100\n",
      "253/253 [==============================] - 7s 28ms/step - loss: 0.0845 - categorical_accuracy: 0.9701 - val_loss: 3.3129 - val_categorical_accuracy: 0.5152\n",
      "Epoch 97/100\n"
     ]
    },
    {
     "name": "stdout",
     "output_type": "stream",
     "text": [
      "253/253 [==============================] - 7s 28ms/step - loss: 0.0838 - categorical_accuracy: 0.9711 - val_loss: 3.5992 - val_categorical_accuracy: 0.4974\n",
      "Epoch 98/100\n",
      "253/253 [==============================] - 7s 28ms/step - loss: 0.0837 - categorical_accuracy: 0.9708 - val_loss: 3.5583 - val_categorical_accuracy: 0.5071\n",
      "Epoch 99/100\n",
      "253/253 [==============================] - 8s 30ms/step - loss: 0.0791 - categorical_accuracy: 0.9729 - val_loss: 3.7482 - val_categorical_accuracy: 0.5088\n",
      "Epoch 100/100\n",
      "253/253 [==============================] - 7s 30ms/step - loss: 0.0789 - categorical_accuracy: 0.9732 - val_loss: 3.1752 - val_categorical_accuracy: 0.5174\n"
     ]
    }
   ],
   "source": [
    "import tensorflow as tf\n",
    "\n",
    "\n",
    "# model 선언 \n",
    "model = tf.keras.applications.MobileNetV2(input_shape=(48, 48, 1), weights=None, classes=7)\n",
    "\n",
    "# model.compile\n",
    "model.compile(optimizer=tf.keras.optimizers.Adam(),\n",
    "              loss=tf.keras.losses.CategoricalCrossentropy(),\n",
    "              metrics=[tf.keras.metrics.CategoricalAccuracy()])\n",
    "\n",
    "#model.fit\n",
    "history = model.fit(np.stack(train_x),\n",
    "          tf.keras.utils.to_categorical(train_y),\n",
    "          epochs=100,\n",
    "          batch_size=128,\n",
    "          validation_data=(np.stack(eval_x),\n",
    "                           tf.keras.utils.to_categorical(eval_y)))"
   ]
  },
  {
   "cell_type": "code",
   "execution_count": 6,
   "metadata": {},
   "outputs": [
    {
     "name": "stdout",
     "output_type": "stream",
     "text": [
      "dict_keys(['loss', 'categorical_accuracy', 'val_loss', 'val_categorical_accuracy'])\n"
     ]
    }
   ],
   "source": [
    "history_dict = history.history\n",
    "print(history_dict.keys()) "
   ]
  },
  {
   "cell_type": "code",
   "execution_count": 7,
   "metadata": {},
   "outputs": [
    {
     "data": {
      "image/png": "[encoded data removed]",
      "text/plain": [
       "<Figure size 432x288 with 1 Axes>"
      ]
     },
     "metadata": {
      "needs_background": "light"
     },
     "output_type": "display_data"
    }
   ],
   "source": [
    "acc = history_dict['categorical_accuracy']\n",
    "val_acc = history_dict['val_categorical_accuracy']\n",
    "loss = history_dict['loss']\n",
    "val_loss = history_dict['val_loss']\n",
    "\n",
    "epochs = range(1, len(acc) + 1)\n",
    "\n",
    "plt.plot(epochs, acc, 'r', label='Training acc')\n",
    "plt.plot(epochs, val_acc, 'b', label='Validation acc')\n",
    "plt.title(\"Training and validation accuracy\")\n",
    "plt.xlabel('Epochs')\n",
    "plt.ylabel('Accuracy')\n",
    "plt.legend()\n",
    "\n",
    "plt.show()"
   ]
  },
  {
   "cell_type": "code",
   "execution_count": 10,
   "metadata": {},
   "outputs": [],
   "source": [
    "model_path = os.getenv('HOME')+'/exe/0915/model.h5'\n",
    "model.save(model_path)"
   ]
  },
  {
   "cell_type": "markdown",
   "metadata": {},
   "source": [
    "## 총평\n",
    "\n",
    "\n",
    "- https://J-43.github.io/Face2Emoji\n",
    "\n",
    "- tensorflowjs 설치 후, 커널이 죽기 시작했다. 새로 tensorflow를 설치하고, 커널이 죽지않았지만 이번엔 수정한 model.json을 컴퓨터가 읽지 못하고 에러를 내뿜는다. 주말동안 삭제와 재설치를 반복했지만 다른분의 model.json파일을 받아도 같은 에러가 떠서 aiffel가상환경 자체가 문제가 된 것 같다. model.h5 를 model.json으로 변환했다고 파일은 생기지만 이 파일을 읽지를 못한다. 알 수 없다.. 왜 .. \n",
    "- 그래서 아직 노드를 진행안하신 분(tensorflowjs 설치전)에게 부탁을 해서 내가 한 모델파일을 보내고.. 그 분이 변환해서 내 깃페이지에 올리니 실행이 된다. 왜.. 같은 파일인데.. 읽지를 못하니..   \n",
    "\n",
    "\n",
    "- 코드로 돌아와서 \n",
    "    - 본인의 github 페이지에 Face2Emoji 웹앱 url이 게시되어 서비스가 가능하다.   >> 가능\n",
    "    - 얼굴 감정인식 정확도를 47% 이상 달성하였다.  >> 달성\n",
    "    - 현재 버전의 이미지 처리 방식(얼굴영역이 아닌 전체 처리), 모델 훈련 방식 등의 문제점을 정확하게 지적하고, 그 개선 방안을 3가지 이상 정확히 정리하거나, 1가지 이상을 실제 적용하였다.  >> 얼굴 영역만 자르는 방법을 지난번 노드에서 배워서 적용해볼까 했지만, tensorflowjs 문제 해결하느라 시간을 너무 허비했기에.. 다음기회에.."
   ]
  },
  {
   "cell_type": "code",
   "execution_count": null,
   "metadata": {},
   "outputs": [],
   "source": []
  }
 ],
 "metadata": {
  "kernelspec": {
   "display_name": "aiffel",
   "language": "python",
   "name": "aiffel"
  },
  "language_info": {
   "codemirror_mode": {
    "name": "ipython",
    "version": 3
   },
   "file_extension": ".py",
   "mimetype": "text/x-python",
   "name": "python",
   "nbconvert_exporter": "python",
   "pygments_lexer": "ipython3",
   "version": "3.7.6"
  }
 },
 "nbformat": 4,
 "nbformat_minor": 4
}

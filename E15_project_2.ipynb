{
 "cells": [
  {
   "cell_type": "markdown",
   "metadata": {},
   "source": [
    "## 프로젝트 : 단어 Level로 번역기 업그레이드하기"
   ]
  },
  {
   "cell_type": "markdown",
   "metadata": {},
   "source": [
    "### Step 1. 정제, 정규화, 전처리 (영어, 프랑스어 모두!)\n",
    "#### Step 2. 디코더의 문장에 시작 토큰과 종료 토큰을 넣어주세요."
   ]
  },
  {
   "cell_type": "code",
   "execution_count": 1,
   "metadata": {},
   "outputs": [],
   "source": [
    "import pandas as pd\n",
    "from tensorflow.keras.preprocessing.text import Tokenizer\n",
    "from tensorflow.keras.preprocessing.sequence import pad_sequences\n",
    "from tensorflow.keras.utils import to_categorical\n",
    "import numpy as np"
   ]
  },
  {
   "cell_type": "code",
   "execution_count": 2,
   "metadata": {},
   "outputs": [
    {
     "name": "stdout",
     "output_type": "stream",
     "text": [
      "전체 샘플의 수 : 178009\n"
     ]
    },
    {
     "data": {
      "text/html": [
       "<div>\n",
       "<style scoped>\n",
       "    .dataframe tbody tr th:only-of-type {\n",
       "        vertical-align: middle;\n",
       "    }\n",
       "\n",
       "    .dataframe tbody tr th {\n",
       "        vertical-align: top;\n",
       "    }\n",
       "\n",
       "    .dataframe thead th {\n",
       "        text-align: right;\n",
       "    }\n",
       "</style>\n",
       "<table border=\"1\" class=\"dataframe\">\n",
       "  <thead>\n",
       "    <tr style=\"text-align: right;\">\n",
       "      <th></th>\n",
       "      <th>eng</th>\n",
       "      <th>fra</th>\n",
       "      <th>cc</th>\n",
       "    </tr>\n",
       "  </thead>\n",
       "  <tbody>\n",
       "    <tr>\n",
       "      <th>130533</th>\n",
       "      <td>Have you received a letter from him?</td>\n",
       "      <td>Avez-vous reçu une lettre de lui ?</td>\n",
       "      <td>CC-BY 2.0 (France) Attribution: tatoeba.org #1...</td>\n",
       "    </tr>\n",
       "    <tr>\n",
       "      <th>123184</th>\n",
       "      <td>Photography is an expensive hobby.</td>\n",
       "      <td>La photographie est un passe-temps onéreux.</td>\n",
       "      <td>CC-BY 2.0 (France) Attribution: tatoeba.org #3...</td>\n",
       "    </tr>\n",
       "    <tr>\n",
       "      <th>79361</th>\n",
       "      <td>That would be really funny.</td>\n",
       "      <td>Ce serait vraiment drôle.</td>\n",
       "      <td>CC-BY 2.0 (France) Attribution: tatoeba.org #4...</td>\n",
       "    </tr>\n",
       "    <tr>\n",
       "      <th>42320</th>\n",
       "      <td>I need an interpreter.</td>\n",
       "      <td>J'ai besoin d'une interprète.</td>\n",
       "      <td>CC-BY 2.0 (France) Attribution: tatoeba.org #1...</td>\n",
       "    </tr>\n",
       "    <tr>\n",
       "      <th>176976</th>\n",
       "      <td>A man with a watch knows what time it is, a ma...</td>\n",
       "      <td>Un homme avec une montre sait quelle heure il ...</td>\n",
       "      <td>CC-BY 2.0 (France) Attribution: tatoeba.org #9...</td>\n",
       "    </tr>\n",
       "  </tbody>\n",
       "</table>\n",
       "</div>"
      ],
      "text/plain": [
       "                                                      eng  \\\n",
       "130533               Have you received a letter from him?   \n",
       "123184                 Photography is an expensive hobby.   \n",
       "79361                         That would be really funny.   \n",
       "42320                              I need an interpreter.   \n",
       "176976  A man with a watch knows what time it is, a ma...   \n",
       "\n",
       "                                                      fra  \\\n",
       "130533                 Avez-vous reçu une lettre de lui ?   \n",
       "123184        La photographie est un passe-temps onéreux.   \n",
       "79361                           Ce serait vraiment drôle.   \n",
       "42320                       J'ai besoin d'une interprète.   \n",
       "176976  Un homme avec une montre sait quelle heure il ...   \n",
       "\n",
       "                                                       cc  \n",
       "130533  CC-BY 2.0 (France) Attribution: tatoeba.org #1...  \n",
       "123184  CC-BY 2.0 (France) Attribution: tatoeba.org #3...  \n",
       "79361   CC-BY 2.0 (France) Attribution: tatoeba.org #4...  \n",
       "42320   CC-BY 2.0 (France) Attribution: tatoeba.org #1...  \n",
       "176976  CC-BY 2.0 (France) Attribution: tatoeba.org #9...  "
      ]
     },
     "execution_count": 2,
     "metadata": {},
     "output_type": "execute_result"
    }
   ],
   "source": [
    "import os\n",
    "file_path = os.getenv('HOME')+'/aiffel/translator_seq2seq/data/fra.txt'\n",
    "lines = pd.read_csv(file_path, names=['eng', 'fra', 'cc'], sep='\\t')\n",
    "print('전체 샘플의 수 :',len(lines))\n",
    "lines.sample(5) #샘플 5개 출력"
   ]
  },
  {
   "cell_type": "code",
   "execution_count": 3,
   "metadata": {},
   "outputs": [
    {
     "data": {
      "text/html": [
       "<div>\n",
       "<style scoped>\n",
       "    .dataframe tbody tr th:only-of-type {\n",
       "        vertical-align: middle;\n",
       "    }\n",
       "\n",
       "    .dataframe tbody tr th {\n",
       "        vertical-align: top;\n",
       "    }\n",
       "\n",
       "    .dataframe thead th {\n",
       "        text-align: right;\n",
       "    }\n",
       "</style>\n",
       "<table border=\"1\" class=\"dataframe\">\n",
       "  <thead>\n",
       "    <tr style=\"text-align: right;\">\n",
       "      <th></th>\n",
       "      <th>eng</th>\n",
       "      <th>fra</th>\n",
       "    </tr>\n",
       "  </thead>\n",
       "  <tbody>\n",
       "    <tr>\n",
       "      <th>31968</th>\n",
       "      <td>There's a lot to do.</td>\n",
       "      <td>Il y a fort à faire.</td>\n",
       "    </tr>\n",
       "    <tr>\n",
       "      <th>1880</th>\n",
       "      <td>You're old.</td>\n",
       "      <td>Vous êtes vieux.</td>\n",
       "    </tr>\n",
       "    <tr>\n",
       "      <th>31973</th>\n",
       "      <td>There's no one here.</td>\n",
       "      <td>Personne n'est ici.</td>\n",
       "    </tr>\n",
       "    <tr>\n",
       "      <th>6951</th>\n",
       "      <td>We're serious.</td>\n",
       "      <td>Nous sommes sérieux.</td>\n",
       "    </tr>\n",
       "    <tr>\n",
       "      <th>20242</th>\n",
       "      <td>It seemed to work.</td>\n",
       "      <td>Ça avait l'air de marcher.</td>\n",
       "    </tr>\n",
       "  </tbody>\n",
       "</table>\n",
       "</div>"
      ],
      "text/plain": [
       "                        eng                         fra\n",
       "31968  There's a lot to do.        Il y a fort à faire.\n",
       "1880            You're old.            Vous êtes vieux.\n",
       "31973  There's no one here.         Personne n'est ici.\n",
       "6951         We're serious.        Nous sommes sérieux.\n",
       "20242    It seemed to work.  Ça avait l'air de marcher."
      ]
     },
     "execution_count": 3,
     "metadata": {},
     "output_type": "execute_result"
    }
   ],
   "source": [
    "lines = lines[['eng', 'fra']][:33000] # 33,000개 샘플 사용\n",
    "lines.sample(5)"
   ]
  },
  {
   "cell_type": "code",
   "execution_count": 4,
   "metadata": {},
   "outputs": [],
   "source": [
    "import re\n",
    "\n",
    "def preprocess_sentence(sentence):\n",
    "    sentence = sentence.lower().strip()\n",
    "  \n",
    "    sentence = re.sub(r\"([?.!,¿])\", r\" \\1 \", sentence)\n",
    "    sentence = re.sub(r'[\" \"]+', \" \", sentence)\n",
    "    sentence = re.sub(r\"[^a-zA-Z?.!]+\", \" \", sentence)\n",
    "    \n",
    "    sentence = sentence.strip()\n",
    "    sentence = sentence.split(\" \")\n",
    "    \n",
    "    return sentence"
   ]
  },
  {
   "cell_type": "code",
   "execution_count": 5,
   "metadata": {},
   "outputs": [],
   "source": [
    "def preprocess_sentence_decoder(sentence):\n",
    "    sentence = sentence.lower().strip()\n",
    "  \n",
    "    sentence = re.sub(r\"([?.!,¿])\", r\" \\1 \", sentence)\n",
    "    sentence = re.sub(r'[\" \"]+', \" \", sentence)\n",
    "    sentence = re.sub(r\"[^a-zA-Z?.!]+\", \" \", sentence)\n",
    "    \n",
    "    sentence = sentence.strip()\n",
    "    sentence = '<start> ' + sentence + ' <end>'\n",
    "    sentence = sentence.split(\" \")\n",
    "    \n",
    "    return sentence"
   ]
  },
  {
   "cell_type": "code",
   "execution_count": 6,
   "metadata": {},
   "outputs": [],
   "source": [
    "lines.eng = lines.eng.apply(lambda x : preprocess_sentence(x))\n",
    "lines.fra = lines.fra.apply(lambda x : preprocess_sentence_decoder(x))"
   ]
  },
  {
   "cell_type": "code",
   "execution_count": 7,
   "metadata": {},
   "outputs": [
    {
     "data": {
      "text/plain": [
       "3934          [i, m, creative, .]\n",
       "13275     [where, s, the, oar, ?]\n",
       "7004         [were, you, hurt, ?]\n",
       "2691           [let, s, hurry, .]\n",
       "14168    [have, a, good, time, .]\n",
       "Name: eng, dtype: object"
      ]
     },
     "execution_count": 7,
     "metadata": {},
     "output_type": "execute_result"
    }
   ],
   "source": [
    "lines.eng.sample(5)"
   ]
  },
  {
   "cell_type": "code",
   "execution_count": 8,
   "metadata": {},
   "outputs": [
    {
     "data": {
      "text/plain": [
       "13628          [<start>, l, air, est, invisible, ., <end>]\n",
       "23157    [<start>, faites, comme, il, vous, dit, ., <end>]\n",
       "19232       [<start>, je, d, teste, ce, magasin, ., <end>]\n",
       "25448        [<start>, c, est, juste, un, lapin, ., <end>]\n",
       "8112     [<start>, j, appr, cie, les, pique, niques, .,...\n",
       "Name: fra, dtype: object"
      ]
     },
     "execution_count": 8,
     "metadata": {},
     "output_type": "execute_result"
    }
   ],
   "source": [
    "lines.fra.sample(5)"
   ]
  },
  {
   "cell_type": "markdown",
   "metadata": {},
   "source": [
    "### Step 3. 케라스의 토크나이저로 텍스트를 숫자로 바꿔보세요."
   ]
  },
  {
   "cell_type": "code",
   "execution_count": 9,
   "metadata": {},
   "outputs": [
    {
     "data": {
      "text/plain": [
       "[[30, 1], [1132, 1], [1132, 1]]"
      ]
     },
     "execution_count": 9,
     "metadata": {},
     "output_type": "execute_result"
    }
   ],
   "source": [
    "eng_tokenizer = Tokenizer()\n",
    "eng_tokenizer.fit_on_texts(lines.eng)\n",
    "input_text = eng_tokenizer.texts_to_sequences(lines.eng)\n",
    "input_text[:3]"
   ]
  },
  {
   "cell_type": "code",
   "execution_count": 10,
   "metadata": {},
   "outputs": [
    {
     "data": {
      "text/plain": [
       "[[1, 91, 12, 2], [1, 1068, 12, 2], [1, 1068, 3, 2]]"
      ]
     },
     "execution_count": 10,
     "metadata": {},
     "output_type": "execute_result"
    }
   ],
   "source": [
    "fra_tokenizer = Tokenizer()\n",
    "fra_tokenizer.fit_on_texts(lines.fra)\n",
    "target_text = fra_tokenizer.texts_to_sequences(lines.fra)\n",
    "target_text[:3]"
   ]
  },
  {
   "cell_type": "code",
   "execution_count": 11,
   "metadata": {},
   "outputs": [
    {
     "name": "stdout",
     "output_type": "stream",
     "text": [
      "영어 단어장의 크기 : 4662\n",
      "프랑스어 단어장의 크기 : 7326\n"
     ]
    }
   ],
   "source": [
    "eng_vocab_size = len(eng_tokenizer.word_index) + 1\n",
    "fra_vocab_size = len(fra_tokenizer.word_index) + 1\n",
    "print('영어 단어장의 크기 :', eng_vocab_size)\n",
    "print('프랑스어 단어장의 크기 :', fra_vocab_size)"
   ]
  },
  {
   "cell_type": "code",
   "execution_count": 12,
   "metadata": {},
   "outputs": [
    {
     "name": "stdout",
     "output_type": "stream",
     "text": [
      "영어 시퀀스의 최대 길이 8\n",
      "프랑스어 시퀀스의 최대 길이 17\n"
     ]
    }
   ],
   "source": [
    "max_eng_seq_len = max([len(line) for line in input_text])\n",
    "max_fra_seq_len = max([len(line) for line in target_text])\n",
    "print('영어 시퀀스의 최대 길이', max_eng_seq_len)\n",
    "print('프랑스어 시퀀스의 최대 길이', max_fra_seq_len)"
   ]
  },
  {
   "cell_type": "code",
   "execution_count": 13,
   "metadata": {},
   "outputs": [
    {
     "name": "stdout",
     "output_type": "stream",
     "text": [
      "전체 샘플의 수 : 33000\n",
      "영어 단어장의 크기 : 4662\n",
      "프랑스어 단어장의 크기 : 7326\n",
      "영어 시퀀스의 최대 길이 8\n",
      "프랑스어 시퀀스의 최대 길이 17\n"
     ]
    }
   ],
   "source": [
    "print('전체 샘플의 수 :',len(lines))\n",
    "print('영어 단어장의 크기 :', eng_vocab_size)\n",
    "print('프랑스어 단어장의 크기 :', fra_vocab_size)\n",
    "print('영어 시퀀스의 최대 길이', max_eng_seq_len)\n",
    "print('프랑스어 시퀀스의 최대 길이', max_fra_seq_len)"
   ]
  },
  {
   "cell_type": "code",
   "execution_count": 14,
   "metadata": {},
   "outputs": [],
   "source": [
    "sos_token = '<start>'\n",
    "eos_token = '<end>'\n",
    "\n",
    "encoder_input = input_text\n",
    "# 종료 토큰 제거\n",
    "decoder_input = [[ char for char in line if char != fra_tokenizer.word_index[eos_token] ] for line in target_text] \n",
    "# 시작 토큰 제거\n",
    "decoder_target = [[ char for char in line if char != fra_tokenizer.word_index[sos_token] ] for line in target_text]"
   ]
  },
  {
   "cell_type": "code",
   "execution_count": 15,
   "metadata": {},
   "outputs": [
    {
     "name": "stdout",
     "output_type": "stream",
     "text": [
      "[[1, 91, 12], [1, 1068, 12], [1, 1068, 3], [1, 928, 12], [1, 2190, 12]]\n",
      "[[91, 12, 2], [1068, 12, 2], [1068, 3, 2], [928, 12, 2], [2190, 12, 2]]\n"
     ]
    }
   ],
   "source": [
    "print(decoder_input[:5])\n",
    "print(decoder_target[:5])"
   ]
  },
  {
   "cell_type": "code",
   "execution_count": 16,
   "metadata": {},
   "outputs": [
    {
     "name": "stdout",
     "output_type": "stream",
     "text": [
      "영어 데이터의 크기(shape) : (33000, 8)\n",
      "프랑스어 입력데이터의 크기(shape) : (33000, 17)\n",
      "프랑스어 출력데이터의 크기(shape) : (33000, 17)\n"
     ]
    }
   ],
   "source": [
    "encoder_input = pad_sequences(encoder_input, maxlen = max_eng_seq_len, padding='post')\n",
    "decoder_input = pad_sequences(decoder_input, maxlen = max_fra_seq_len, padding='post')\n",
    "decoder_target = pad_sequences(decoder_target, maxlen = max_fra_seq_len, padding='post')\n",
    "print('영어 데이터의 크기(shape) :',np.shape(encoder_input))\n",
    "print('프랑스어 입력데이터의 크기(shape) :',np.shape(decoder_input))\n",
    "print('프랑스어 출력데이터의 크기(shape) :',np.shape(decoder_target))"
   ]
  },
  {
   "cell_type": "code",
   "execution_count": 17,
   "metadata": {},
   "outputs": [
    {
     "name": "stdout",
     "output_type": "stream",
     "text": [
      "[30  1  0  0  0  0  0  0]\n"
     ]
    }
   ],
   "source": [
    "print(encoder_input[0])"
   ]
  },
  {
   "cell_type": "code",
   "execution_count": 18,
   "metadata": {},
   "outputs": [
    {
     "name": "stdout",
     "output_type": "stream",
     "text": [
      "[12891  6356  4526 ... 32678  5123  1609]\n"
     ]
    }
   ],
   "source": [
    "indices = np.arange(encoder_input.shape[0])\n",
    "np.random.shuffle(indices)\n",
    "print(indices)"
   ]
  },
  {
   "cell_type": "code",
   "execution_count": 19,
   "metadata": {},
   "outputs": [],
   "source": [
    "encoder_input = encoder_input[indices]\n",
    "decoder_input = decoder_input[indices]\n",
    "decoder_target = decoder_target[indices]"
   ]
  },
  {
   "cell_type": "code",
   "execution_count": 20,
   "metadata": {},
   "outputs": [],
   "source": [
    "n_of_val = 3000\n",
    "\n",
    "encoder_input_train = encoder_input[:-n_of_val]\n",
    "decoder_input_train = decoder_input[:-n_of_val]\n",
    "decoder_target_train = decoder_target[:-n_of_val]\n",
    "\n",
    "encoder_input_test = encoder_input[-n_of_val:]\n",
    "decoder_input_test = decoder_input[-n_of_val:]\n",
    "decoder_target_test = decoder_target[-n_of_val:]"
   ]
  },
  {
   "cell_type": "code",
   "execution_count": 21,
   "metadata": {},
   "outputs": [
    {
     "name": "stdout",
     "output_type": "stream",
     "text": [
      "(30000, 8)\n",
      "(30000, 17)\n",
      "(30000, 17)\n",
      "(3000, 8)\n",
      "(3000, 17)\n",
      "(3000, 17)\n"
     ]
    }
   ],
   "source": [
    "print(encoder_input_train.shape)\n",
    "print(decoder_input_train.shape)\n",
    "print(decoder_target_train.shape)\n",
    "\n",
    "print(encoder_input_test.shape)\n",
    "print(decoder_input_test.shape)\n",
    "print(decoder_target_test.shape)"
   ]
  },
  {
   "cell_type": "markdown",
   "metadata": {},
   "source": [
    "### Step 4. 임베딩 층(Embedding layer) 사용하기"
   ]
  },
  {
   "cell_type": "code",
   "execution_count": 22,
   "metadata": {},
   "outputs": [
    {
     "name": "stdout",
     "output_type": "stream",
     "text": [
      "⏳\n"
     ]
    }
   ],
   "source": [
    "from tensorflow.keras.layers import Input, LSTM, Embedding, Dense, Masking\n",
    "from tensorflow.keras.models import Model\n",
    "\n",
    "print('⏳')"
   ]
  },
  {
   "cell_type": "code",
   "execution_count": 23,
   "metadata": {},
   "outputs": [],
   "source": [
    "# encoder embedding\n",
    "encoder_inputs = Input(shape=(None,))\n",
    "\n",
    "enc_emb = Embedding(eng_vocab_size, 256, input_length=max_eng_seq_len)(encoder_inputs)\n",
    "enc_masking = Masking(mask_value=0.0)(enc_emb)\n",
    "encoder_lstm = LSTM(units = 256, return_state = True)\n",
    "encoder_outputs, state_h, state_c = encoder_lstm(enc_masking)\n",
    "encoder_states = [state_h, state_c]"
   ]
  },
  {
   "cell_type": "code",
   "execution_count": 24,
   "metadata": {},
   "outputs": [],
   "source": [
    "# decoder embedding\n",
    "decoder_inputs = Input(shape=(None,))\n",
    "\n",
    "dec_emb = Embedding(fra_vocab_size, 256)(decoder_inputs)\n",
    "dec_masking = Masking(mask_value=0.0)(dec_emb)\n",
    "decoder_lstm = LSTM(units = 256, return_sequences = True, return_state=True)\n",
    "decoder_outputs, _, _= decoder_lstm(dec_masking, initial_state = encoder_states)\n",
    "\n",
    "decoder_softmax_layer = Dense(fra_vocab_size, activation='softmax')\n",
    "decoder_outputs = decoder_softmax_layer(decoder_outputs)"
   ]
  },
  {
   "cell_type": "code",
   "execution_count": 25,
   "metadata": {},
   "outputs": [
    {
     "name": "stdout",
     "output_type": "stream",
     "text": [
      "Model: \"functional_1\"\n",
      "__________________________________________________________________________________________________\n",
      "Layer (type)                    Output Shape         Param #     Connected to                     \n",
      "==================================================================================================\n",
      "input_1 (InputLayer)            [(None, None)]       0                                            \n",
      "__________________________________________________________________________________________________\n",
      "input_2 (InputLayer)            [(None, None)]       0                                            \n",
      "__________________________________________________________________________________________________\n",
      "embedding (Embedding)           (None, None, 256)    1193472     input_1[0][0]                    \n",
      "__________________________________________________________________________________________________\n",
      "embedding_1 (Embedding)         (None, None, 256)    1875456     input_2[0][0]                    \n",
      "__________________________________________________________________________________________________\n",
      "masking (Masking)               (None, None, 256)    0           embedding[0][0]                  \n",
      "__________________________________________________________________________________________________\n",
      "masking_1 (Masking)             (None, None, 256)    0           embedding_1[0][0]                \n",
      "__________________________________________________________________________________________________\n",
      "lstm (LSTM)                     [(None, 256), (None, 525312      masking[0][0]                    \n",
      "__________________________________________________________________________________________________\n",
      "lstm_1 (LSTM)                   [(None, None, 256),  525312      masking_1[0][0]                  \n",
      "                                                                 lstm[0][1]                       \n",
      "                                                                 lstm[0][2]                       \n",
      "__________________________________________________________________________________________________\n",
      "dense (Dense)                   (None, None, 7326)   1882782     lstm_1[0][0]                     \n",
      "==================================================================================================\n",
      "Total params: 6,002,334\n",
      "Trainable params: 6,002,334\n",
      "Non-trainable params: 0\n",
      "__________________________________________________________________________________________________\n"
     ]
    }
   ],
   "source": [
    "model = Model([encoder_inputs, decoder_inputs], decoder_outputs)\n",
    "model.compile(optimizer=\"rmsprop\", loss='sparse_categorical_crossentropy', metrics=['acc'])\n",
    "model.summary()"
   ]
  },
  {
   "cell_type": "code",
   "execution_count": 26,
   "metadata": {},
   "outputs": [
    {
     "name": "stdout",
     "output_type": "stream",
     "text": [
      "Epoch 1/40\n",
      "235/235 [==============================] - 11s 45ms/step - loss: 1.9187 - acc: 0.7054 - val_loss: 1.5067 - val_acc: 0.7508\n",
      "Epoch 2/40\n",
      "235/235 [==============================] - 9s 40ms/step - loss: 1.3843 - acc: 0.7728 - val_loss: 1.2667 - val_acc: 0.7933\n",
      "Epoch 3/40\n",
      "235/235 [==============================] - 10s 42ms/step - loss: 1.1842 - acc: 0.8029 - val_loss: 1.1338 - val_acc: 0.8104\n",
      "Epoch 4/40\n",
      "235/235 [==============================] - 10s 42ms/step - loss: 1.0604 - acc: 0.8190 - val_loss: 1.0364 - val_acc: 0.8259\n",
      "Epoch 5/40\n",
      "235/235 [==============================] - 10s 42ms/step - loss: 0.9658 - acc: 0.8316 - val_loss: 0.9684 - val_acc: 0.8352\n",
      "Epoch 6/40\n",
      "235/235 [==============================] - 10s 42ms/step - loss: 0.8899 - acc: 0.8415 - val_loss: 0.9219 - val_acc: 0.8404\n",
      "Epoch 7/40\n",
      "235/235 [==============================] - 10s 42ms/step - loss: 0.8262 - acc: 0.8500 - val_loss: 0.8742 - val_acc: 0.8468\n",
      "Epoch 8/40\n",
      "235/235 [==============================] - 10s 43ms/step - loss: 0.7692 - acc: 0.8575 - val_loss: 0.8454 - val_acc: 0.8509\n",
      "Epoch 9/40\n",
      "235/235 [==============================] - 10s 43ms/step - loss: 0.7205 - acc: 0.8647 - val_loss: 0.8102 - val_acc: 0.8551\n",
      "Epoch 10/40\n",
      "235/235 [==============================] - 10s 42ms/step - loss: 0.6765 - acc: 0.8713 - val_loss: 0.7877 - val_acc: 0.8596\n",
      "Epoch 11/40\n",
      "235/235 [==============================] - 10s 41ms/step - loss: 0.6369 - acc: 0.8778 - val_loss: 0.7665 - val_acc: 0.8627\n",
      "Epoch 12/40\n",
      "235/235 [==============================] - 10s 41ms/step - loss: 0.6011 - acc: 0.8842 - val_loss: 0.7400 - val_acc: 0.8669\n",
      "Epoch 13/40\n",
      "235/235 [==============================] - 10s 40ms/step - loss: 0.5675 - acc: 0.8901 - val_loss: 0.7250 - val_acc: 0.8684\n",
      "Epoch 14/40\n",
      "235/235 [==============================] - 9s 40ms/step - loss: 0.5375 - acc: 0.8956 - val_loss: 0.7137 - val_acc: 0.8707\n",
      "Epoch 15/40\n",
      "235/235 [==============================] - 9s 40ms/step - loss: 0.5101 - acc: 0.9007 - val_loss: 0.7012 - val_acc: 0.8729\n",
      "Epoch 16/40\n",
      "235/235 [==============================] - 10s 42ms/step - loss: 0.4849 - acc: 0.9055 - val_loss: 0.6905 - val_acc: 0.8750\n",
      "Epoch 17/40\n",
      "235/235 [==============================] - 10s 41ms/step - loss: 0.4615 - acc: 0.9099 - val_loss: 0.6798 - val_acc: 0.8776\n",
      "Epoch 18/40\n",
      "235/235 [==============================] - 9s 40ms/step - loss: 0.4394 - acc: 0.9139 - val_loss: 0.6717 - val_acc: 0.8786\n",
      "Epoch 19/40\n",
      "235/235 [==============================] - 9s 40ms/step - loss: 0.4192 - acc: 0.9179 - val_loss: 0.6678 - val_acc: 0.8785\n",
      "Epoch 20/40\n",
      "235/235 [==============================] - 9s 40ms/step - loss: 0.4001 - acc: 0.9216 - val_loss: 0.6623 - val_acc: 0.8793\n",
      "Epoch 21/40\n",
      "235/235 [==============================] - 9s 40ms/step - loss: 0.3834 - acc: 0.9246 - val_loss: 0.6553 - val_acc: 0.8814\n",
      "Epoch 22/40\n",
      "235/235 [==============================] - 9s 40ms/step - loss: 0.3668 - acc: 0.9280 - val_loss: 0.6531 - val_acc: 0.8812\n",
      "Epoch 23/40\n",
      "235/235 [==============================] - 9s 40ms/step - loss: 0.3524 - acc: 0.9308 - val_loss: 0.6500 - val_acc: 0.8818\n",
      "Epoch 24/40\n",
      "235/235 [==============================] - 9s 40ms/step - loss: 0.3389 - acc: 0.9332 - val_loss: 0.6457 - val_acc: 0.8843\n",
      "Epoch 25/40\n",
      "235/235 [==============================] - 9s 40ms/step - loss: 0.3267 - acc: 0.9357 - val_loss: 0.6497 - val_acc: 0.8831\n",
      "Epoch 26/40\n",
      "235/235 [==============================] - 9s 40ms/step - loss: 0.3155 - acc: 0.9378 - val_loss: 0.6438 - val_acc: 0.8844\n",
      "Epoch 27/40\n",
      "235/235 [==============================] - 9s 40ms/step - loss: 0.3048 - acc: 0.9398 - val_loss: 0.6427 - val_acc: 0.8842\n",
      "Epoch 28/40\n",
      "235/235 [==============================] - 9s 40ms/step - loss: 0.2948 - acc: 0.9416 - val_loss: 0.6439 - val_acc: 0.8846\n",
      "Epoch 29/40\n",
      "235/235 [==============================] - 9s 40ms/step - loss: 0.2850 - acc: 0.9438 - val_loss: 0.6430 - val_acc: 0.8849\n",
      "Epoch 30/40\n",
      "235/235 [==============================] - 9s 40ms/step - loss: 0.2766 - acc: 0.9452 - val_loss: 0.6400 - val_acc: 0.8853\n",
      "Epoch 31/40\n",
      "235/235 [==============================] - 9s 40ms/step - loss: 0.2688 - acc: 0.9463 - val_loss: 0.6423 - val_acc: 0.8864\n",
      "Epoch 32/40\n",
      "235/235 [==============================] - 9s 40ms/step - loss: 0.2615 - acc: 0.9478 - val_loss: 0.6431 - val_acc: 0.8862\n",
      "Epoch 33/40\n",
      "235/235 [==============================] - 9s 40ms/step - loss: 0.2548 - acc: 0.9490 - val_loss: 0.6466 - val_acc: 0.8856\n",
      "Epoch 34/40\n",
      "235/235 [==============================] - 9s 40ms/step - loss: 0.2485 - acc: 0.9500 - val_loss: 0.6434 - val_acc: 0.8858\n",
      "Epoch 35/40\n",
      "235/235 [==============================] - 9s 40ms/step - loss: 0.2427 - acc: 0.9510 - val_loss: 0.6446 - val_acc: 0.8866\n",
      "Epoch 36/40\n",
      "235/235 [==============================] - 9s 40ms/step - loss: 0.2366 - acc: 0.9522 - val_loss: 0.6477 - val_acc: 0.8863\n",
      "Epoch 37/40\n",
      "235/235 [==============================] - 9s 40ms/step - loss: 0.2317 - acc: 0.9527 - val_loss: 0.6470 - val_acc: 0.8862\n",
      "Epoch 38/40\n",
      "235/235 [==============================] - 10s 41ms/step - loss: 0.2270 - acc: 0.9535 - val_loss: 0.6487 - val_acc: 0.8861\n",
      "Epoch 39/40\n",
      "235/235 [==============================] - 9s 40ms/step - loss: 0.2221 - acc: 0.9543 - val_loss: 0.6461 - val_acc: 0.8863\n",
      "Epoch 40/40\n",
      "235/235 [==============================] - 9s 40ms/step - loss: 0.2173 - acc: 0.9552 - val_loss: 0.6486 - val_acc: 0.8857\n"
     ]
    }
   ],
   "source": [
    "history = model.fit([encoder_input_train, decoder_input_train],decoder_target_train,\n",
    "          validation_data = ([encoder_input_test, decoder_input_test], decoder_target_test),\n",
    "          batch_size = 128, epochs = 40)"
   ]
  },
  {
   "cell_type": "code",
   "execution_count": 27,
   "metadata": {},
   "outputs": [
    {
     "name": "stderr",
     "output_type": "stream",
     "text": [
      "Illegal line #217\n",
      "\t\"       - 'Nanum'\n",
      "\"\n",
      "\tin file \"/home/aiffel0042/anaconda3/envs/aiffel/lib/python3.7/site-packages/matplotlib/mpl-data/matplotlibrc\"\n"
     ]
    },
    {
     "data": {
      "image/png": "[encoded data removed]",
      "text/plain": [
       "<Figure size 432x288 with 1 Axes>"
      ]
     },
     "metadata": {
      "needs_background": "light"
     },
     "output_type": "display_data"
    }
   ],
   "source": [
    "import matplotlib.pyplot as plt\n",
    "\n",
    "plt.plot(history.history['loss'])\n",
    "plt.plot(history.history['val_loss'])\n",
    "plt.show()"
   ]
  },
  {
   "cell_type": "code",
   "execution_count": 29,
   "metadata": {},
   "outputs": [
    {
     "data": {
      "image/png": "[encoded data removed]",
      "text/plain": [
       "<Figure size 432x288 with 1 Axes>"
      ]
     },
     "metadata": {
      "needs_background": "light"
     },
     "output_type": "display_data"
    }
   ],
   "source": [
    "plt.plot(history.history['acc'])\n",
    "plt.plot(history.history['val_acc'])\n",
    "plt.show()"
   ]
  },
  {
   "cell_type": "markdown",
   "metadata": {},
   "source": [
    "### Step 5. 모델 구현하기\n"
   ]
  },
  {
   "cell_type": "code",
   "execution_count": 30,
   "metadata": {},
   "outputs": [
    {
     "name": "stdout",
     "output_type": "stream",
     "text": [
      "Model: \"functional_3\"\n",
      "_________________________________________________________________\n",
      "Layer (type)                 Output Shape              Param #   \n",
      "=================================================================\n",
      "input_1 (InputLayer)         [(None, None)]            0         \n",
      "_________________________________________________________________\n",
      "embedding (Embedding)        (None, None, 256)         1193472   \n",
      "_________________________________________________________________\n",
      "masking (Masking)            (None, None, 256)         0         \n",
      "_________________________________________________________________\n",
      "lstm (LSTM)                  [(None, 256), (None, 256) 525312    \n",
      "=================================================================\n",
      "Total params: 1,718,784\n",
      "Trainable params: 1,718,784\n",
      "Non-trainable params: 0\n",
      "_________________________________________________________________\n"
     ]
    }
   ],
   "source": [
    "encoder_model = Model(inputs = encoder_inputs, outputs = encoder_states)\n",
    "encoder_model.summary()"
   ]
  },
  {
   "cell_type": "code",
   "execution_count": 31,
   "metadata": {},
   "outputs": [],
   "source": [
    "decoder_state_input_h = Input(shape=(256,))\n",
    "decoder_state_input_c = Input(shape=(256,))\n",
    "decoder_states_inputs = [decoder_state_input_h, decoder_state_input_c]\n",
    "\n",
    "dec_emb2 = Embedding(fra_vocab_size, 256)(decoder_inputs)\n",
    "decoder_outputs2, state_h2, state_c2 = decoder_lstm(dec_emb2, initial_state = decoder_states_inputs)\n",
    "decoder_states2 = [state_h2, state_c2]\n",
    "\n",
    "decoder_outputs2 = decoder_softmax_layer(decoder_outputs2)"
   ]
  },
  {
   "cell_type": "code",
   "execution_count": 32,
   "metadata": {},
   "outputs": [
    {
     "name": "stdout",
     "output_type": "stream",
     "text": [
      "Model: \"functional_5\"\n",
      "__________________________________________________________________________________________________\n",
      "Layer (type)                    Output Shape         Param #     Connected to                     \n",
      "==================================================================================================\n",
      "input_2 (InputLayer)            [(None, None)]       0                                            \n",
      "__________________________________________________________________________________________________\n",
      "embedding_2 (Embedding)         (None, None, 256)    1875456     input_2[0][0]                    \n",
      "__________________________________________________________________________________________________\n",
      "input_3 (InputLayer)            [(None, 256)]        0                                            \n",
      "__________________________________________________________________________________________________\n",
      "input_4 (InputLayer)            [(None, 256)]        0                                            \n",
      "__________________________________________________________________________________________________\n",
      "lstm_1 (LSTM)                   [(None, None, 256),  525312      embedding_2[0][0]                \n",
      "                                                                 input_3[0][0]                    \n",
      "                                                                 input_4[0][0]                    \n",
      "__________________________________________________________________________________________________\n",
      "dense (Dense)                   (None, None, 7326)   1882782     lstm_1[1][0]                     \n",
      "==================================================================================================\n",
      "Total params: 4,283,550\n",
      "Trainable params: 4,283,550\n",
      "Non-trainable params: 0\n",
      "__________________________________________________________________________________________________\n"
     ]
    }
   ],
   "source": [
    "decoder_model = Model(inputs=[decoder_inputs] + decoder_states_inputs, outputs=[decoder_outputs2] + decoder_states2)\n",
    "decoder_model.summary()"
   ]
  },
  {
   "cell_type": "code",
   "execution_count": 33,
   "metadata": {},
   "outputs": [],
   "source": [
    "eng2idx = eng_tokenizer.word_index\n",
    "fra2idx = fra_tokenizer.word_index\n",
    "idx2eng = eng_tokenizer.index_word\n",
    "idx2fra = fra_tokenizer.index_word"
   ]
  },
  {
   "cell_type": "code",
   "execution_count": 34,
   "metadata": {},
   "outputs": [],
   "source": [
    "def decode_sequence(input_seq):\n",
    "    # 입력으로부터 인코더의 상태를 얻음\n",
    "    states_value = encoder_model.predict(input_seq)\n",
    "\n",
    "    # <SOS>에 해당하는 원-핫 벡터 생성\n",
    "    target_seq = np.zeros((1,1))\n",
    "    target_seq[0, 0] = fra2idx['<start>']\n",
    "    \n",
    "    stop_condition = False\n",
    "    decoded_sentence = \"\"\n",
    "\n",
    "    # stop_condition이 True가 될 때까지 루프 반복\n",
    "    while not stop_condition:\n",
    "        # 이점 시점의 상태 states_value를 현 시점의 초기 상태로 사용\n",
    "        output_tokens, h, c = decoder_model.predict([target_seq] + states_value)\n",
    "\n",
    "        # 예측 결과를 문자로 변환\n",
    "        sampled_token_index = np.argmax(output_tokens[0, -1, :])\n",
    "        sampled_char = idx2fra[sampled_token_index]\n",
    "\n",
    "        # 현재 시점의 예측 문자를 예측 문장에 추가\n",
    "        decoded_sentence += ' '+sampled_char\n",
    "\n",
    "        # <eos>에 도달하거나 최대 길이를 넘으면 중단.\n",
    "        if (sampled_char == '<end>' or\n",
    "           len(decoded_sentence) > max_fra_seq_len):\n",
    "            stop_condition = True\n",
    "\n",
    "        # 현재 시점의 예측 결과를 다음 시점의 입력으로 사용하기 위해 저장\n",
    "        target_seq = np.zeros((1, 1))\n",
    "        target_seq[0, 0] = sampled_token_index\n",
    "\n",
    "        # 현재 시점의 상태를 다음 시점의 상태로 사용하기 위해 저장\n",
    "        states_value = [h, c]\n",
    "\n",
    "    return decoded_sentence"
   ]
  },
  {
   "cell_type": "code",
   "execution_count": 35,
   "metadata": {},
   "outputs": [],
   "source": [
    "# 원문의 정수 시퀀스를 텍스트 시퀀스로 변환\n",
    "def seq2src(input_seq):\n",
    "    temp=''\n",
    "    for i in input_seq:\n",
    "        if(i!=0):\n",
    "            temp = temp + idx2eng[i]+' '\n",
    "    return temp"
   ]
  },
  {
   "cell_type": "code",
   "execution_count": 36,
   "metadata": {},
   "outputs": [],
   "source": [
    "# 번역문의 정수 시퀀스를 텍스트 시퀀스로 변환\n",
    "def seq2tar(input_seq):\n",
    "    temp=''\n",
    "    for i in input_seq:\n",
    "        if((i!=0 and i!=fra2idx['<start>']) and i!=fra2idx['<end>']):\n",
    "            temp = temp + idx2fra[i] + ' '\n",
    "    return temp"
   ]
  },
  {
   "cell_type": "markdown",
   "metadata": {},
   "source": [
    "### Step 6. 모델 평가하기"
   ]
  },
  {
   "cell_type": "code",
   "execution_count": 51,
   "metadata": {},
   "outputs": [
    {
     "name": "stdout",
     "output_type": "stream",
     "text": [
      "-----------------------------------\n",
      "입력 문장: hold your position . \n",
      "정답 문장: reste en position ! \n",
      "번역기가 번역한 문장:  restez vous toi \n",
      "-----------------------------------\n",
      "입력 문장: i guess i was wrong . \n",
      "정답 문장: je suppose que j ai eu tort . \n",
      "번역기가 번역한 문장:  j devrait j a a \n",
      "-----------------------------------\n",
      "입력 문장: stay very still . \n",
      "정답 문장: reste bien tranquille ! \n",
      "번역기가 번역한 문장:  te vous vous le l\n",
      "-----------------------------------\n",
      "입력 문장: this is doable . \n",
      "정답 문장: c est faisable . \n",
      "번역기가 번역한 문장:  c est s . . . . \n",
      "-----------------------------------\n",
      "입력 문장: i bike to work . \n",
      "정답 문장: je me rends au travail en v lo . \n",
      "번역기가 번역한 문장:  je je mon l l au a\n"
     ]
    }
   ],
   "source": [
    "for seq_index in [22,330,540,770,980]:\n",
    "    input_seq = encoder_input_test[seq_index: seq_index + 1]\n",
    "    decoded_sentence = decode_sequence(input_seq)\n",
    "    print(35 * \"-\")\n",
    "    print('입력 문장:', seq2src(encoder_input_test[seq_index]))\n",
    "    print('정답 문장:', seq2tar(decoder_input_test[seq_index]))\n",
    "    print('번역기가 번역한 문장:', decoded_sentence[:len(decoded_sentence)-1])"
   ]
  },
  {
   "cell_type": "markdown",
   "metadata": {},
   "source": [
    "- 번역기 만들기 어렵다............결과를 보아하니 첫 단어만 비슷하게 맞출 뿐 정답과 유사하지 않다."
   ]
  },
  {
   "cell_type": "code",
   "execution_count": null,
   "metadata": {},
   "outputs": [],
   "source": []
  }
 ],
 "metadata": {
  "kernelspec": {
   "display_name": "aiffel",
   "language": "python",
   "name": "aiffel"
  },
  "language_info": {
   "codemirror_mode": {
    "name": "ipython",
    "version": 3
   },
   "file_extension": ".py",
   "mimetype": "text/x-python",
   "name": "python",
   "nbconvert_exporter": "python",
   "pygments_lexer": "ipython3",
   "version": "3.7.6"
  }
 },
 "nbformat": 4,
 "nbformat_minor": 4
}

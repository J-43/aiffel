{
 "cells": [
  {
   "cell_type": "markdown",
   "metadata": {},
   "source": [
    "### 1) 데이터 준비와 확인"
   ]
  },
  {
   "cell_type": "code",
   "execution_count": 1,
   "metadata": {
    "scrolled": true
   },
   "outputs": [
    {
     "name": "stderr",
     "output_type": "stream",
     "text": [
      "Illegal line #217\n",
      "\t\"       - 'Nanum'\n",
      "\"\n",
      "\tin file \"/home/aiffel0042/anaconda3/envs/aiffel/lib/python3.7/site-packages/matplotlib/mpl-data/matplotlibrc\"\n"
     ]
    },
    {
     "data": {
      "text/html": [
       "<div>\n",
       "<style scoped>\n",
       "    .dataframe tbody tr th:only-of-type {\n",
       "        vertical-align: middle;\n",
       "    }\n",
       "\n",
       "    .dataframe tbody tr th {\n",
       "        vertical-align: top;\n",
       "    }\n",
       "\n",
       "    .dataframe thead th {\n",
       "        text-align: right;\n",
       "    }\n",
       "</style>\n",
       "<table border=\"1\" class=\"dataframe\">\n",
       "  <thead>\n",
       "    <tr style=\"text-align: right;\">\n",
       "      <th></th>\n",
       "      <th>id</th>\n",
       "      <th>document</th>\n",
       "      <th>label</th>\n",
       "    </tr>\n",
       "  </thead>\n",
       "  <tbody>\n",
       "    <tr>\n",
       "      <th>0</th>\n",
       "      <td>9976970</td>\n",
       "      <td>아 더빙.. 진짜 짜증나네요 목소리</td>\n",
       "      <td>0</td>\n",
       "    </tr>\n",
       "    <tr>\n",
       "      <th>1</th>\n",
       "      <td>3819312</td>\n",
       "      <td>흠...포스터보고 초딩영화줄....오버연기조차 가볍지 않구나</td>\n",
       "      <td>1</td>\n",
       "    </tr>\n",
       "    <tr>\n",
       "      <th>2</th>\n",
       "      <td>10265843</td>\n",
       "      <td>너무재밓었다그래서보는것을추천한다</td>\n",
       "      <td>0</td>\n",
       "    </tr>\n",
       "    <tr>\n",
       "      <th>3</th>\n",
       "      <td>9045019</td>\n",
       "      <td>교도소 이야기구먼 ..솔직히 재미는 없다..평점 조정</td>\n",
       "      <td>0</td>\n",
       "    </tr>\n",
       "    <tr>\n",
       "      <th>4</th>\n",
       "      <td>6483659</td>\n",
       "      <td>사이몬페그의 익살스런 연기가 돋보였던 영화!스파이더맨에서 늙어보이기만 했던 커스틴 ...</td>\n",
       "      <td>1</td>\n",
       "    </tr>\n",
       "  </tbody>\n",
       "</table>\n",
       "</div>"
      ],
      "text/plain": [
       "         id                                           document  label\n",
       "0   9976970                                아 더빙.. 진짜 짜증나네요 목소리      0\n",
       "1   3819312                  흠...포스터보고 초딩영화줄....오버연기조차 가볍지 않구나      1\n",
       "2  10265843                                  너무재밓었다그래서보는것을추천한다      0\n",
       "3   9045019                      교도소 이야기구먼 ..솔직히 재미는 없다..평점 조정      0\n",
       "4   6483659  사이몬페그의 익살스런 연기가 돋보였던 영화!스파이더맨에서 늙어보이기만 했던 커스틴 ...      1"
      ]
     },
     "execution_count": 1,
     "metadata": {},
     "output_type": "execute_result"
    }
   ],
   "source": [
    "import pandas as pd\n",
    "import urllib.request\n",
    "%matplotlib inline\n",
    "import matplotlib.pyplot as plt\n",
    "import re\n",
    "from konlpy.tag import Okt\n",
    "from tensorflow import keras\n",
    "from tensorflow.keras.preprocessing.text import Tokenizer\n",
    "import numpy as np\n",
    "from tensorflow.keras.preprocessing.sequence import pad_sequences\n",
    "from collections import Counter\n",
    "\n",
    "# 데이터를 읽어봅시다. \n",
    "train_data = pd.read_table('~/aiffel/sentiment_classification/ratings_train.txt')\n",
    "test_data = pd.read_table('~/aiffel/sentiment_classification/ratings_test.txt')\n",
    "\n",
    "train_data.head()"
   ]
  },
  {
   "cell_type": "code",
   "execution_count": 2,
   "metadata": {},
   "outputs": [
    {
     "data": {
      "text/plain": [
       "(150000, 3)"
      ]
     },
     "execution_count": 2,
     "metadata": {},
     "output_type": "execute_result"
    }
   ],
   "source": [
    "train_data.shape"
   ]
  },
  {
   "cell_type": "code",
   "execution_count": 3,
   "metadata": {},
   "outputs": [
    {
     "name": "stdout",
     "output_type": "stream",
     "text": [
      "<class 'pandas.core.frame.DataFrame'>\n",
      "RangeIndex: 150000 entries, 0 to 149999\n",
      "Data columns (total 3 columns):\n",
      " #   Column    Non-Null Count   Dtype \n",
      "---  ------    --------------   ----- \n",
      " 0   id        150000 non-null  int64 \n",
      " 1   document  149995 non-null  object\n",
      " 2   label     150000 non-null  int64 \n",
      "dtypes: int64(2), object(1)\n",
      "memory usage: 3.4+ MB\n"
     ]
    }
   ],
   "source": [
    "train_data.info()"
   ]
  },
  {
   "cell_type": "markdown",
   "metadata": {},
   "source": [
    "### 2) 데이터로더 구성    \n",
    "실습때 다루었던 IMDB 데이터셋은 텍스트를 가공하여 imdb.data_loader() 메소드를 호출하면 숫자 인덱스로 변환된 텍스트와 word_to_index 딕셔너리까지 친절하게 제공합니다. 그러나 이번에 다루게 될 nsmc 데이터셋은 전혀 가공되지 않은 텍스트 파일로 이루어져 있습니다. 이것을 읽어서 imdb.data_loader()와 동일하게 동작하는 자신만의 data_loader를 만들어 보는 것으로 시작합니다. data_loader 안에서는 다음을 수행해야 합니다.\n",
    "\n",
    "- 데이터의 중복 제거\n",
    "- NaN 결측치 제거\n",
    "- 한국어 토크나이저로 토큰화\n",
    "- 불용어(Stopwords) 제거\n",
    "- 사전word_to_index 구성\n",
    "- 텍스트 스트링을 사전 인덱스 스트링으로 변환\n",
    "- X_train, y_train, X_test, y_test, word_to_index 리턴"
   ]
  },
  {
   "cell_type": "code",
   "execution_count": 4,
   "metadata": {},
   "outputs": [],
   "source": [
    "from konlpy.tag import Mecab\n",
    "tokenizer = Mecab()\n",
    "stopwords = ['의','가','이','은','들','는','좀','잘','걍','과','도','를','으로','자','에','와','한','하다']\n",
    "\n",
    "def load_data(train_data, test_data, num_words=10000):\n",
    "    train_data.drop_duplicates(subset=['document'], inplace=True)\n",
    "    train_data = train_data.dropna(how = 'any') \n",
    "    test_data.drop_duplicates(subset=['document'], inplace=True)\n",
    "    test_data = test_data.dropna(how = 'any') \n",
    "\n",
    "    X_train = []\n",
    "    for sentence in train_data['document']:\n",
    "        temp_X = tokenizer.morphs(sentence) # 토큰화\n",
    "        temp_X = [word for word in temp_X if not word in stopwords] # 불용어 제거\n",
    "        X_train.append(temp_X)\n",
    "\n",
    "    X_test = []\n",
    "    for sentence in test_data['document']:\n",
    "        temp_X = tokenizer.morphs(sentence) # 토큰화\n",
    "        temp_X = [word for word in temp_X if not word in stopwords] # 불용어 제거\n",
    "        X_test.append(temp_X)\n",
    "\n",
    "    words = np.concatenate(X_train).tolist()\n",
    "    counter = Counter(words)\n",
    "    counter = counter.most_common(10000-4)\n",
    "    vocab = ['<PAD>', '<BOS>', '<UNK>', '<UNUSED>'] + [key for key, _ in counter]\n",
    "    word_to_index = {word:index for index, word in enumerate(vocab)}\n",
    "\n",
    "    def wordlist_to_indexlist(wordlist):\n",
    "        return [word_to_index[word] if word in word_to_index else word_to_index['<UNK>'] for word in wordlist]\n",
    "\n",
    "    X_train = list(map(wordlist_to_indexlist, X_train))\n",
    "    X_test = list(map(wordlist_to_indexlist, X_test))\n",
    "\n",
    "    return X_train, np.array(list(train_data['label'])), X_test, np.array(list(test_data['label'])), word_to_index\n",
    "\n",
    "X_train, y_train, X_test, y_test, word_to_index = load_data(train_data, test_data) "
   ]
  },
  {
   "cell_type": "code",
   "execution_count": 5,
   "metadata": {},
   "outputs": [],
   "source": [
    "# index_to_word\n",
    "index_to_word = {index:word for word, index in word_to_index.items()}"
   ]
  },
  {
   "cell_type": "code",
   "execution_count": 6,
   "metadata": {},
   "outputs": [],
   "source": [
    "# 문장 1개를 활용할 딕셔너리와 함께 주면, 단어 인덱스 리스트 벡터로 변환해 주는 함수입니다. \n",
    "# 단, 모든 문장은 <BOS>로 시작하는 것으로 합니다. \n",
    "def get_encoded_sentence(sentence, word_to_index):\n",
    "    return [word_to_index['<BOS>']]+[word_to_index[word] if word in word_to_index else word_to_index['<UNK>'] for word in sentence.split()]\n",
    "\n",
    "# 여러 개의 문장 리스트를 한꺼번에 단어 인덱스 리스트 벡터로 encode해 주는 함수입니다. \n",
    "def get_encoded_sentences(sentences, word_to_index):\n",
    "    return [get_encoded_sentence(sentence, word_to_index) for sentence in sentences]\n",
    "\n",
    "# 숫자 벡터로 encode된 문장을 원래대로 decode하는 함수입니다. \n",
    "def get_decoded_sentence(encoded_sentence, index_to_word):\n",
    "    return ' '.join(index_to_word[index] if index in index_to_word else '<UNK>' for index in encoded_sentence[1:])  #[1:]를 통해 <BOS>를 제외\n",
    "\n",
    "# 여러개의 숫자 벡터로 encode된 문장을 한꺼번에 원래대로 decode하는 함수입니다. \n",
    "def get_decoded_sentences(encoded_sentences, index_to_word):\n",
    "    return [get_decoded_sentence(encoded_sentence, index_to_word) for encoded_sentence in encoded_sentences]"
   ]
  },
  {
   "cell_type": "markdown",
   "metadata": {},
   "source": [
    "### 3) 모델구성을 위한 데이터 분석 및 가공    \n",
    "- 데이터셋 내 문장 길이 분포   \n",
    "- 적절한 최대 문장 길이 지정    \n",
    "- keras.preprocessing.sequence.pad_sequences 을 활용한 패딩 추가    "
   ]
  },
  {
   "cell_type": "code",
   "execution_count": 7,
   "metadata": {},
   "outputs": [
    {
     "name": "stdout",
     "output_type": "stream",
     "text": [
      "문장길이 평균 :  15.969376315021577\n",
      "문장길이 최대 :  116\n",
      "문장길이 표준편차 :  12.843535456326455\n",
      "pad_sequences maxlen :  41\n",
      "전체 문장의 0.9342988343341575%가 maxlen 설정값 이내에 포함됩니다. \n"
     ]
    }
   ],
   "source": [
    "total_data_text = list(X_train) + list(X_test)\n",
    "\n",
    "# 텍스트데이터 문장길이의 리스트를 생성\n",
    "num_tokens = [len(tokens) for tokens in total_data_text]\n",
    "num_tokens = np.array(num_tokens)\n",
    "\n",
    "# 문장길이의 평균값, 최대값, 표준편차를 계산\n",
    "print('문장길이 평균 : ', np.mean(num_tokens))\n",
    "print('문장길이 최대 : ', np.max(num_tokens))\n",
    "print('문장길이 표준편차 : ', np.std(num_tokens))\n",
    "\n",
    "# 예를들어, 최대 길이를 (평균 + 2*표준편차)로 한다면,  \n",
    "max_tokens = np.mean(num_tokens) + 2 * np.std(num_tokens)\n",
    "maxlen = int(max_tokens)\n",
    "print('pad_sequences maxlen : ', maxlen)\n",
    "print('전체 문장의 {}%가 maxlen 설정값 이내에 포함됩니다. '.format(np.sum(num_tokens < max_tokens) / len(num_tokens)))"
   ]
  },
  {
   "cell_type": "code",
   "execution_count": 8,
   "metadata": {},
   "outputs": [
    {
     "name": "stdout",
     "output_type": "stream",
     "text": [
      "(146182, 41)\n",
      "(49157, 41)\n"
     ]
    }
   ],
   "source": [
    "X_train = keras.preprocessing.sequence.pad_sequences(X_train,\n",
    "                                                        value=word_to_index[\"<PAD>\"],\n",
    "                                                        padding='post', # 혹은 'pre'\n",
    "                                                        maxlen=maxlen)\n",
    "\n",
    "X_test = keras.preprocessing.sequence.pad_sequences(X_test,\n",
    "                                                       value=word_to_index[\"<PAD>\"],\n",
    "                                                       padding='post', # 혹은 'pre'\n",
    "                                                       maxlen=maxlen)\n",
    "\n",
    "print(X_train.shape)\n",
    "print(X_test.shape)"
   ]
  },
  {
   "cell_type": "markdown",
   "metadata": {},
   "source": [
    "### 4) 모델구성 및 validation set 구성\n",
    "모델은 3가지 이상 다양하게 구성하여 실험해 보세요."
   ]
  },
  {
   "cell_type": "code",
   "execution_count": 9,
   "metadata": {},
   "outputs": [
    {
     "name": "stdout",
     "output_type": "stream",
     "text": [
      "(126182, 41)\n",
      "(126182,)\n",
      "(20000, 41)\n",
      "(20000,)\n"
     ]
    }
   ],
   "source": [
    "# validation set 20000건 분리\n",
    "x_val = X_train[:20000]   \n",
    "y_val = y_train[:20000]\n",
    "\n",
    "# validation set을 제외한 나머지\n",
    "partial_X_train = X_train[20000:]  \n",
    "partial_y_train = y_train[20000:]\n",
    "\n",
    "print(partial_X_train.shape)\n",
    "print(partial_y_train.shape)\n",
    "print(x_val.shape)\n",
    "print(y_val.shape)"
   ]
  },
  {
   "cell_type": "code",
   "execution_count": 10,
   "metadata": {},
   "outputs": [],
   "source": [
    "vocab_size = len(index_to_word) # 어휘 사전의 크기\n",
    "word_vector_dim = 300            # 워드 벡터의 차원수"
   ]
  },
  {
   "cell_type": "code",
   "execution_count": 11,
   "metadata": {},
   "outputs": [
    {
     "name": "stdout",
     "output_type": "stream",
     "text": [
      "Model: \"RNN\"\n",
      "_________________________________________________________________\n",
      "Layer (type)                 Output Shape              Param #   \n",
      "=================================================================\n",
      "embedding (Embedding)        (None, None, 300)         3000000   \n",
      "_________________________________________________________________\n",
      "conv1d (Conv1D)              (None, None, 16)          33616     \n",
      "_________________________________________________________________\n",
      "max_pooling1d (MaxPooling1D) (None, None, 16)          0         \n",
      "_________________________________________________________________\n",
      "conv1d_1 (Conv1D)            (None, None, 16)          1808      \n",
      "_________________________________________________________________\n",
      "global_max_pooling1d (Global (None, 16)                0         \n",
      "_________________________________________________________________\n",
      "dense (Dense)                (None, 8)                 136       \n",
      "_________________________________________________________________\n",
      "dense_1 (Dense)              (None, 1)                 9         \n",
      "=================================================================\n",
      "Total params: 3,035,569\n",
      "Trainable params: 3,035,569\n",
      "Non-trainable params: 0\n",
      "_________________________________________________________________\n"
     ]
    }
   ],
   "source": [
    "#RNN\n",
    "\n",
    "RNN_model = keras.Sequential(name=\"RNN\")\n",
    "RNN_model.add(keras.layers.Embedding(vocab_size, word_vector_dim, input_shape=(None, )))\n",
    "RNN_model.add(keras.layers.Conv1D(16, 7, activation='relu'))\n",
    "RNN_model.add(keras.layers.MaxPooling1D(5))\n",
    "RNN_model.add(keras.layers.Conv1D(16, 7, activation='relu'))\n",
    "RNN_model.add(keras.layers.GlobalMaxPooling1D())\n",
    "RNN_model.add(keras.layers.Dense(8, activation='relu'))\n",
    "RNN_model.add(keras.layers.Dense(1, activation='sigmoid'))\n",
    "\n",
    "RNN_model.summary()"
   ]
  },
  {
   "cell_type": "code",
   "execution_count": 12,
   "metadata": {},
   "outputs": [
    {
     "name": "stdout",
     "output_type": "stream",
     "text": [
      "Model: \"CNN\"\n",
      "_________________________________________________________________\n",
      "Layer (type)                 Output Shape              Param #   \n",
      "=================================================================\n",
      "embedding_1 (Embedding)      (None, None, 300)         3000000   \n",
      "_________________________________________________________________\n",
      "conv1d_2 (Conv1D)            (None, None, 256)         537856    \n",
      "_________________________________________________________________\n",
      "max_pooling1d_1 (MaxPooling1 (None, None, 256)         0         \n",
      "_________________________________________________________________\n",
      "conv1d_3 (Conv1D)            (None, None, 64)          114752    \n",
      "_________________________________________________________________\n",
      "global_max_pooling1d_1 (Glob (None, 64)                0         \n",
      "_________________________________________________________________\n",
      "dense_2 (Dense)              (None, 8)                 520       \n",
      "_________________________________________________________________\n",
      "dense_3 (Dense)              (None, 1)                 9         \n",
      "=================================================================\n",
      "Total params: 3,653,137\n",
      "Trainable params: 3,653,137\n",
      "Non-trainable params: 0\n",
      "_________________________________________________________________\n"
     ]
    }
   ],
   "source": [
    "# CNN\n",
    "\n",
    "CNN_model = keras.Sequential(name=\"CNN\")\n",
    "CNN_model.add(keras.layers.Embedding(vocab_size, word_vector_dim, input_shape=(None,)))\n",
    "CNN_model.add(keras.layers.Conv1D(256, 7, activation='relu'))\n",
    "CNN_model.add(keras.layers.MaxPooling1D(5))\n",
    "CNN_model.add(keras.layers.Conv1D(64, 7, activation='relu'))\n",
    "CNN_model.add(keras.layers.GlobalMaxPooling1D())\n",
    "CNN_model.add(keras.layers.Dense(8, activation='relu'))\n",
    "CNN_model.add(keras.layers.Dense(1, activation='sigmoid'))\n",
    "CNN_model.summary()"
   ]
  },
  {
   "cell_type": "code",
   "execution_count": 13,
   "metadata": {},
   "outputs": [
    {
     "name": "stdout",
     "output_type": "stream",
     "text": [
      "Model: \"LSTM\"\n",
      "_________________________________________________________________\n",
      "Layer (type)                 Output Shape              Param #   \n",
      "=================================================================\n",
      "embedding_2 (Embedding)      (None, None, 300)         3000000   \n",
      "_________________________________________________________________\n",
      "lstm (LSTM)                  (None, 8)                 9888      \n",
      "_________________________________________________________________\n",
      "dense_4 (Dense)              (None, 8)                 72        \n",
      "_________________________________________________________________\n",
      "dense_5 (Dense)              (None, 1)                 9         \n",
      "=================================================================\n",
      "Total params: 3,009,969\n",
      "Trainable params: 3,009,969\n",
      "Non-trainable params: 0\n",
      "_________________________________________________________________\n"
     ]
    }
   ],
   "source": [
    "# LSTM\n",
    "\n",
    "LSTM_model = keras.Sequential(name=\"LSTM\")\n",
    "LSTM_model.add(keras.layers.Embedding(vocab_size, word_vector_dim, input_shape=(None,)))\n",
    "LSTM_model.add(keras.layers.LSTM(8, dropout=0.7))\n",
    "LSTM_model.add(keras.layers.Dense(8, activation='relu'))\n",
    "LSTM_model.add(keras.layers.Dense(1, activation='sigmoid'))\n",
    "\n",
    "LSTM_model.summary()"
   ]
  },
  {
   "cell_type": "markdown",
   "metadata": {},
   "source": [
    "### 5) 모델 훈련 개시"
   ]
  },
  {
   "cell_type": "code",
   "execution_count": 16,
   "metadata": {},
   "outputs": [
    {
     "name": "stdout",
     "output_type": "stream",
     "text": [
      "Epoch 1/10\n",
      "247/247 [==============================] - 7s 27ms/step - loss: 0.0396 - accuracy: 0.9862 - val_loss: 0.7228 - val_accuracy: 0.8350\n",
      "Epoch 2/10\n",
      "247/247 [==============================] - 7s 27ms/step - loss: 0.0289 - accuracy: 0.9901 - val_loss: 0.8064 - val_accuracy: 0.8352\n",
      "Epoch 3/10\n",
      "247/247 [==============================] - 7s 27ms/step - loss: 0.0219 - accuracy: 0.9925 - val_loss: 0.9410 - val_accuracy: 0.8302\n",
      "Epoch 4/10\n",
      "247/247 [==============================] - 7s 27ms/step - loss: 0.0205 - accuracy: 0.9927 - val_loss: 1.0007 - val_accuracy: 0.8303\n",
      "Epoch 5/10\n",
      "247/247 [==============================] - 7s 27ms/step - loss: 0.0254 - accuracy: 0.9908 - val_loss: 0.9468 - val_accuracy: 0.8366\n",
      "Epoch 6/10\n",
      "247/247 [==============================] - 7s 27ms/step - loss: 0.0262 - accuracy: 0.9905 - val_loss: 0.9732 - val_accuracy: 0.8356\n",
      "Epoch 7/10\n",
      "247/247 [==============================] - 7s 26ms/step - loss: 0.0205 - accuracy: 0.9926 - val_loss: 1.0460 - val_accuracy: 0.8273\n",
      "Epoch 8/10\n",
      "247/247 [==============================] - 7s 27ms/step - loss: 0.0156 - accuracy: 0.9945 - val_loss: 1.1114 - val_accuracy: 0.8317\n",
      "Epoch 9/10\n",
      "247/247 [==============================] - 7s 27ms/step - loss: 0.0126 - accuracy: 0.9952 - val_loss: 1.2196 - val_accuracy: 0.8321\n",
      "Epoch 10/10\n",
      "247/247 [==============================] - 7s 27ms/step - loss: 0.0126 - accuracy: 0.9952 - val_loss: 1.2353 - val_accuracy: 0.8297\n",
      "1537/1537 - 4s - loss: 1.2862 - accuracy: 0.8250\n",
      "[1.2862104177474976, 0.8250096440315247]\n"
     ]
    }
   ],
   "source": [
    "#RNN\n",
    "\n",
    "RNN_model.compile(optimizer = 'adam',\n",
    "             loss = 'binary_crossentropy', \n",
    "             metrics=['accuracy'])\n",
    "              \n",
    "epochs= 10\n",
    "RNN_history = RNN_model.fit(partial_X_train, partial_y_train,\n",
    "                    epochs=epochs, batch_size=512,\n",
    "                    validation_data=(x_val, y_val),\n",
    "                    verbose=1)\n",
    "\n",
    "RNN_results = RNN_model.evaluate(X_test, y_test, verbose = 2)\n",
    "print(RNN_results)"
   ]
  },
  {
   "cell_type": "code",
   "execution_count": 17,
   "metadata": {},
   "outputs": [
    {
     "name": "stdout",
     "output_type": "stream",
     "text": [
      "Epoch 1/10\n",
      "247/247 [==============================] - 15s 61ms/step - loss: 0.4229 - accuracy: 0.7901 - val_loss: 0.3302 - val_accuracy: 0.8547\n",
      "Epoch 2/10\n",
      "247/247 [==============================] - 9s 35ms/step - loss: 0.2821 - accuracy: 0.8818 - val_loss: 0.3295 - val_accuracy: 0.8573\n",
      "Epoch 3/10\n",
      "247/247 [==============================] - 9s 35ms/step - loss: 0.1981 - accuracy: 0.9228 - val_loss: 0.3528 - val_accuracy: 0.8569\n",
      "Epoch 4/10\n",
      "247/247 [==============================] - 9s 34ms/step - loss: 0.1136 - accuracy: 0.9594 - val_loss: 0.4470 - val_accuracy: 0.8526\n",
      "Epoch 5/10\n",
      "247/247 [==============================] - 9s 35ms/step - loss: 0.0665 - accuracy: 0.9777 - val_loss: 0.5578 - val_accuracy: 0.8474\n",
      "Epoch 6/10\n",
      "247/247 [==============================] - 9s 35ms/step - loss: 0.0430 - accuracy: 0.9859 - val_loss: 0.6637 - val_accuracy: 0.8436\n",
      "Epoch 7/10\n",
      "247/247 [==============================] - 9s 35ms/step - loss: 0.0307 - accuracy: 0.9900 - val_loss: 0.7832 - val_accuracy: 0.8463\n",
      "Epoch 8/10\n",
      "247/247 [==============================] - 9s 35ms/step - loss: 0.0291 - accuracy: 0.9901 - val_loss: 0.8685 - val_accuracy: 0.8372\n",
      "Epoch 9/10\n",
      "247/247 [==============================] - 9s 35ms/step - loss: 0.0382 - accuracy: 0.9860 - val_loss: 0.7789 - val_accuracy: 0.8443\n",
      "Epoch 10/10\n",
      "247/247 [==============================] - 9s 36ms/step - loss: 0.0270 - accuracy: 0.9903 - val_loss: 0.8522 - val_accuracy: 0.8420\n",
      "1537/1537 - 4s - loss: 0.8955 - accuracy: 0.8375\n",
      "[0.8954625725746155, 0.8374595642089844]\n"
     ]
    }
   ],
   "source": [
    "#CNN\n",
    "\n",
    "CNN_model.compile(optimizer = 'adam',\n",
    "             loss = 'binary_crossentropy', \n",
    "             metrics=['accuracy'])\n",
    "              \n",
    "epochs= 10\n",
    "CNN_history = CNN_model.fit(partial_X_train, partial_y_train,\n",
    "                    epochs=epochs, batch_size=512,\n",
    "                    validation_data=(x_val, y_val),\n",
    "                    verbose=1)\n",
    "\n",
    "CNN_results = CNN_model.evaluate(X_test, y_test, verbose = 2)\n",
    "print(CNN_results)"
   ]
  },
  {
   "cell_type": "code",
   "execution_count": 19,
   "metadata": {},
   "outputs": [
    {
     "name": "stdout",
     "output_type": "stream",
     "text": [
      "Epoch 1/10\n",
      "247/247 [==============================] - 7s 28ms/step - loss: 0.2804 - accuracy: 0.8880 - val_loss: 0.3619 - val_accuracy: 0.8533\n",
      "Epoch 2/10\n",
      "247/247 [==============================] - 7s 27ms/step - loss: 0.2675 - accuracy: 0.8923 - val_loss: 0.3541 - val_accuracy: 0.8534\n",
      "Epoch 3/10\n",
      "247/247 [==============================] - 7s 28ms/step - loss: 0.2590 - accuracy: 0.8947 - val_loss: 0.3676 - val_accuracy: 0.8515\n",
      "Epoch 4/10\n",
      "247/247 [==============================] - 7s 28ms/step - loss: 0.2499 - accuracy: 0.8986 - val_loss: 0.3752 - val_accuracy: 0.8532\n",
      "Epoch 5/10\n",
      "247/247 [==============================] - 7s 27ms/step - loss: 0.2442 - accuracy: 0.9006 - val_loss: 0.3743 - val_accuracy: 0.8547\n",
      "Epoch 6/10\n",
      "247/247 [==============================] - 7s 28ms/step - loss: 0.2352 - accuracy: 0.9040 - val_loss: 0.3765 - val_accuracy: 0.8537\n",
      "Epoch 7/10\n",
      "247/247 [==============================] - 7s 28ms/step - loss: 0.2300 - accuracy: 0.9064 - val_loss: 0.3872 - val_accuracy: 0.8518\n",
      "Epoch 8/10\n",
      "247/247 [==============================] - 7s 28ms/step - loss: 0.2242 - accuracy: 0.9084 - val_loss: 0.3910 - val_accuracy: 0.8529\n",
      "Epoch 9/10\n",
      "247/247 [==============================] - 7s 28ms/step - loss: 0.2170 - accuracy: 0.9117 - val_loss: 0.4002 - val_accuracy: 0.8529\n",
      "Epoch 10/10\n",
      "247/247 [==============================] - 7s 28ms/step - loss: 0.2127 - accuracy: 0.9135 - val_loss: 0.4032 - val_accuracy: 0.8538\n",
      "1537/1537 - 2s - loss: 0.4022 - accuracy: 0.8505\n",
      "[0.40220555663108826, 0.8505401015281677]\n"
     ]
    }
   ],
   "source": [
    "#LSTM\n",
    "\n",
    "LSTM_model.compile(optimizer = 'adam',\n",
    "             loss = 'binary_crossentropy', \n",
    "             metrics=['accuracy'])\n",
    "              \n",
    "epochs= 10\n",
    "LSTM_history = LSTM_model.fit(partial_X_train, partial_y_train,\n",
    "                    epochs=epochs, batch_size=512,\n",
    "                    validation_data=(x_val, y_val),\n",
    "                    verbose=1)\n",
    "\n",
    "LSTM_results = LSTM_model.evaluate(X_test, y_test, verbose = 2)\n",
    "print(LSTM_results)"
   ]
  },
  {
   "cell_type": "markdown",
   "metadata": {},
   "source": [
    "- LSTM     \n",
    "loss: 0.4022 - accuracy: 0.8505"
   ]
  },
  {
   "cell_type": "markdown",
   "metadata": {},
   "source": [
    "### 6) Loss, Accuracy 그래프 시각화"
   ]
  },
  {
   "cell_type": "code",
   "execution_count": 29,
   "metadata": {},
   "outputs": [
    {
     "name": "stdout",
     "output_type": "stream",
     "text": [
      "dict_keys(['loss', 'accuracy', 'val_loss', 'val_accuracy'])\n"
     ]
    }
   ],
   "source": [
    "history_dict = LSTM_history.history\n",
    "print(history_dict.keys()) # epoch에 따른 그래프를 그려볼 수 있는 항목들"
   ]
  },
  {
   "cell_type": "code",
   "execution_count": 30,
   "metadata": {},
   "outputs": [
    {
     "data": {
      "image/png": "[encoded data removed]",
      "text/plain": [
       "<Figure size 432x288 with 1 Axes>"
      ]
     },
     "metadata": {
      "needs_background": "light"
     },
     "output_type": "display_data"
    }
   ],
   "source": [
    "import matplotlib.pyplot as plt\n",
    "\n",
    "acc = history_dict['accuracy']\n",
    "val_acc = history_dict['val_accuracy']\n",
    "loss = history_dict['loss']\n",
    "val_loss = history_dict['val_loss']\n",
    "\n",
    "epochs = range(1, len(acc) + 1)\n",
    "\n",
    "# 빨간 실선으로 표시\n",
    "plt.plot(epochs, loss, 'r', label='Training loss')\n",
    "# 파란 실선으로 표시\n",
    "plt.plot(epochs, val_loss, 'b', label='Validation loss')\n",
    "plt.title('Training and validation loss')\n",
    "plt.xlabel('Epochs')\n",
    "plt.ylabel('Loss')\n",
    "plt.grid()\n",
    "plt.legend()\n",
    "\n",
    "plt.show()"
   ]
  },
  {
   "cell_type": "code",
   "execution_count": 31,
   "metadata": {},
   "outputs": [
    {
     "data": {
      "image/png": "[encoded data removed]",
      "text/plain": [
       "<Figure size 432x288 with 1 Axes>"
      ]
     },
     "metadata": {
      "needs_background": "light"
     },
     "output_type": "display_data"
    }
   ],
   "source": [
    "plt.clf() # 그림 초기화\n",
    "\n",
    "plt.plot(epochs, acc, 'bo', label='Training acc')\n",
    "plt.plot(epochs, val_acc, 'b', label='Validation acc')\n",
    "plt.title(\"Training and validation accuracy\")\n",
    "plt.xlabel('Epochs')\n",
    "plt.ylabel('Accuracy')\n",
    "plt.legend()\n",
    "\n",
    "plt.show()"
   ]
  },
  {
   "cell_type": "markdown",
   "metadata": {},
   "source": [
    "### 7) 학습된 Embedding 레이어 분석"
   ]
  },
  {
   "cell_type": "code",
   "execution_count": 32,
   "metadata": {},
   "outputs": [
    {
     "name": "stdout",
     "output_type": "stream",
     "text": [
      "(10000, 300)\n"
     ]
    }
   ],
   "source": [
    "embedding_layer = LSTM_model.layers[0]\n",
    "weights = embedding_layer.get_weights()[0]\n",
    "print(weights.shape)    # shape: (vocab_size, embedding_dim)"
   ]
  },
  {
   "cell_type": "code",
   "execution_count": 33,
   "metadata": {},
   "outputs": [],
   "source": [
    "import os\n",
    "\n",
    "# 학습한 Embedding 파라미터를 파일에 써서 저장\n",
    "word2vec_file_path = os.getenv('HOME')+'/aiffel/sentiment_classification/word2vec.txt'\n",
    "f = open(word2vec_file_path, 'w')\n",
    "f.write('{} {}\\n'.format(vocab_size-4, word_vector_dim)) # 몇개의 벡터를 얼마 사이즈로 기재할지 타이틀\n",
    "\n",
    "# 단어 개수(에서 특수문자 4개는 제외하고)만큼의 워드 벡터를 파일에 기록\n",
    "vectors = model.get_weights()[0]\n",
    "for i in range(4,vocab_size):\n",
    "    f.write('{} {}\\n'.format(index_to_word[i], ' '.join(map(str, list(vectors[i, :])))))\n",
    "f.close()"
   ]
  },
  {
   "cell_type": "code",
   "execution_count": 34,
   "metadata": {},
   "outputs": [],
   "source": [
    "from gensim.models.keyedvectors import Word2VecKeyedVectors\n",
    "\n",
    "word_vectors = Word2VecKeyedVectors.load_word2vec_format(word2vec_file_path, binary=False)\n",
    "vector = word_vectors['별로']"
   ]
  },
  {
   "cell_type": "code",
   "execution_count": 35,
   "metadata": {},
   "outputs": [
    {
     "data": {
      "text/plain": [
       "[('꺼버린', 0.7402714490890503),\n",
       " ('아녀', 0.7311161160469055),\n",
       " ('재미없', 0.7228334546089172),\n",
       " ('꺼버렸', 0.7174898386001587),\n",
       " ('돌렸', 0.7136139869689941),\n",
       " ('서프라이즈', 0.7053666114807129),\n",
       " ('전무', 0.7044374942779541),\n",
       " ('실망감', 0.7016404271125793),\n",
       " ('역겨웠', 0.7016103863716125),\n",
       " ('괴로웠', 0.6984685659408569)]"
      ]
     },
     "execution_count": 35,
     "metadata": {},
     "output_type": "execute_result"
    }
   ],
   "source": [
    "word_vectors.similar_by_word(\"별로\")"
   ]
  },
  {
   "cell_type": "markdown",
   "metadata": {},
   "source": [
    "'별로' 라는 단어와 가장 유사한 단어를 봤을때, 영화리뷰에서 볼 수 있는 부정적인 단어가 잘 나왔다."
   ]
  },
  {
   "cell_type": "markdown",
   "metadata": {},
   "source": [
    "### 8) 한국어 Word2Vec 임베딩 활용하여 성능개선"
   ]
  },
  {
   "cell_type": "code",
   "execution_count": 36,
   "metadata": {},
   "outputs": [],
   "source": [
    "word2vec_file_path = os.getenv('HOME')+'/aiffel/sentiment_classification/ko/ko.bin'"
   ]
  },
  {
   "cell_type": "code",
   "execution_count": 37,
   "metadata": {},
   "outputs": [],
   "source": [
    "from gensim.models import Word2Vec\n",
    "\n",
    "word2vec = Word2Vec.load(word2vec_file_path)"
   ]
  },
  {
   "cell_type": "code",
   "execution_count": 38,
   "metadata": {},
   "outputs": [
    {
     "name": "stderr",
     "output_type": "stream",
     "text": [
      "/home/aiffel0042/anaconda3/envs/aiffel/lib/python3.7/site-packages/ipykernel_launcher.py:1: DeprecationWarning: Call to deprecated `__getitem__` (Method will be removed in 4.0.0, use self.wv.__getitem__() instead).\n",
      "  \"\"\"Entry point for launching an IPython kernel.\n"
     ]
    },
    {
     "data": {
      "text/plain": [
       "array([ 1.68665443e-02,  9.18045640e-01, -7.20242500e-01, -6.83554351e-01,\n",
       "       -7.34229505e-01, -1.07350506e-01,  2.57092088e-01, -1.41239154e+00,\n",
       "       -3.28814447e-01, -6.70715988e-01, -4.99807000e-01, -5.01364708e-01,\n",
       "       -2.17055273e+00, -3.73479307e-01, -1.49181628e+00, -3.28086883e-01,\n",
       "        5.54419219e-01,  4.73109990e-01,  1.62339854e+00, -6.64335668e-01,\n",
       "       -8.94197702e-01, -1.89828143e-01, -1.38139045e+00,  6.56678617e-01,\n",
       "        2.29216886e+00, -4.25388277e-01, -2.65674204e-01,  1.07140839e-01,\n",
       "        9.34884489e-01, -1.97074771e+00, -4.77636695e-01, -9.96400058e-01,\n",
       "        3.80843103e-01,  1.03787982e+00, -1.42434752e+00,  1.64766729e+00,\n",
       "        2.95337319e-01, -5.24710536e-01,  3.63458037e-01, -5.67891061e-01,\n",
       "       -9.78340745e-01, -3.71020913e-01, -8.24937448e-02,  4.88069862e-01,\n",
       "       -1.22962976e+00,  7.26849496e-01,  2.58719295e-01, -8.65202069e-01,\n",
       "       -7.28265718e-02, -8.48643005e-01,  1.60336983e+00,  1.62154436e-01,\n",
       "       -2.55368757e+00, -3.70746516e-02, -7.83311352e-02, -1.51731682e+00,\n",
       "       -7.64623106e-01, -1.27176070e+00, -5.22221088e-01, -1.10697854e+00,\n",
       "       -1.57619223e-01, -7.82847047e-01, -1.11514293e-02,  2.35830951e+00,\n",
       "       -1.17364168e+00,  1.66366398e+00,  3.67301792e-01, -2.98671633e-01,\n",
       "        8.75041127e-01,  1.15134227e+00, -3.66483837e-01, -1.31443417e+00,\n",
       "        8.68321300e-01,  7.73890197e-01, -1.10330045e+00, -1.94183990e-01,\n",
       "       -1.34559309e+00,  1.22320712e+00, -4.10286218e-01, -2.54995966e+00,\n",
       "       -3.11724496e+00,  2.03615073e-02,  5.25303304e-01,  2.94679374e-01,\n",
       "        1.91410020e-01, -7.57272720e-01, -7.05856144e-01, -1.49671686e+00,\n",
       "        4.46927369e-01, -2.59455585e+00, -1.27275601e-01, -4.04211640e-01,\n",
       "        4.03566301e-01,  1.32924902e+00, -3.94985139e-01, -3.09850395e-01,\n",
       "        1.22373761e-03,  5.81449687e-01, -1.07691109e+00,  2.65410662e+00,\n",
       "       -2.88538069e-01,  6.76813185e-01,  2.93630391e-01, -3.15837422e-03,\n",
       "       -1.06359255e+00, -2.12030590e-01, -4.77621704e-01, -1.41031194e+00,\n",
       "        1.22918153e+00, -9.53732967e-01,  7.93629944e-01, -1.27157962e+00,\n",
       "        5.68866849e-01, -5.31466126e-01,  2.09907800e-01, -9.01350021e-01,\n",
       "       -8.16481948e-01,  6.81762755e-01, -6.09187484e-01,  1.24891177e-02,\n",
       "       -2.02209830e+00, -9.70905781e-01,  4.40694779e-01, -5.89017034e-01,\n",
       "        2.81692505e-01,  8.43683958e-01,  6.33361518e-01, -8.41784954e-01,\n",
       "        4.22654718e-01, -5.72565556e-01, -1.03238571e+00,  7.53931180e-02,\n",
       "        5.47522977e-02,  1.81334078e+00,  7.40662932e-01,  6.57323956e-01,\n",
       "        1.09829605e+00,  7.51961172e-02, -4.67363030e-01, -1.50497413e+00,\n",
       "       -4.10410166e-01, -4.23064411e-01, -5.37391663e-01, -8.16673934e-01,\n",
       "        9.37615812e-01,  8.32330048e-01,  6.94715738e-01,  2.70641357e-01,\n",
       "       -1.76658845e+00, -1.81683779e+00,  1.68887615e-01,  8.90764832e-01,\n",
       "       -3.24018672e-02,  8.99579048e-01, -7.76716709e-01, -3.61057483e-02,\n",
       "        3.32431465e-01,  5.09655416e-01, -6.59896255e-01,  1.80076778e-01,\n",
       "       -5.98040938e-01,  1.44652247e+00, -1.42451197e-01, -1.09784519e-02,\n",
       "       -9.40295234e-02,  5.24075627e-01,  3.15967202e-01,  1.79412410e-01,\n",
       "       -1.07398379e+00,  3.67717147e-01,  8.83746266e-01,  1.61843002e+00,\n",
       "       -6.44186318e-01, -8.79176259e-01,  1.23485291e+00,  7.06323504e-01,\n",
       "        3.30725163e-01,  4.50462312e-01,  1.27201796e+00, -4.10799861e-01,\n",
       "        3.99645984e-01,  7.76527047e-01,  6.01150453e-01,  9.15180027e-01,\n",
       "        1.07294536e+00, -9.69542265e-01, -8.86027575e-01, -2.54270464e-01,\n",
       "        7.42092013e-01,  2.23320916e-01,  3.45594473e-02,  4.78849299e-02,\n",
       "       -6.30145550e-01, -1.45021200e+00, -4.82154727e-01,  1.50492740e+00,\n",
       "       -1.46525756e-01,  2.06009459e+00,  6.90263927e-01, -6.01886570e-01],\n",
       "      dtype=float32)"
      ]
     },
     "execution_count": 38,
     "metadata": {},
     "output_type": "execute_result"
    }
   ],
   "source": [
    "vector = word2vec['별로']\n",
    "vector"
   ]
  },
  {
   "cell_type": "code",
   "execution_count": 39,
   "metadata": {},
   "outputs": [
    {
     "name": "stderr",
     "output_type": "stream",
     "text": [
      "/home/aiffel0042/anaconda3/envs/aiffel/lib/python3.7/site-packages/ipykernel_launcher.py:1: DeprecationWarning: Call to deprecated `__getitem__` (Method will be removed in 4.0.0, use self.wv.__getitem__() instead).\n",
      "  \"\"\"Entry point for launching an IPython kernel.\n"
     ]
    },
    {
     "data": {
      "text/plain": [
       "200"
      ]
     },
     "execution_count": 39,
     "metadata": {},
     "output_type": "execute_result"
    }
   ],
   "source": [
    "len(word2vec['별로'])"
   ]
  },
  {
   "cell_type": "code",
   "execution_count": 40,
   "metadata": {},
   "outputs": [
    {
     "name": "stderr",
     "output_type": "stream",
     "text": [
      "/home/aiffel0042/anaconda3/envs/aiffel/lib/python3.7/site-packages/ipykernel_launcher.py:8: DeprecationWarning: Call to deprecated `__contains__` (Method will be removed in 4.0.0, use self.wv.__contains__() instead).\n",
      "  \n",
      "/home/aiffel0042/anaconda3/envs/aiffel/lib/python3.7/site-packages/ipykernel_launcher.py:9: DeprecationWarning: Call to deprecated `__getitem__` (Method will be removed in 4.0.0, use self.wv.__getitem__() instead).\n",
      "  if __name__ == '__main__':\n"
     ]
    }
   ],
   "source": [
    "vocab_size = 10000    # 어휘 사전의 크기입니다(10,000개의 단어)\n",
    "word_vector_dim = 200  # 워드 벡터의 차원수 (변경가능한 하이퍼파라미터)\n",
    "\n",
    "embedding_matrix = np.random.rand(vocab_size, word_vector_dim)\n",
    "\n",
    "# embedding_matrix에 Word2Vec 워드벡터를 단어 하나씩마다 차례차례 카피한다.\n",
    "for i in range(4,vocab_size):\n",
    "    if index_to_word[i] in word2vec:\n",
    "        embedding_matrix[i] = word2vec[index_to_word[i]]"
   ]
  },
  {
   "cell_type": "code",
   "execution_count": 41,
   "metadata": {},
   "outputs": [
    {
     "data": {
      "text/plain": [
       "(10000, 200)"
      ]
     },
     "execution_count": 41,
     "metadata": {},
     "output_type": "execute_result"
    }
   ],
   "source": [
    "embedding_matrix.shape"
   ]
  },
  {
   "cell_type": "code",
   "execution_count": 50,
   "metadata": {},
   "outputs": [
    {
     "name": "stdout",
     "output_type": "stream",
     "text": [
      "Model: \"sequential_3\"\n",
      "_________________________________________________________________\n",
      "Layer (type)                 Output Shape              Param #   \n",
      "=================================================================\n",
      "embedding_6 (Embedding)      (None, 41, 200)           2000000   \n",
      "_________________________________________________________________\n",
      "lstm_3 (LSTM)                (None, 8)                 6688      \n",
      "_________________________________________________________________\n",
      "dense_12 (Dense)             (None, 8)                 72        \n",
      "_________________________________________________________________\n",
      "dense_13 (Dense)             (None, 1)                 9         \n",
      "=================================================================\n",
      "Total params: 2,006,769\n",
      "Trainable params: 2,006,769\n",
      "Non-trainable params: 0\n",
      "_________________________________________________________________\n"
     ]
    }
   ],
   "source": [
    "from tensorflow.keras.initializers import Constant\n",
    "\n",
    "# 모델 구성\n",
    "model = keras.Sequential()\n",
    "model.add(keras.layers.Embedding(vocab_size, \n",
    "                                 word_vector_dim, \n",
    "                                 embeddings_initializer=Constant(embedding_matrix),  # 카피한 임베딩을 여기서 활용\n",
    "                                 input_length=maxlen, \n",
    "                                 trainable=True))   # trainable을 True로 주면 Fine-tuning\n",
    "model.add(keras.layers.LSTM(8,dropout=0.7))\n",
    "model.add(keras.layers.Dense(8, activation='relu'))\n",
    "model.add(keras.layers.Dense(1, activation='sigmoid'))\n",
    "\n",
    "model.summary()"
   ]
  },
  {
   "cell_type": "code",
   "execution_count": 51,
   "metadata": {},
   "outputs": [
    {
     "name": "stdout",
     "output_type": "stream",
     "text": [
      "Epoch 1/10\n",
      "247/247 [==============================] - 5s 19ms/step - loss: 0.6935 - accuracy: 0.5013 - val_loss: 0.6918 - val_accuracy: 0.5036\n",
      "Epoch 2/10\n",
      "247/247 [==============================] - 5s 18ms/step - loss: 0.6926 - accuracy: 0.5044 - val_loss: 0.6909 - val_accuracy: 0.5120\n",
      "Epoch 3/10\n",
      "247/247 [==============================] - 5s 18ms/step - loss: 0.6814 - accuracy: 0.5446 - val_loss: 0.5976 - val_accuracy: 0.6956\n",
      "Epoch 4/10\n",
      "247/247 [==============================] - 5s 19ms/step - loss: 0.5650 - accuracy: 0.7118 - val_loss: 0.4616 - val_accuracy: 0.7930\n",
      "Epoch 5/10\n",
      "247/247 [==============================] - 5s 19ms/step - loss: 0.4883 - accuracy: 0.7690 - val_loss: 0.4194 - val_accuracy: 0.8170\n",
      "Epoch 6/10\n",
      "247/247 [==============================] - 5s 19ms/step - loss: 0.4525 - accuracy: 0.7923 - val_loss: 0.3952 - val_accuracy: 0.8278\n",
      "Epoch 7/10\n",
      "247/247 [==============================] - 5s 19ms/step - loss: 0.4323 - accuracy: 0.8025 - val_loss: 0.3808 - val_accuracy: 0.8349\n",
      "Epoch 8/10\n",
      "247/247 [==============================] - 5s 19ms/step - loss: 0.4149 - accuracy: 0.8128 - val_loss: 0.3725 - val_accuracy: 0.8372\n",
      "Epoch 9/10\n",
      "247/247 [==============================] - 5s 19ms/step - loss: 0.4031 - accuracy: 0.8190 - val_loss: 0.3639 - val_accuracy: 0.8421\n",
      "Epoch 10/10\n",
      "247/247 [==============================] - 5s 19ms/step - loss: 0.3931 - accuracy: 0.8243 - val_loss: 0.3592 - val_accuracy: 0.8453\n"
     ]
    }
   ],
   "source": [
    "# 모델 학습\n",
    "model.compile(optimizer = 'adam',\n",
    "             loss = 'binary_crossentropy', \n",
    "             metrics=['accuracy'])\n",
    "              \n",
    "epochs= 10\n",
    "history = model.fit(partial_X_train, partial_y_train,\n",
    "                    epochs=epochs, batch_size=512,\n",
    "                    validation_data=(x_val, y_val),\n",
    "                    verbose=1)"
   ]
  },
  {
   "cell_type": "code",
   "execution_count": 52,
   "metadata": {},
   "outputs": [
    {
     "name": "stdout",
     "output_type": "stream",
     "text": [
      "1537/1537 - 2s - loss: 0.3682 - accuracy: 0.8401\n",
      "[0.3681723177433014, 0.8400634527206421]\n"
     ]
    }
   ],
   "source": [
    "# 모델 평가\n",
    "results = model.evaluate(X_test,  y_test, verbose=2)\n",
    "\n",
    "print(results)"
   ]
  },
  {
   "cell_type": "markdown",
   "metadata": {},
   "source": [
    "- LSTM >> loss: 0.4022 - accuracy: 0.8505\n",
    "- 한국어 Word2Vec 임베딩을 활용후 loss: 0.3682 - accuracy: 0.8401    \n",
    "\n",
    "- #### acc가 오르지 않았지만, loss가 많이 떨어졌다."
   ]
  },
  {
   "cell_type": "code",
   "execution_count": 53,
   "metadata": {},
   "outputs": [
    {
     "name": "stdout",
     "output_type": "stream",
     "text": [
      "dict_keys(['loss', 'accuracy', 'val_loss', 'val_accuracy'])\n"
     ]
    },
    {
     "data": {
      "image/png": "[encoded data removed]",
      "text/plain": [
       "<Figure size 432x288 with 1 Axes>"
      ]
     },
     "metadata": {
      "needs_background": "light"
     },
     "output_type": "display_data"
    }
   ],
   "source": [
    "history_dict = history.history\n",
    "print(history_dict.keys())\n",
    "\n",
    "acc = history_dict['accuracy']\n",
    "val_acc = history_dict['val_accuracy']\n",
    "loss = history_dict['loss']\n",
    "val_loss = history_dict['val_loss']\n",
    "\n",
    "epochs = range(1, len(acc) + 1)\n",
    "\n",
    "# 빨간 실선으로 표시\n",
    "plt.plot(epochs, loss, 'r', label='Training loss')\n",
    "# 파란 실선으로 표시\n",
    "plt.plot(epochs, val_loss, 'b', label='Validation loss')\n",
    "plt.title('Training and validation loss')\n",
    "plt.xlabel('Epochs')\n",
    "plt.ylabel('Loss')\n",
    "plt.grid()\n",
    "plt.legend()\n",
    "\n",
    "plt.show()"
   ]
  },
  {
   "cell_type": "code",
   "execution_count": 54,
   "metadata": {},
   "outputs": [
    {
     "data": {
      "image/png": "[encoded data removed]",
      "text/plain": [
       "<Figure size 432x288 with 1 Axes>"
      ]
     },
     "metadata": {
      "needs_background": "light"
     },
     "output_type": "display_data"
    }
   ],
   "source": [
    "plt.clf() # 그림 초기화\n",
    "\n",
    "plt.plot(epochs, acc, 'bo', label='Training acc')\n",
    "plt.plot(epochs, val_acc, 'b', label='Validation acc')\n",
    "plt.title(\"Training and validation accuracy\")\n",
    "plt.xlabel('Epochs')\n",
    "plt.ylabel('Accuracy')\n",
    "plt.legend()\n",
    "\n",
    "plt.show()"
   ]
  },
  {
   "cell_type": "markdown",
   "metadata": {},
   "source": [
    "pre-trained word2vec를 사용하기 전의 그래프와 비교해보면 보다 안정적이다.    \n",
    "사전학습된 워드임베딩 적용하기 전의 그래프를 살펴보면 epoch 수를 늘여도,    \n",
    "train data는 오버피팅현상이 나타났고 validation의 acc는 변동이없었고, loss는 증가됐었다.    \n",
    "사전학습된 워드임베딩 적용 후, train과 validation의 그래프가 같은 방향으로 안정적으로 그려졌다."
   ]
  },
  {
   "cell_type": "code",
   "execution_count": null,
   "metadata": {},
   "outputs": [],
   "source": []
  },
  {
   "cell_type": "code",
   "execution_count": null,
   "metadata": {},
   "outputs": [],
   "source": []
  }
 ],
 "metadata": {
  "kernelspec": {
   "display_name": "aiffel",
   "language": "python",
   "name": "aiffel"
  },
  "language_info": {
   "codemirror_mode": {
    "name": "ipython",
    "version": 3
   },
   "file_extension": ".py",
   "mimetype": "text/x-python",
   "name": "python",
   "nbconvert_exporter": "python",
   "pygments_lexer": "ipython3",
   "version": "3.7.6"
  }
 },
 "nbformat": 4,
 "nbformat_minor": 4
}
